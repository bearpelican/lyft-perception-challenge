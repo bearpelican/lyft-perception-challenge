{
 "cells": [
  {
   "cell_type": "code",
   "execution_count": 2,
   "metadata": {},
   "outputs": [],
   "source": [
    "%matplotlib inline\n",
    "%reload_ext autoreload\n",
    "%autoreload 2"
   ]
  },
  {
   "cell_type": "code",
   "execution_count": 3,
   "metadata": {},
   "outputs": [],
   "source": [
    "from fastai.conv_learner import *\n",
    "from fastai.dataset import *\n",
    "from fastai.models.resnet import vgg_resnet50\n",
    "\n",
    "import json\n",
    "from glob import glob\n",
    "import shutil"
   ]
  },
  {
   "cell_type": "code",
   "execution_count": 4,
   "metadata": {},
   "outputs": [],
   "source": [
    "torch.backends.cudnn.benchmark=True"
   ]
  },
  {
   "cell_type": "markdown",
   "metadata": {},
   "source": [
    "## Data"
   ]
  },
  {
   "cell_type": "code",
   "execution_count": null,
   "metadata": {},
   "outputs": [],
   "source": [
    "TRAIN_PATH = Path('../data/CarlaTrain')\n",
    "CARLA_1_PATH = Path('../data/Carla1')\n",
    "CARLA_2_PATH = Path('../data/Carla2')\n",
    "CARLA_3_PATH = Path('../data/Carla3')\n",
    "CARLA_4_PATH = Path('../data/Carla4')\n",
    "CARLA_5_PATH = Path('../data/Carla5')\n",
    "ALL_PATH = Path('../data/all')"
   ]
  },
  {
   "cell_type": "code",
   "execution_count": null,
   "metadata": {},
   "outputs": [],
   "source": [
    "TRAIN_DN = 'CameraRGB'\n",
    "MASKS_DN = 'CameraSeg'"
   ]
  },
  {
   "cell_type": "code",
   "execution_count": null,
   "metadata": {},
   "outputs": [],
   "source": [
    "(ALL_PATH/TRAIN_DN).mkdir(exist_ok=True)\n",
    "(ALL_PATH/MASKS_DN).mkdir(exist_ok=True)"
   ]
  },
  {
   "cell_type": "code",
   "execution_count": null,
   "metadata": {},
   "outputs": [],
   "source": [
    "len(glob(str(ALL_PATH/TRAIN_DN/'*.png'))), len(glob(str(ALL_PATH/MASKS_DN/'*.png')))"
   ]
  },
  {
   "cell_type": "markdown",
   "metadata": {},
   "source": [
    "### C1, Train"
   ]
  },
  {
   "cell_type": "code",
   "execution_count": null,
   "metadata": {},
   "outputs": [],
   "source": [
    "c_names = glob(str(CARLA_1_PATH/'*/*/*.png'))\n",
    "for f in c_names:\n",
    "    f_pt = Path(f).parts\n",
    "    fn = f_pt[-1]\n",
    "    skip = int(fn[-5])%4 != 0\n",
    "    if skip: continue\n",
    "    targ_path = ALL_PATH/f_pt[4]/('c1_'+f_pt[3]+'_'+f_pt[-1])\n",
    "    shutil.copy2(f, str(targ_path))"
   ]
  },
  {
   "cell_type": "code",
   "execution_count": null,
   "metadata": {},
   "outputs": [],
   "source": [
    "t_names = glob(str(TRAIN_PATH/TRAIN_DN/'*.png')) + glob(str(TRAIN_PATH/MASKS_DN/'*.png'))\n",
    "for f in t_names:\n",
    "    f_pt = Path(f).parts\n",
    "    fn = f_pt[-1]\n",
    "    skip = int(fn[-5])%2 != 0\n",
    "    if skip: continue\n",
    "    targ_path = ALL_PATH/f_pt[3]/(f_pt[2]+'_'+f_pt[-1])\n",
    "    shutil.copy2(f, str(targ_path))"
   ]
  },
  {
   "cell_type": "markdown",
   "metadata": {},
   "source": [
    "### Carla 2"
   ]
  },
  {
   "cell_type": "code",
   "execution_count": null,
   "metadata": {},
   "outputs": [],
   "source": [
    "c_names = glob(str(CARLA_2_PATH/'*/*/*.png'))\n",
    "for f in c_names:\n",
    "    f_pt = Path(f).parts\n",
    "    fn = f_pt[-1]\n",
    "    skip = int(fn[-5])%4 != 0\n",
    "    if skip: continue\n",
    "    targ_path = ALL_PATH/f_pt[4]/('c2_'+f_pt[3]+'_'+f_pt[-1])\n",
    "#     print(targ_path)\n",
    "    shutil.copy2(f, str(targ_path))"
   ]
  },
  {
   "cell_type": "markdown",
   "metadata": {},
   "source": [
    "### Carla 3"
   ]
  },
  {
   "cell_type": "code",
   "execution_count": null,
   "metadata": {},
   "outputs": [],
   "source": [
    "c3_names = glob(str(CARLA_3_PATH/TRAIN_DN/'*.png')) + glob(str(CARLA_3_PATH/MASKS_DN/'*.png'))\n",
    "for f in c3_names:\n",
    "    f_pt = Path(f).parts\n",
    "    fn = f_pt[-1]\n",
    "    targ_path = ALL_PATH/f_pt[3]/f_pt[-1]\n",
    "    skip = int(fn[-5])%4 != 0\n",
    "    if skip: continue\n",
    "#     print(targ_path)\n",
    "    shutil.copy2(f, str(targ_path))"
   ]
  },
  {
   "cell_type": "markdown",
   "metadata": {},
   "source": [
    "### Carla 4, 5"
   ]
  },
  {
   "cell_type": "code",
   "execution_count": null,
   "metadata": {},
   "outputs": [],
   "source": [
    "c_names = glob(str(CARLA_4_PATH/'*/*/*.png'))\n",
    "for f in c_names:\n",
    "    f_pt = Path(f).parts\n",
    "    fn = f_pt[-1]\n",
    "    skip = int(fn[-5])%4 != 0\n",
    "    if skip: continue\n",
    "    targ_path = ALL_PATH/f_pt[4]/('c4_'+f_pt[3]+'_'+f_pt[-1])\n",
    "#     print(targ_path)\n",
    "    shutil.copy2(f, str(targ_path))"
   ]
  },
  {
   "cell_type": "code",
   "execution_count": null,
   "metadata": {},
   "outputs": [],
   "source": [
    "c_names = glob(str(CARLA_4_PATH/'*/*/*.png'))\n",
    "for f in c_names:\n",
    "    f_pt = Path(f).parts\n",
    "    fn = f_pt[-1]\n",
    "    skip = int(fn[-5])%4 != 0\n",
    "    if skip: continue\n",
    "    targ_path = ALL_PATH/f_pt[4]/('c5_'+f_pt[3]+'_'+f_pt[-1])\n",
    "#     print(targ_path)\n",
    "    shutil.copy2(f, str(targ_path))"
   ]
  },
  {
   "cell_type": "code",
   "execution_count": null,
   "metadata": {},
   "outputs": [],
   "source": [
    "len(glob(str(ALL_PATH/(TRAIN_DN)/'*.png'))), len(glob(str(ALL_PATH/MASKS_DN/'*.png')))"
   ]
  },
  {
   "cell_type": "code",
   "execution_count": null,
   "metadata": {},
   "outputs": [],
   "source": [
    "def show_img(im, figsize=None, ax=None, alpha=None):\n",
    "    if not ax: fig,ax = plt.subplots(figsize=figsize)\n",
    "    ax.imshow(im, alpha=alpha)\n",
    "    ax.set_axis_off()\n",
    "    return ax"
   ]
  },
  {
   "cell_type": "markdown",
   "metadata": {},
   "source": [
    "### Resize images"
   ]
  },
  {
   "cell_type": "code",
   "execution_count": null,
   "metadata": {},
   "outputs": [],
   "source": [
    "TRAIN_DN = 'CameraRGB'\n",
    "MASKS_DN = 'CameraSeg'\n",
    "sz = 300\n",
    "ratio = 4/3"
   ]
  },
  {
   "cell_type": "code",
   "execution_count": null,
   "metadata": {},
   "outputs": [],
   "source": [
    "(ALL_PATH/f'{MASKS_DN}-{sz}').mkdir(exist_ok=True)"
   ]
  },
  {
   "cell_type": "code",
   "execution_count": null,
   "metadata": {},
   "outputs": [],
   "source": [
    "def resize_mask(fn):\n",
    "    Image.open(fn).resize((int(sz*ratio),sz)).save((fn.parent.parent)/f'{MASKS_DN}-{sz}'/fn.name)\n",
    "\n",
    "files = list((ALL_PATH/MASKS_DN).iterdir())\n",
    "with ThreadPoolExecutor(8) as e: e.map(resize_mask, files)"
   ]
  },
  {
   "cell_type": "code",
   "execution_count": null,
   "metadata": {},
   "outputs": [],
   "source": [
    "(ALL_PATH/f'{TRAIN_DN}-{sz}').mkdir(exist_ok=True)"
   ]
  },
  {
   "cell_type": "code",
   "execution_count": null,
   "metadata": {},
   "outputs": [],
   "source": [
    "def resize_img(fn):\n",
    "    Image.open(fn).resize((int(sz*ratio),sz)).save((fn.parent.parent)/f'{TRAIN_DN}-{sz}'/fn.name)\n",
    "\n",
    "files = list((ALL_PATH/TRAIN_DN).iterdir())\n",
    "with ThreadPoolExecutor(8) as e: e.map(resize_img, files)"
   ]
  },
  {
   "cell_type": "code",
   "execution_count": null,
   "metadata": {},
   "outputs": [],
   "source": [
    "len(glob(str(ALL_PATH/(TRAIN_DN+'-150')/'*.png'))), len(glob(str(ALL_PATH/(MASKS_DN+'-300')/'*.png')))"
   ]
  },
  {
   "cell_type": "markdown",
   "metadata": {},
   "source": [
    "### Create Prediction images from Test Data"
   ]
  },
  {
   "cell_type": "code",
   "execution_count": 10,
   "metadata": {},
   "outputs": [],
   "source": [
    "TEST_PATH = Path('../data/TestData')\n",
    "TRAIN_DN = 'CameraRGB'\n",
    "MASKS_DN = 'CameraSeg'"
   ]
  },
  {
   "cell_type": "code",
   "execution_count": null,
   "metadata": {},
   "outputs": [],
   "source": [
    "pths = glob(str(ALL_PATH/(TRAIN_DN)/'*.png'))"
   ]
  },
  {
   "cell_type": "code",
   "execution_count": null,
   "metadata": {},
   "outputs": [],
   "source": [
    "pth = pths[0]"
   ]
  },
  {
   "cell_type": "code",
   "execution_count": null,
   "metadata": {},
   "outputs": [],
   "source": [
    "plt.imread(str(pth)).shape"
   ]
  },
  {
   "cell_type": "code",
   "execution_count": null,
   "metadata": {},
   "outputs": [],
   "source": [
    "plt.imshow(plt.imread(str(pth)))"
   ]
  },
  {
   "cell_type": "code",
   "execution_count": 1,
   "metadata": {},
   "outputs": [],
   "source": [
    "import sys, skvideo.io, json, base64\n",
    "import numpy as np\n",
    "from PIL import Image\n",
    "from io import BytesIO, StringIO\n",
    "from pathlib import Path\n",
    "import json\n",
    "import torch\n",
    "import torch.nn as nn\n",
    "import torch.nn.functional as F\n",
    "from torchvision.models import resnet18, resnet34, resnet50, resnet101, resnet152, vgg11_bn\n",
    "torch.backends.cudnn.benchmark=True\n",
    "\n",
    "# ## Models\n",
    "class SaveFeatures():\n",
    "    features=None\n",
    "    def __init__(self, m): self.hook = m.register_forward_hook(self.hook_fn)\n",
    "    def hook_fn(self, module, input, output): self.features = output\n",
    "    def remove(self): self.hook.remove()\n",
    "\n",
    "class UnetBlock(nn.Module):\n",
    "    def __init__(self, up_in, x_in, n_out):\n",
    "        super().__init__()\n",
    "        up_out = x_out = n_out//2\n",
    "        self.x_conv  = nn.Conv2d(x_in,  x_out,  1)\n",
    "        self.tr_conv = nn.ConvTranspose2d(up_in, up_out, 2, stride=2)\n",
    "        self.bn = nn.BatchNorm2d(n_out)\n",
    "        \n",
    "    def forward(self, up_p, x_p):\n",
    "        up_p = self.tr_conv(up_p)\n",
    "        x_p = self.x_conv(x_p)\n",
    "        cat_p = torch.cat([up_p,x_p], dim=1)\n",
    "        return self.bn(F.relu(cat_p, inplace=True))\n",
    "    \n",
    "class Unet34(nn.Module):\n",
    "    def __init__(self, f=resnet34):\n",
    "        super().__init__()\n",
    "        m_base, lr_cut = get_base(f)\n",
    "        self.rn = m_base\n",
    "        self.lr_cut = lr_cut\n",
    "        self.sfs = [SaveFeatures(self.rn[i]) for i in [2,4,5,6]]\n",
    "        self.up1 = UnetBlock(512,256,256)\n",
    "        self.up2 = UnetBlock(256,128,256)\n",
    "        self.up3 = UnetBlock(256,64,256)\n",
    "        self.up4 = UnetBlock(256,64,256)\n",
    "        self.up5 = UnetBlock(256,3,16)\n",
    "        self.up6 = nn.ConvTranspose2d(16, 3, 1)\n",
    "        \n",
    "    def forward(self,x):\n",
    "        inp = x\n",
    "        x = F.relu(self.rn(x), inplace=True)\n",
    "        x = self.up1(x, self.sfs[3].features)\n",
    "        x = self.up2(x, self.sfs[2].features)\n",
    "        x = self.up3(x, self.sfs[1].features)\n",
    "        x = self.up4(x, self.sfs[0].features)\n",
    "        x = self.up5(x, inp)\n",
    "        x = self.up6(x)\n",
    "        return torch.squeeze(x)\n",
    "    \n",
    "    def close(self):\n",
    "        for sf in self.sfs: sf.remove()\n",
    "            \n",
    "class UnetModel():\n",
    "    def __init__(self,model,name='unet'):\n",
    "        self.model,self.name = model,name\n",
    "\n",
    "    def get_layer_groups(self, precompute):\n",
    "        if isinstance(self.model, FP16):\n",
    "            model = self.model.module\n",
    "        else:\n",
    "            model = self.model\n",
    "        lgs = list(split_by_idxs(children(model.rn), [model.lr_cut]))\n",
    "#         print('LGS:', lgs)\n",
    "#         print('Add:', children(model)[1:])\n",
    "        return lgs + [children(model)[1:]]\n",
    "\n",
    "def cut_model(m, cut):\n",
    "    return list(m.children())[:cut] if cut else [m]\n",
    "\n",
    "def get_base(f):\n",
    "    cut,lr_cut = model_meta[f]\n",
    "    layers = cut_model(f(True), cut)\n",
    "    return nn.Sequential(*layers), lr_cut\n",
    "\n",
    "model_meta = {\n",
    "    resnet18:[8,6], resnet34:[8,6], resnet50:[8,6], resnet101:[8,6], resnet152:[8,6]\n",
    "}\n",
    "\n",
    "\n",
    "class FP16(nn.Module):\n",
    "    def __init__(self, module): \n",
    "        super(FP16, self).__init__()\n",
    "        self.module = batchnorm_to_fp32(module.half())\n",
    "        \n",
    "    def forward(self, input): \n",
    "        return self.module(input.half())\n",
    "    \n",
    "    def load_state_dict(self, *inputs, **kwargs):\n",
    "        self.module.load_state_dict(*inputs, **kwargs)\n",
    "\n",
    "    def state_dict(self, *inputs, **kwargs):\n",
    "        return self.module.state_dict(*inputs, **kwargs)\n",
    "    \n",
    "def batchnorm_to_fp32(module):\n",
    "    '''\n",
    "    BatchNorm layers to have parameters in single precision.\n",
    "    Find all layers and convert them back to float. This can't\n",
    "    be done with built in .apply as that function will apply\n",
    "    fn to all modules, parameters, and buffers. Thus we wouldn't\n",
    "    be able to guard the float conversion based on the module type.\n",
    "    '''\n",
    "    if isinstance(module, nn.modules.batchnorm._BatchNorm):\n",
    "        module.float()\n",
    "    for child in module.children():\n",
    "        batchnorm_to_fp32(child)\n",
    "    return module\n",
    "\n",
    "# Load model\n",
    "m = Unet34()"
   ]
  },
  {
   "cell_type": "code",
   "execution_count": 2,
   "metadata": {},
   "outputs": [
    {
     "data": {
      "text/plain": [
       "0"
      ]
     },
     "execution_count": 2,
     "metadata": {},
     "output_type": "execute_result"
    }
   ],
   "source": [
    "cuda_enabled = torch.cuda.is_available()\n",
    "model_path = str('../data/all/models/600urn-19-weights-26-r7.h5')\n",
    "if cuda_enabled:\n",
    "    m = FP16(m).cuda().half()\n",
    "    m.load_state_dict(torch.load(model_path))\n",
    "else:\n",
    "    m.load_state_dict(torch.load(model_path, map_location=lambda storage, loc: storage))\n",
    "\n",
    "\n",
    "# Process video\n",
    "# file = sys.argv[-1]\n",
    "file = '../data/outputvideo.mp4'\n",
    "\n",
    "if file == 'demo.py':\n",
    "  print (\"Error loading video\")\n",
    "  quit\n",
    "\n",
    "# Define encoder function\n",
    "def encode(array):\n",
    "\tpil_img = Image.fromarray(array)\n",
    "\tbuff = BytesIO()\n",
    "\tpil_img.save(buff, format=\"PNG\")\n",
    "\treturn base64.b64encode(buff.getvalue()).decode(\"utf-8\")\n",
    "\n",
    "video = skvideo.io.vread(file)\n",
    "\n",
    "imagenet_stats = torch.cuda.FloatTensor([[0.485, 0.456, 0.406], [0.229, 0.224, 0.225]])\n",
    "def normalize(x):\n",
    "    if x.mean() > 1:\n",
    "        x.div_(255.0)\n",
    "    m,s = imagenet_stats\n",
    "    x.sub_(m.view(-1, 1, 1))\n",
    "    x.div_(s.view(-1, 1, 1))\n",
    "    return x\n",
    "\n",
    "def crop_bg(x):\n",
    "    # Original\n",
    "    h = x.shape[2]\n",
    "    top = int(h/3.75)\n",
    "    bot = int(h*.9 + h/150)\n",
    "    return x[:,:,top:bot,:]\n",
    "\n",
    "def pad(x):\n",
    "    # Original\n",
    "    b,c,w,h = x.shape\n",
    "    if h%32 == 0:\n",
    "        return x, 0\n",
    "    pad_right=32-h%32\n",
    "    if pad_right:\n",
    "        x = F.pad(x, (0,pad_right,0,0), 'constant', 0)\n",
    "    return x, pad_right\n",
    "    \n",
    "def undo(idx):\n",
    "    idx\n",
    "    idx = F.pad(idx, (0,0,226,54), \"constant\", 0)\n",
    "\n",
    "def preprocess(video):\n",
    "#     f1 = video[:,200:520,:,:]\n",
    "    f1 = np.rollaxis(video, 3, 1)\n",
    "    f1 = torch.from_numpy(f1).float().cuda()\n",
    "    f1 = crop_bg(f1)\n",
    "    f1 = normalize(f1)\n",
    "    return f1.contiguous()\n",
    "\n",
    "video_p = preprocess(video)\n",
    "answer_key = {}\n",
    "bs = 8\n",
    "\n",
    "import gc\n",
    "gc.collect()"
   ]
  },
  {
   "cell_type": "code",
   "execution_count": 3,
   "metadata": {},
   "outputs": [
    {
     "data": {
      "text/plain": [
       "(1000, 600, 800, 3)"
      ]
     },
     "execution_count": 3,
     "metadata": {},
     "output_type": "execute_result"
    }
   ],
   "source": [
    "video.shape"
   ]
  },
  {
   "cell_type": "code",
   "execution_count": 6,
   "metadata": {},
   "outputs": [],
   "source": [
    "VEHICLES=10\n",
    "ROADS=7\n",
    "ROAD_LINES=6"
   ]
  },
  {
   "cell_type": "code",
   "execution_count": 9,
   "metadata": {},
   "outputs": [],
   "source": [
    "import scipy"
   ]
  },
  {
   "cell_type": "code",
   "execution_count": null,
   "metadata": {},
   "outputs": [
    {
     "name": "stderr",
     "output_type": "stream",
     "text": [
      "/home/paperspace/anaconda3/envs/lyft/lib/python3.6/site-packages/ipykernel_launcher.py:30: DeprecationWarning: `imsave` is deprecated!\n",
      "`imsave` is deprecated in SciPy 1.0.0, and will be removed in 1.2.0.\n",
      "Use ``imageio.imwrite`` instead.\n",
      "/home/paperspace/anaconda3/envs/lyft/lib/python3.6/site-packages/ipykernel_launcher.py:31: DeprecationWarning: `imsave` is deprecated!\n",
      "`imsave` is deprecated in SciPy 1.0.0, and will be removed in 1.2.0.\n",
      "Use ``imageio.imwrite`` instead.\n"
     ]
    }
   ],
   "source": [
    "for i in range(0,video_p.shape[0],bs):\n",
    "    x = video_p[i:i+bs]\n",
    "    \n",
    "    x,p = pad(x)\n",
    "    preds = m(torch.autograd.Variable(x))\n",
    "    mx,idx = torch.max(preds, 1)\n",
    "    \n",
    "    if p > 0:\n",
    "        idx = idx[:,:,:-p]\n",
    "    idx = F.pad(idx, (0,0,160,56), \"constant\", 0)\n",
    "    \n",
    "    # Frame numbering starts at 1\n",
    "    frame_idx = i\n",
    "    for frame in idx:\n",
    "        # Look for red cars :)\n",
    "        frame = frame.data.cpu().numpy()\n",
    "        \n",
    "        video_f = video[frame_idx]\n",
    "        res = np.zeros_like(video_f, dtype=int)\n",
    "        res[(frame==1)] = VEHICLES\n",
    "        res[(frame==2)] = ROADS\n",
    "        \n",
    "#         binary_car_result = (frame==1).astype('uint8')\n",
    "\n",
    "        # Look for road :)\n",
    "#         binary_road_result = (frame==2).astype('uint8')\n",
    "\n",
    "#         answer_key[frame_idx] = [encode(binary_car_result), encode(binary_road_result)]\n",
    "        \n",
    "        scipy.misc.imsave(TEST_PATH/MASKS_DN/f'{frame_idx}.png', res)\n",
    "        scipy.misc.imsave(TEST_PATH/TRAIN_DN/f'{frame_idx}.png', video_f)\n",
    "\n",
    "        # Increment frame\n",
    "        frame_idx+=1\n",
    "        \n",
    "\n",
    "# Print output in proper json format\n",
    "# print (json.dumps(answer_key))\n",
    "\n",
    "# rlist = []\n",
    "# for frame in range(1,len(ans_data.keys())+1):\n",
    "#     res = np.zeros_like(video[frame])\n",
    "#     c = decode(ans_data[str(frame)][0])\n",
    "#     r = decode(ans_data[str(frame)][1])\n",
    "#     res[c==True] = VEHICLES\n",
    "#     res[r==True] = ROADS\n",
    "#     rlist.append(res)\n",
    "#     scipy.misc.imsave(DATA_PATH/f'AnswersSeg/{frame-1}.png', res)\n",
    "#     scipy.misc.imsave(DATA_PATH/f'AnswersRGB/{frame-1}.png', video[frame])"
   ]
  },
  {
   "cell_type": "code",
   "execution_count": 7,
   "metadata": {},
   "outputs": [],
   "source": [
    "import matplotlib.pyplot as plt"
   ]
  },
  {
   "cell_type": "code",
   "execution_count": 11,
   "metadata": {},
   "outputs": [
    {
     "data": {
      "text/plain": [
       "<matplotlib.image.AxesImage at 0x7f43e65398d0>"
      ]
     },
     "execution_count": 11,
     "metadata": {},
     "output_type": "execute_result"
    },
    {
     "data": {
      "image/png": "[encoded data removed]",
      "text/plain": [
       "<Figure size 432x288 with 1 Axes>"
      ]
     },
     "metadata": {},
     "output_type": "display_data"
    }
   ],
   "source": [
    "plt.imshow(plt.imread(str(TEST_PATH/TRAIN_DN/'0.png')))"
   ]
  },
  {
   "cell_type": "code",
   "execution_count": 13,
   "metadata": {},
   "outputs": [
    {
     "data": {
      "text/plain": [
       "<matplotlib.image.AxesImage at 0x7f43e6aa2780>"
      ]
     },
     "execution_count": 13,
     "metadata": {},
     "output_type": "execute_result"
    },
    {
     "data": {
      "image/png": "[encoded data removed]",
      "text/plain": [
       "<Figure size 432x288 with 1 Axes>"
      ]
     },
     "metadata": {},
     "output_type": "display_data"
    }
   ],
   "source": [
    "plt.imshow(plt.imread(str(TEST_PATH/MASKS_DN/'0.png'))[:,:,0])"
   ]
  },
  {
   "cell_type": "markdown",
   "metadata": {},
   "source": [
    "### Resize Test data"
   ]
  },
  {
   "cell_type": "code",
   "execution_count": 19,
   "metadata": {},
   "outputs": [],
   "source": [
    "TRAIN_DN = 'CameraRGB'\n",
    "MASKS_DN = 'CameraSeg'\n",
    "sz = 150\n",
    "ratio = 4/3"
   ]
  },
  {
   "cell_type": "code",
   "execution_count": 20,
   "metadata": {},
   "outputs": [],
   "source": [
    "(TEST_PATH/f'{MASKS_DN}-{sz}').mkdir(exist_ok=True)"
   ]
  },
  {
   "cell_type": "code",
   "execution_count": 21,
   "metadata": {},
   "outputs": [],
   "source": [
    "def resize_mask(fn):\n",
    "    Image.open(fn).resize((int(sz*ratio),sz)).save((fn.parent.parent)/f'{MASKS_DN}-{sz}'/fn.name)\n",
    "\n",
    "files = list((TEST_PATH/MASKS_DN).iterdir())\n",
    "with ThreadPoolExecutor(8) as e: e.map(resize_mask, files)"
   ]
  },
  {
   "cell_type": "code",
   "execution_count": 22,
   "metadata": {},
   "outputs": [],
   "source": [
    "(TEST_PATH/f'{TRAIN_DN}-{sz}').mkdir(exist_ok=True)"
   ]
  },
  {
   "cell_type": "code",
   "execution_count": 23,
   "metadata": {},
   "outputs": [],
   "source": [
    "def resize_img(fn):\n",
    "    Image.open(fn).resize((int(sz*ratio),sz)).save((fn.parent.parent)/f'{TRAIN_DN}-{sz}'/fn.name)\n",
    "\n",
    "files = list((TEST_PATH/TRAIN_DN).iterdir())\n",
    "with ThreadPoolExecutor(8) as e: e.map(resize_img, files)"
   ]
  },
  {
   "cell_type": "code",
   "execution_count": 24,
   "metadata": {},
   "outputs": [
    {
     "data": {
      "text/plain": [
       "(1000, 1000)"
      ]
     },
     "execution_count": 24,
     "metadata": {},
     "output_type": "execute_result"
    }
   ],
   "source": [
    "len(glob(str(TEST_PATH/(TRAIN_DN+'-150')/'*.png'))), len(glob(str(TEST_PATH/(MASKS_DN+'-300')/'*.png')))"
   ]
  },
  {
   "cell_type": "code",
   "execution_count": null,
   "metadata": {},
   "outputs": [],
   "source": []
  }
 ],
 "metadata": {
  "kernelspec": {
   "display_name": "Python 3",
   "language": "python",
   "name": "python3"
  },
  "language_info": {
   "codemirror_mode": {
    "name": "ipython",
    "version": 3
   },
   "file_extension": ".py",
   "mimetype": "text/x-python",
   "name": "python",
   "nbconvert_exporter": "python",
   "pygments_lexer": "ipython3",
   "version": "3.6.5"
  },
  "toc": {
   "colors": {
    "hover_highlight": "#DAA520",
    "navigate_num": "#000000",
    "navigate_text": "#333333",
    "running_highlight": "#FF0000",
    "selected_highlight": "#FFD700",
    "sidebar_border": "#EEEEEE",
    "wrapper_background": "#FFFFFF"
   },
   "moveMenuLeft": true,
   "nav_menu": {
    "height": "86px",
    "width": "252px"
   },
   "navigate_menu": true,
   "number_sections": true,
   "sideBar": true,
   "threshold": 4,
   "toc_cell": false,
   "toc_section_display": "block",
   "toc_window_display": false,
   "widenNotebook": false
  }
 },
 "nbformat": 4,
 "nbformat_minor": 2
}
