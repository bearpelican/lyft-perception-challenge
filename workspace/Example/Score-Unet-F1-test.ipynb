{
 "cells": [
  {
   "cell_type": "code",
   "execution_count": 66,
   "metadata": {},
   "outputs": [],
   "source": [
    "import sys\n",
    "import json\n",
    "import base64\n",
    "import numpy as np\n",
    "from scipy import misc"
   ]
  },
  {
   "cell_type": "code",
   "execution_count": 67,
   "metadata": {},
   "outputs": [],
   "source": [
    "from pathlib import Path"
   ]
  },
  {
   "cell_type": "code",
   "execution_count": 68,
   "metadata": {},
   "outputs": [],
   "source": [
    "PATH = Path.cwd()"
   ]
  },
  {
   "cell_type": "code",
   "execution_count": 69,
   "metadata": {},
   "outputs": [
    {
     "data": {
      "text/plain": [
       "PosixPath('/home/paperspace')"
      ]
     },
     "execution_count": 69,
     "metadata": {},
     "output_type": "execute_result"
    }
   ],
   "source": [
    "Path.home()"
   ]
  },
  {
   "cell_type": "code",
   "execution_count": 70,
   "metadata": {},
   "outputs": [],
   "source": [
    "# student_output = sys.argv[1]\n",
    "student_output = PATH/'tester_data_crop'"
   ]
  },
  {
   "cell_type": "code",
   "execution_count": 71,
   "metadata": {},
   "outputs": [],
   "source": [
    "import torch"
   ]
  },
  {
   "cell_type": "code",
   "execution_count": 51,
   "metadata": {},
   "outputs": [
    {
     "name": "stderr",
     "output_type": "stream",
     "text": [
      "/home/paperspace/anaconda3/envs/lyft/lib/python3.6/site-packages/ipykernel_launcher.py:6: DeprecationWarning: `imread` is deprecated!\n",
      "`imread` is deprecated in SciPy 1.0.0, and will be removed in 1.2.0.\n",
      "Use ``imageio.imread`` instead.\n",
      "  \n"
     ]
    }
   ],
   "source": [
    "def decode(packet):\n",
    "\timg = base64.b64decode(packet)\n",
    "\tfilename = PATH/'image.png'\n",
    "\twith open(filename, 'wb') as f:\n",
    "\t\t\tf.write(img)\n",
    "\tresult = misc.imread(filename)\n",
    "\treturn result\n",
    "\n",
    "with open(PATH/'results.json') as json_data:\n",
    "\tans_data = json.loads(json_data.read())\n",
    "\tjson_data.close()\n",
    "\n",
    "# Load student data\n",
    "with open(student_output) as student_data:\n",
    "\tstudent_ans_data = json.loads(student_data.read())\n",
    "\tstudent_data.close()\n",
    "\n",
    "frames_processed = 0\n",
    "\n",
    "Car_TP = 0 # True Positives\n",
    "Car_FP = 0 # Flase Positives\n",
    "Car_TN = 0 # True Negatives\n",
    "Car_FN = 0 # True Negatives\n",
    "\n",
    "Road_TP = 0 # True Positives\n",
    "Road_FP = 0 # Flase Positives\n",
    "Road_TN = 0 # True Negatives\n",
    "Road_FN = 0 # True Negatives\n",
    "\n",
    "tc = []\n",
    "tr = []\n",
    "pc = []\n",
    "pr = []\n",
    "for frame in range(1,len(ans_data.keys())+1):\n",
    "\n",
    "    truth_data_car =  decode(ans_data[str(frame)][0])\n",
    "    truth_data_road =  decode(ans_data[str(frame)][1])\n",
    "    student_data_car = decode(student_ans_data[str(frame)][0])\n",
    "    student_data_road = decode(student_ans_data[str(frame)][1])\n",
    "    tc.append(truth_data_car)\n",
    "    tr.append(truth_data_road)\n",
    "    pc.append(student_data_car)\n",
    "    pr.append(student_data_road)"
   ]
  },
  {
   "cell_type": "code",
   "execution_count": 52,
   "metadata": {},
   "outputs": [],
   "source": [
    "def f2_score(y_true, y_pred, threshold=0.5):\n",
    "    return fbeta_score(y_true, y_pred, 2, threshold)\n",
    "\n",
    "\n",
    "def fbeta_score(y_true, y_pred, beta, threshold=None, eps=1e-9):\n",
    "    beta2 = beta**2\n",
    "\n",
    "    if threshold:\n",
    "        y_pred = torch.ge(y_pred.float(), threshold).float()\n",
    "    else:\n",
    "        y_pred = y_pred.float()\n",
    "    y_true = y_true.float()\n",
    "\n",
    "    true_positive = (y_pred * y_true).sum()\n",
    "    precision = true_positive/(y_pred.sum()+(eps))\n",
    "    recall = true_positive/(y_true.sum()+eps)\n",
    "    \n",
    "    fb = (precision*recall)/(precision*beta2 + recall + eps)*(1+beta2)\n",
    "    \n",
    "    return fb, true_positive, precision, recall"
   ]
  },
  {
   "cell_type": "code",
   "execution_count": 53,
   "metadata": {},
   "outputs": [],
   "source": [
    "tc_s = np.stack(tc)\n",
    "tr_s = np.stack(tr)\n",
    "pc_s = np.stack(pc)\n",
    "pr_s = np.stack(pr)"
   ]
  },
  {
   "cell_type": "code",
   "execution_count": 54,
   "metadata": {},
   "outputs": [],
   "source": [
    "y_true = torch.from_numpy(tc_s).float()\n",
    "y_pred = torch.from_numpy(pc_s).float()"
   ]
  },
  {
   "cell_type": "code",
   "execution_count": null,
   "metadata": {},
   "outputs": [],
   "source": []
  },
  {
   "cell_type": "code",
   "execution_count": 55,
   "metadata": {},
   "outputs": [],
   "source": [
    "# true_positive = (y_pred * y_true).sum()\n",
    "eps=1e-9\n",
    "true_positive = (y_pred * y_true).sum()\n",
    "precision = true_positive/(y_pred.sum()+(eps))\n",
    "recall = true_positive/(y_true.sum()+eps)"
   ]
  },
  {
   "cell_type": "code",
   "execution_count": 56,
   "metadata": {},
   "outputs": [],
   "source": [
    "beta2 = 2"
   ]
  },
  {
   "cell_type": "code",
   "execution_count": 57,
   "metadata": {},
   "outputs": [],
   "source": [
    "fb = (precision*recall)/(precision*beta2 + recall + eps)*(1+beta2)\n",
    "#     div_(precision.mul(beta2) + recall + eps).\n",
    "#     mul_(1 + beta2))"
   ]
  },
  {
   "cell_type": "code",
   "execution_count": 58,
   "metadata": {},
   "outputs": [
    {
     "data": {
      "text/plain": [
       "0.544933755922913"
      ]
     },
     "execution_count": 58,
     "metadata": {},
     "output_type": "execute_result"
    }
   ],
   "source": [
    "fb"
   ]
  },
  {
   "cell_type": "code",
   "execution_count": 59,
   "metadata": {},
   "outputs": [
    {
     "data": {
      "text/plain": [
       "0.369281934231573"
      ]
     },
     "execution_count": 59,
     "metadata": {},
     "output_type": "execute_result"
    }
   ],
   "source": [
    "precision"
   ]
  },
  {
   "cell_type": "code",
   "execution_count": 60,
   "metadata": {},
   "outputs": [
    {
     "data": {
      "text/plain": [
       "0.7149756088603755"
      ]
     },
     "execution_count": 60,
     "metadata": {},
     "output_type": "execute_result"
    }
   ],
   "source": [
    "recall"
   ]
  },
  {
   "cell_type": "code",
   "execution_count": 61,
   "metadata": {},
   "outputs": [
    {
     "data": {
      "text/plain": [
       "116812.0"
      ]
     },
     "execution_count": 61,
     "metadata": {},
     "output_type": "execute_result"
    }
   ],
   "source": [
    "true_positive"
   ]
  },
  {
   "cell_type": "code",
   "execution_count": 62,
   "metadata": {},
   "outputs": [
    {
     "data": {
      "text/plain": [
       "(0.9869345795946747, 2912591.0, 0.9873300277596323, 0.9853559535799356)"
      ]
     },
     "execution_count": 62,
     "metadata": {},
     "output_type": "execute_result"
    }
   ],
   "source": [
    "fbeta_score(torch.from_numpy(tr_s), torch.from_numpy(pr_s), .5)"
   ]
  },
  {
   "cell_type": "code",
   "execution_count": 63,
   "metadata": {},
   "outputs": [
    {
     "data": {
      "text/plain": [
       "(0.6022242887302403, 116812.0, 0.369281934231573, 0.7149756088603755)"
      ]
     },
     "execution_count": 63,
     "metadata": {},
     "output_type": "execute_result"
    }
   ],
   "source": [
    "fbeta_score(torch.from_numpy(tc_s), torch.from_numpy(pc_s), 2)"
   ]
  },
  {
   "cell_type": "code",
   "execution_count": 64,
   "metadata": {},
   "outputs": [
    {
     "data": {
      "text/plain": [
       "(0, 0, 0, 0)"
      ]
     },
     "execution_count": 64,
     "metadata": {},
     "output_type": "execute_result"
    }
   ],
   "source": [
    "Car_TP, Car_FP, Car_TN, Car_FN"
   ]
  },
  {
   "cell_type": "code",
   "execution_count": 72,
   "metadata": {},
   "outputs": [
    {
     "name": "stderr",
     "output_type": "stream",
     "text": [
      "/home/paperspace/anaconda3/envs/lyft/lib/python3.6/site-packages/ipykernel_launcher.py:6: DeprecationWarning: `imread` is deprecated!\n",
      "`imread` is deprecated in SciPy 1.0.0, and will be removed in 1.2.0.\n",
      "Use ``imageio.imread`` instead.\n",
      "  \n"
     ]
    },
    {
     "name": "stdout",
     "output_type": "stream",
     "text": [
      "Car F score: 0.721  | Car Precision: 0.445  | Car Recall: 0.853  |\n",
      "Road F score: 0.996 | Road Precision: 0.996 | Road Recall: 0.994 | \n",
      "Averaged F score: 0.858\n"
     ]
    }
   ],
   "source": [
    "def decode(packet):\n",
    "\timg = base64.b64decode(packet)\n",
    "\tfilename = PATH/'image.png'\n",
    "\twith open(filename, 'wb') as f:\n",
    "\t\t\tf.write(img)\n",
    "\tresult = misc.imread(filename)\n",
    "\treturn result\n",
    "\n",
    "with open(PATH/'results.json') as json_data:\n",
    "\tans_data = json.loads(json_data.read())\n",
    "\tjson_data.close()\n",
    "\n",
    "# Load student data\n",
    "with open(student_output) as student_data:\n",
    "\tstudent_ans_data = json.loads(student_data.read())\n",
    "\tstudent_data.close()\n",
    "\n",
    "frames_processed = 0\n",
    "\n",
    "Car_TP = 0 # True Positives\n",
    "Car_FP = 0 # Flase Positives\n",
    "Car_TN = 0 # True Negatives\n",
    "Car_FN = 0 # True Negatives\n",
    "\n",
    "Road_TP = 0 # True Positives\n",
    "Road_FP = 0 # Flase Positives\n",
    "Road_TN = 0 # True Negatives\n",
    "Road_FN = 0 # True Negatives\n",
    "\n",
    "for frame in range(1,len(ans_data.keys())+1):\n",
    "\n",
    "\ttruth_data_car =  decode(ans_data[str(frame)][0])\n",
    "\ttruth_data_road =  decode(ans_data[str(frame)][1])\n",
    "\tstudent_data_car = decode(student_ans_data[str(frame)][0])\n",
    "\tstudent_data_road = decode(student_ans_data[str(frame)][1])\n",
    "\n",
    "\tCar_TP += np.sum(np.logical_and(student_data_car == 1, truth_data_car == 1))\n",
    "\tCar_FP += np.sum(np.logical_and(student_data_car == 1, truth_data_car == 0))\n",
    "\tCar_TN += np.sum(np.logical_and(student_data_car == 0, truth_data_car == 0))\n",
    "\tCar_FN += np.sum(np.logical_and(student_data_car == 0, truth_data_car == 1))\n",
    "\n",
    "\tRoad_TP += np.sum(np.logical_and(student_data_road == 1, truth_data_road == 1))\n",
    "\tRoad_FP += np.sum(np.logical_and(student_data_road == 1, truth_data_road == 0))\n",
    "\tRoad_TN += np.sum(np.logical_and(student_data_road == 0, truth_data_road == 0))\n",
    "\tRoad_FN += np.sum(np.logical_and(student_data_road == 0, truth_data_road == 1))\n",
    "\n",
    "\tframes_processed+=1\n",
    "\n",
    "\n",
    "# Generate results\n",
    "Car_precision = Car_TP/(Car_TP+Car_FP)/1.0\n",
    "Car_recall = Car_TP/(Car_TP+Car_FN)/1.0\n",
    "Car_beta = 2\n",
    "Car_F = (1+Car_beta**2) * ((Car_precision*Car_recall)/(Car_beta**2 * Car_precision + Car_recall))\n",
    "Road_precision = Road_TP/(Road_TP+Road_FP)/1.0\n",
    "Road_recall = Road_TP/(Road_TP+Road_FN)/1.0\n",
    "Road_beta = 0.5\n",
    "Road_F = (1+Road_beta**2) * ((Road_precision*Road_recall)/(Road_beta**2 * Road_precision + Road_recall))\n",
    "\n",
    "print (\"Car F score: %05.3f  | Car Precision: %05.3f  | Car Recall: %05.3f  |\\n\\\n",
    "Road F score: %05.3f | Road Precision: %05.3f | Road Recall: %05.3f | \\n\\\n",
    "Averaged F score: %05.3f\" %(Car_F,Car_precision,Car_recall,Road_F,Road_precision,Road_recall,((Car_F+Road_F)/2.0)))"
   ]
  },
  {
   "cell_type": "code",
   "execution_count": null,
   "metadata": {},
   "outputs": [],
   "source": [
    "# With new data and data loader\n",
    "Car F score: 0.560  | Car Precision: 0.476  | Car Recall: 0.586  |\n",
    "Road F score: 0.982 | Road Precision: 0.982 | Road Recall: 0.981 | \n",
    "Averaged F score: 0.771"
   ]
  },
  {
   "cell_type": "code",
   "execution_count": null,
   "metadata": {},
   "outputs": [],
   "source": [
    "# Best updated\n",
    "Car F score: 0.685  | Car Precision: 0.709  | Car Recall: 0.679  |\n",
    "Road F score: 0.987 | Road Precision: 0.987 | Road Recall: 0.987 | \n",
    "Averaged F score: 0.836"
   ]
  },
  {
   "cell_type": "code",
   "execution_count": null,
   "metadata": {},
   "outputs": [],
   "source": [
    "# Padding with no crop\n",
    "Car F score: 0.657  | Car Precision: 0.718  | Car Recall: 0.643  |\n",
    "Road F score: 0.987 | Road Precision: 0.987 | Road Recall: 0.987 | \n",
    "Averaged F score: 0.822"
   ]
  },
  {
   "cell_type": "code",
   "execution_count": null,
   "metadata": {},
   "outputs": [],
   "source": [
    "# Real model\n",
    "# 226:54\n",
    "Car F score: 0.613  | Car Precision: 0.721  | Car Recall: 0.591  |\n",
    "Road F score: 0.988 | Road Precision: 0.990 | Road Recall: 0.981 | \n",
    "Averaged F score: 0.801"
   ]
  },
  {
   "cell_type": "code",
   "execution_count": null,
   "metadata": {},
   "outputs": [],
   "source": [
    "# Real model\n",
    "# 194:54\n",
    "Car F score: 0.600  | Car Precision: 0.599  | Car Recall: 0.600  |\n",
    "Road F score: 0.982 | Road Precision: 0.981 | Road Recall: 0.985 | \n",
    "Averaged F score: 0.791"
   ]
  },
  {
   "cell_type": "code",
   "execution_count": null,
   "metadata": {},
   "outputs": [],
   "source": [
    "# 24x64\n",
    "Car F score: 0.574  | Car Precision: 0.722  | Car Recall: 0.546  |\n",
    "Road F score: 0.983 | Road Precision: 0.992 | Road Recall: 0.946 | \n",
    "Averaged F score: 0.778"
   ]
  },
  {
   "cell_type": "code",
   "execution_count": null,
   "metadata": {},
   "outputs": [],
   "source": [
    "# 24x0\n",
    "Car F score: 0.609  | Car Precision: 0.692  | Car Recall: 0.591  |\n",
    "Road F score: 0.989 | Road Precision: 0.990 | Road Recall: 0.983 | \n",
    "Averaged F score: 0.799"
   ]
  },
  {
   "cell_type": "code",
   "execution_count": null,
   "metadata": {},
   "outputs": [],
   "source": [
    "# 200x80\n",
    "Car F score: 0.477  | Car Precision: 0.769  | Car Recall: 0.435  |\n",
    "Road F score: 0.919 | Road Precision: 0.994 | Road Recall: 0.705 | \n",
    "Averaged F score: 0.698"
   ]
  }
 ],
 "metadata": {
  "kernelspec": {
   "display_name": "Python 3",
   "language": "python",
   "name": "python3"
  },
  "language_info": {
   "codemirror_mode": {
    "name": "ipython",
    "version": 3
   },
   "file_extension": ".py",
   "mimetype": "text/x-python",
   "name": "python",
   "nbconvert_exporter": "python",
   "pygments_lexer": "ipython3",
   "version": "3.6.5"
  }
 },
 "nbformat": 4,
 "nbformat_minor": 2
}
