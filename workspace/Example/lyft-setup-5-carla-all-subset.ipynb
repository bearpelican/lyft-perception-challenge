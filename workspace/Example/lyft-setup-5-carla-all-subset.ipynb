{
 "cells": [
  {
   "cell_type": "code",
   "execution_count": 1,
   "metadata": {},
   "outputs": [],
   "source": [
    "%matplotlib inline\n",
    "%reload_ext autoreload\n",
    "%autoreload 2"
   ]
  },
  {
   "cell_type": "code",
   "execution_count": 2,
   "metadata": {},
   "outputs": [],
   "source": [
    "from fastai.conv_learner import *\n",
    "from fastai.dataset import *\n",
    "from fastai.models.resnet import vgg_resnet50\n",
    "\n",
    "import json\n",
    "from glob import glob\n",
    "import shutil"
   ]
  },
  {
   "cell_type": "code",
   "execution_count": 3,
   "metadata": {},
   "outputs": [],
   "source": [
    "torch.backends.cudnn.benchmark=True"
   ]
  },
  {
   "cell_type": "markdown",
   "metadata": {},
   "source": [
    "## Data"
   ]
  },
  {
   "cell_type": "code",
   "execution_count": 4,
   "metadata": {},
   "outputs": [],
   "source": [
    "TRAIN_PATH = Path('../data/Train')\n",
    "CARLA_PATH = Path('../data/Carla')\n",
    "CARLA_2_PATH = Path('../data/Carla2')\n",
    "CARLA_3_PATH = Path('../data/Carla3')\n",
    "CARLA_4_PATH = Path('../data/Carla4')\n",
    "CARLA_5_PATH = Path('../data/Carla5')\n",
    "CARLA_6_PATH = Path('../data/Carla6')\n",
    "CARLA_7_PATH = Path('../data/Carla7')\n",
    "OLD_PATH = Path('../data/all.old')\n",
    "ALL_PATH = Path('../data/all')"
   ]
  },
  {
   "cell_type": "code",
   "execution_count": 5,
   "metadata": {},
   "outputs": [],
   "source": [
    "TRAIN_DN = 'CameraRGB'\n",
    "MASKS_DN = 'CameraSeg'"
   ]
  },
  {
   "cell_type": "code",
   "execution_count": 8,
   "metadata": {},
   "outputs": [],
   "source": [
    "(ALL_PATH/TRAIN_DN).mkdir(exist_ok=True)\n",
    "(ALL_PATH/MASKS_DN).mkdir(exist_ok=True)"
   ]
  },
  {
   "cell_type": "code",
   "execution_count": 7,
   "metadata": {},
   "outputs": [],
   "source": [
    "c3_path = glob(str(CARLA_3_PATH/'*/*.png'))"
   ]
  },
  {
   "cell_type": "code",
   "execution_count": 15,
   "metadata": {},
   "outputs": [],
   "source": [
    "c3_path.sort()"
   ]
  },
  {
   "cell_type": "code",
   "execution_count": 16,
   "metadata": {},
   "outputs": [
    {
     "data": {
      "text/plain": [
       "['../data/Carla3/CameraRGB/F61-1.png',\n",
       " '../data/Carla3/CameraRGB/F61-10.png',\n",
       " '../data/Carla3/CameraRGB/F61-100.png',\n",
       " '../data/Carla3/CameraRGB/F61-11.png',\n",
       " '../data/Carla3/CameraRGB/F61-12.png',\n",
       " '../data/Carla3/CameraRGB/F61-13.png',\n",
       " '../data/Carla3/CameraRGB/F61-14.png',\n",
       " '../data/Carla3/CameraRGB/F61-15.png',\n",
       " '../data/Carla3/CameraRGB/F61-16.png',\n",
       " '../data/Carla3/CameraRGB/F61-17.png',\n",
       " '../data/Carla3/CameraRGB/F61-18.png',\n",
       " '../data/Carla3/CameraRGB/F61-19.png',\n",
       " '../data/Carla3/CameraRGB/F61-2.png',\n",
       " '../data/Carla3/CameraRGB/F61-20.png',\n",
       " '../data/Carla3/CameraRGB/F61-21.png',\n",
       " '../data/Carla3/CameraRGB/F61-22.png',\n",
       " '../data/Carla3/CameraRGB/F61-23.png',\n",
       " '../data/Carla3/CameraRGB/F61-24.png',\n",
       " '../data/Carla3/CameraRGB/F61-25.png',\n",
       " '../data/Carla3/CameraRGB/F61-26.png',\n",
       " '../data/Carla3/CameraRGB/F61-27.png',\n",
       " '../data/Carla3/CameraRGB/F61-28.png',\n",
       " '../data/Carla3/CameraRGB/F61-29.png',\n",
       " '../data/Carla3/CameraRGB/F61-3.png',\n",
       " '../data/Carla3/CameraRGB/F61-30.png',\n",
       " '../data/Carla3/CameraRGB/F61-31.png',\n",
       " '../data/Carla3/CameraRGB/F61-32.png',\n",
       " '../data/Carla3/CameraRGB/F61-33.png',\n",
       " '../data/Carla3/CameraRGB/F61-34.png',\n",
       " '../data/Carla3/CameraRGB/F61-35.png',\n",
       " '../data/Carla3/CameraRGB/F61-36.png',\n",
       " '../data/Carla3/CameraRGB/F61-37.png',\n",
       " '../data/Carla3/CameraRGB/F61-38.png',\n",
       " '../data/Carla3/CameraRGB/F61-39.png',\n",
       " '../data/Carla3/CameraRGB/F61-4.png',\n",
       " '../data/Carla3/CameraRGB/F61-40.png',\n",
       " '../data/Carla3/CameraRGB/F61-41.png',\n",
       " '../data/Carla3/CameraRGB/F61-42.png',\n",
       " '../data/Carla3/CameraRGB/F61-43.png',\n",
       " '../data/Carla3/CameraRGB/F61-44.png',\n",
       " '../data/Carla3/CameraRGB/F61-45.png',\n",
       " '../data/Carla3/CameraRGB/F61-46.png',\n",
       " '../data/Carla3/CameraRGB/F61-47.png',\n",
       " '../data/Carla3/CameraRGB/F61-48.png',\n",
       " '../data/Carla3/CameraRGB/F61-49.png',\n",
       " '../data/Carla3/CameraRGB/F61-5.png',\n",
       " '../data/Carla3/CameraRGB/F61-50.png',\n",
       " '../data/Carla3/CameraRGB/F61-51.png',\n",
       " '../data/Carla3/CameraRGB/F61-52.png',\n",
       " '../data/Carla3/CameraRGB/F61-53.png',\n",
       " '../data/Carla3/CameraRGB/F61-54.png',\n",
       " '../data/Carla3/CameraRGB/F61-55.png',\n",
       " '../data/Carla3/CameraRGB/F61-56.png',\n",
       " '../data/Carla3/CameraRGB/F61-57.png',\n",
       " '../data/Carla3/CameraRGB/F61-58.png',\n",
       " '../data/Carla3/CameraRGB/F61-59.png',\n",
       " '../data/Carla3/CameraRGB/F61-6.png',\n",
       " '../data/Carla3/CameraRGB/F61-60.png',\n",
       " '../data/Carla3/CameraRGB/F61-61.png',\n",
       " '../data/Carla3/CameraRGB/F61-62.png',\n",
       " '../data/Carla3/CameraRGB/F61-63.png',\n",
       " '../data/Carla3/CameraRGB/F61-64.png',\n",
       " '../data/Carla3/CameraRGB/F61-65.png',\n",
       " '../data/Carla3/CameraRGB/F61-66.png',\n",
       " '../data/Carla3/CameraRGB/F61-67.png',\n",
       " '../data/Carla3/CameraRGB/F61-68.png',\n",
       " '../data/Carla3/CameraRGB/F61-69.png',\n",
       " '../data/Carla3/CameraRGB/F61-7.png',\n",
       " '../data/Carla3/CameraRGB/F61-70.png',\n",
       " '../data/Carla3/CameraRGB/F61-71.png',\n",
       " '../data/Carla3/CameraRGB/F61-72.png',\n",
       " '../data/Carla3/CameraRGB/F61-73.png',\n",
       " '../data/Carla3/CameraRGB/F61-74.png',\n",
       " '../data/Carla3/CameraRGB/F61-75.png',\n",
       " '../data/Carla3/CameraRGB/F61-76.png',\n",
       " '../data/Carla3/CameraRGB/F61-77.png',\n",
       " '../data/Carla3/CameraRGB/F61-78.png',\n",
       " '../data/Carla3/CameraRGB/F61-79.png',\n",
       " '../data/Carla3/CameraRGB/F61-8.png',\n",
       " '../data/Carla3/CameraRGB/F61-80.png',\n",
       " '../data/Carla3/CameraRGB/F61-81.png',\n",
       " '../data/Carla3/CameraRGB/F61-82.png',\n",
       " '../data/Carla3/CameraRGB/F61-83.png',\n",
       " '../data/Carla3/CameraRGB/F61-84.png',\n",
       " '../data/Carla3/CameraRGB/F61-85.png',\n",
       " '../data/Carla3/CameraRGB/F61-86.png',\n",
       " '../data/Carla3/CameraRGB/F61-87.png',\n",
       " '../data/Carla3/CameraRGB/F61-88.png',\n",
       " '../data/Carla3/CameraRGB/F61-89.png',\n",
       " '../data/Carla3/CameraRGB/F61-9.png',\n",
       " '../data/Carla3/CameraRGB/F61-90.png',\n",
       " '../data/Carla3/CameraRGB/F61-91.png',\n",
       " '../data/Carla3/CameraRGB/F61-92.png',\n",
       " '../data/Carla3/CameraRGB/F61-93.png',\n",
       " '../data/Carla3/CameraRGB/F61-94.png',\n",
       " '../data/Carla3/CameraRGB/F61-95.png',\n",
       " '../data/Carla3/CameraRGB/F61-96.png',\n",
       " '../data/Carla3/CameraRGB/F61-97.png',\n",
       " '../data/Carla3/CameraRGB/F61-98.png',\n",
       " '../data/Carla3/CameraRGB/F61-99.png',\n",
       " '../data/Carla3/CameraRGB/F62-1.png',\n",
       " '../data/Carla3/CameraRGB/F62-10.png',\n",
       " '../data/Carla3/CameraRGB/F62-100.png',\n",
       " '../data/Carla3/CameraRGB/F62-11.png',\n",
       " '../data/Carla3/CameraRGB/F62-12.png',\n",
       " '../data/Carla3/CameraRGB/F62-13.png',\n",
       " '../data/Carla3/CameraRGB/F62-14.png',\n",
       " '../data/Carla3/CameraRGB/F62-15.png',\n",
       " '../data/Carla3/CameraRGB/F62-16.png',\n",
       " '../data/Carla3/CameraRGB/F62-17.png',\n",
       " '../data/Carla3/CameraRGB/F62-18.png',\n",
       " '../data/Carla3/CameraRGB/F62-19.png',\n",
       " '../data/Carla3/CameraRGB/F62-2.png',\n",
       " '../data/Carla3/CameraRGB/F62-20.png',\n",
       " '../data/Carla3/CameraRGB/F62-21.png',\n",
       " '../data/Carla3/CameraRGB/F62-22.png',\n",
       " '../data/Carla3/CameraRGB/F62-23.png',\n",
       " '../data/Carla3/CameraRGB/F62-24.png',\n",
       " '../data/Carla3/CameraRGB/F62-25.png',\n",
       " '../data/Carla3/CameraRGB/F62-26.png',\n",
       " '../data/Carla3/CameraRGB/F62-27.png',\n",
       " '../data/Carla3/CameraRGB/F62-28.png',\n",
       " '../data/Carla3/CameraRGB/F62-29.png',\n",
       " '../data/Carla3/CameraRGB/F62-3.png',\n",
       " '../data/Carla3/CameraRGB/F62-30.png',\n",
       " '../data/Carla3/CameraRGB/F62-31.png',\n",
       " '../data/Carla3/CameraRGB/F62-32.png',\n",
       " '../data/Carla3/CameraRGB/F62-33.png',\n",
       " '../data/Carla3/CameraRGB/F62-34.png',\n",
       " '../data/Carla3/CameraRGB/F62-35.png',\n",
       " '../data/Carla3/CameraRGB/F62-36.png',\n",
       " '../data/Carla3/CameraRGB/F62-37.png',\n",
       " '../data/Carla3/CameraRGB/F62-38.png',\n",
       " '../data/Carla3/CameraRGB/F62-39.png',\n",
       " '../data/Carla3/CameraRGB/F62-4.png',\n",
       " '../data/Carla3/CameraRGB/F62-40.png',\n",
       " '../data/Carla3/CameraRGB/F62-41.png',\n",
       " '../data/Carla3/CameraRGB/F62-42.png',\n",
       " '../data/Carla3/CameraRGB/F62-43.png',\n",
       " '../data/Carla3/CameraRGB/F62-44.png',\n",
       " '../data/Carla3/CameraRGB/F62-45.png',\n",
       " '../data/Carla3/CameraRGB/F62-46.png',\n",
       " '../data/Carla3/CameraRGB/F62-47.png',\n",
       " '../data/Carla3/CameraRGB/F62-48.png',\n",
       " '../data/Carla3/CameraRGB/F62-49.png',\n",
       " '../data/Carla3/CameraRGB/F62-5.png',\n",
       " '../data/Carla3/CameraRGB/F62-50.png',\n",
       " '../data/Carla3/CameraRGB/F62-51.png',\n",
       " '../data/Carla3/CameraRGB/F62-52.png',\n",
       " '../data/Carla3/CameraRGB/F62-53.png',\n",
       " '../data/Carla3/CameraRGB/F62-54.png',\n",
       " '../data/Carla3/CameraRGB/F62-55.png',\n",
       " '../data/Carla3/CameraRGB/F62-56.png',\n",
       " '../data/Carla3/CameraRGB/F62-57.png',\n",
       " '../data/Carla3/CameraRGB/F62-58.png',\n",
       " '../data/Carla3/CameraRGB/F62-59.png',\n",
       " '../data/Carla3/CameraRGB/F62-6.png',\n",
       " '../data/Carla3/CameraRGB/F62-60.png',\n",
       " '../data/Carla3/CameraRGB/F62-61.png',\n",
       " '../data/Carla3/CameraRGB/F62-62.png',\n",
       " '../data/Carla3/CameraRGB/F62-63.png',\n",
       " '../data/Carla3/CameraRGB/F62-64.png',\n",
       " '../data/Carla3/CameraRGB/F62-65.png',\n",
       " '../data/Carla3/CameraRGB/F62-66.png',\n",
       " '../data/Carla3/CameraRGB/F62-67.png',\n",
       " '../data/Carla3/CameraRGB/F62-68.png',\n",
       " '../data/Carla3/CameraRGB/F62-69.png',\n",
       " '../data/Carla3/CameraRGB/F62-7.png',\n",
       " '../data/Carla3/CameraRGB/F62-70.png',\n",
       " '../data/Carla3/CameraRGB/F62-71.png',\n",
       " '../data/Carla3/CameraRGB/F62-72.png',\n",
       " '../data/Carla3/CameraRGB/F62-73.png',\n",
       " '../data/Carla3/CameraRGB/F62-74.png',\n",
       " '../data/Carla3/CameraRGB/F62-75.png',\n",
       " '../data/Carla3/CameraRGB/F62-76.png',\n",
       " '../data/Carla3/CameraRGB/F62-77.png',\n",
       " '../data/Carla3/CameraRGB/F62-78.png',\n",
       " '../data/Carla3/CameraRGB/F62-79.png',\n",
       " '../data/Carla3/CameraRGB/F62-8.png',\n",
       " '../data/Carla3/CameraRGB/F62-80.png',\n",
       " '../data/Carla3/CameraRGB/F62-81.png',\n",
       " '../data/Carla3/CameraRGB/F62-82.png',\n",
       " '../data/Carla3/CameraRGB/F62-83.png',\n",
       " '../data/Carla3/CameraRGB/F62-84.png',\n",
       " '../data/Carla3/CameraRGB/F62-85.png',\n",
       " '../data/Carla3/CameraRGB/F62-86.png',\n",
       " '../data/Carla3/CameraRGB/F62-87.png',\n",
       " '../data/Carla3/CameraRGB/F62-88.png',\n",
       " '../data/Carla3/CameraRGB/F62-89.png',\n",
       " '../data/Carla3/CameraRGB/F62-9.png',\n",
       " '../data/Carla3/CameraRGB/F62-90.png',\n",
       " '../data/Carla3/CameraRGB/F62-91.png',\n",
       " '../data/Carla3/CameraRGB/F62-92.png',\n",
       " '../data/Carla3/CameraRGB/F62-93.png',\n",
       " '../data/Carla3/CameraRGB/F62-94.png',\n",
       " '../data/Carla3/CameraRGB/F62-95.png',\n",
       " '../data/Carla3/CameraRGB/F62-96.png',\n",
       " '../data/Carla3/CameraRGB/F62-97.png',\n",
       " '../data/Carla3/CameraRGB/F62-98.png',\n",
       " '../data/Carla3/CameraRGB/F62-99.png',\n",
       " '../data/Carla3/CameraRGB/F63-1.png',\n",
       " '../data/Carla3/CameraRGB/F63-10.png',\n",
       " '../data/Carla3/CameraRGB/F63-100.png',\n",
       " '../data/Carla3/CameraRGB/F63-11.png',\n",
       " '../data/Carla3/CameraRGB/F63-12.png',\n",
       " '../data/Carla3/CameraRGB/F63-13.png',\n",
       " '../data/Carla3/CameraRGB/F63-14.png',\n",
       " '../data/Carla3/CameraRGB/F63-15.png',\n",
       " '../data/Carla3/CameraRGB/F63-16.png',\n",
       " '../data/Carla3/CameraRGB/F63-17.png',\n",
       " '../data/Carla3/CameraRGB/F63-18.png',\n",
       " '../data/Carla3/CameraRGB/F63-19.png',\n",
       " '../data/Carla3/CameraRGB/F63-2.png',\n",
       " '../data/Carla3/CameraRGB/F63-20.png',\n",
       " '../data/Carla3/CameraRGB/F63-21.png',\n",
       " '../data/Carla3/CameraRGB/F63-22.png',\n",
       " '../data/Carla3/CameraRGB/F63-23.png',\n",
       " '../data/Carla3/CameraRGB/F63-24.png',\n",
       " '../data/Carla3/CameraRGB/F63-25.png',\n",
       " '../data/Carla3/CameraRGB/F63-26.png',\n",
       " '../data/Carla3/CameraRGB/F63-27.png',\n",
       " '../data/Carla3/CameraRGB/F63-28.png',\n",
       " '../data/Carla3/CameraRGB/F63-29.png',\n",
       " '../data/Carla3/CameraRGB/F63-3.png',\n",
       " '../data/Carla3/CameraRGB/F63-30.png',\n",
       " '../data/Carla3/CameraRGB/F63-31.png',\n",
       " '../data/Carla3/CameraRGB/F63-32.png',\n",
       " '../data/Carla3/CameraRGB/F63-33.png',\n",
       " '../data/Carla3/CameraRGB/F63-34.png',\n",
       " '../data/Carla3/CameraRGB/F63-35.png',\n",
       " '../data/Carla3/CameraRGB/F63-36.png',\n",
       " '../data/Carla3/CameraRGB/F63-37.png',\n",
       " '../data/Carla3/CameraRGB/F63-38.png',\n",
       " '../data/Carla3/CameraRGB/F63-39.png',\n",
       " '../data/Carla3/CameraRGB/F63-4.png',\n",
       " '../data/Carla3/CameraRGB/F63-40.png',\n",
       " '../data/Carla3/CameraRGB/F63-41.png',\n",
       " '../data/Carla3/CameraRGB/F63-42.png',\n",
       " '../data/Carla3/CameraRGB/F63-43.png',\n",
       " '../data/Carla3/CameraRGB/F63-44.png',\n",
       " '../data/Carla3/CameraRGB/F63-45.png',\n",
       " '../data/Carla3/CameraRGB/F63-46.png',\n",
       " '../data/Carla3/CameraRGB/F63-47.png',\n",
       " '../data/Carla3/CameraRGB/F63-48.png',\n",
       " '../data/Carla3/CameraRGB/F63-49.png',\n",
       " '../data/Carla3/CameraRGB/F63-5.png',\n",
       " '../data/Carla3/CameraRGB/F63-50.png',\n",
       " '../data/Carla3/CameraRGB/F63-51.png',\n",
       " '../data/Carla3/CameraRGB/F63-52.png',\n",
       " '../data/Carla3/CameraRGB/F63-53.png',\n",
       " '../data/Carla3/CameraRGB/F63-54.png',\n",
       " '../data/Carla3/CameraRGB/F63-55.png',\n",
       " '../data/Carla3/CameraRGB/F63-56.png',\n",
       " '../data/Carla3/CameraRGB/F63-57.png',\n",
       " '../data/Carla3/CameraRGB/F63-58.png',\n",
       " '../data/Carla3/CameraRGB/F63-59.png',\n",
       " '../data/Carla3/CameraRGB/F63-6.png',\n",
       " '../data/Carla3/CameraRGB/F63-60.png',\n",
       " '../data/Carla3/CameraRGB/F63-61.png',\n",
       " '../data/Carla3/CameraRGB/F63-62.png',\n",
       " '../data/Carla3/CameraRGB/F63-63.png',\n",
       " '../data/Carla3/CameraRGB/F63-64.png',\n",
       " '../data/Carla3/CameraRGB/F63-65.png',\n",
       " '../data/Carla3/CameraRGB/F63-66.png',\n",
       " '../data/Carla3/CameraRGB/F63-67.png',\n",
       " '../data/Carla3/CameraRGB/F63-68.png',\n",
       " '../data/Carla3/CameraRGB/F63-69.png',\n",
       " '../data/Carla3/CameraRGB/F63-7.png',\n",
       " '../data/Carla3/CameraRGB/F63-70.png',\n",
       " '../data/Carla3/CameraRGB/F63-71.png',\n",
       " '../data/Carla3/CameraRGB/F63-72.png',\n",
       " '../data/Carla3/CameraRGB/F63-73.png',\n",
       " '../data/Carla3/CameraRGB/F63-74.png',\n",
       " '../data/Carla3/CameraRGB/F63-75.png',\n",
       " '../data/Carla3/CameraRGB/F63-76.png',\n",
       " '../data/Carla3/CameraRGB/F63-77.png',\n",
       " '../data/Carla3/CameraRGB/F63-78.png',\n",
       " '../data/Carla3/CameraRGB/F63-79.png',\n",
       " '../data/Carla3/CameraRGB/F63-8.png',\n",
       " '../data/Carla3/CameraRGB/F63-80.png',\n",
       " '../data/Carla3/CameraRGB/F63-81.png',\n",
       " '../data/Carla3/CameraRGB/F63-82.png',\n",
       " '../data/Carla3/CameraRGB/F63-83.png',\n",
       " '../data/Carla3/CameraRGB/F63-84.png',\n",
       " '../data/Carla3/CameraRGB/F63-85.png',\n",
       " '../data/Carla3/CameraRGB/F63-86.png',\n",
       " '../data/Carla3/CameraRGB/F63-87.png',\n",
       " '../data/Carla3/CameraRGB/F63-88.png',\n",
       " '../data/Carla3/CameraRGB/F63-89.png',\n",
       " '../data/Carla3/CameraRGB/F63-9.png',\n",
       " '../data/Carla3/CameraRGB/F63-90.png',\n",
       " '../data/Carla3/CameraRGB/F63-91.png',\n",
       " '../data/Carla3/CameraRGB/F63-92.png',\n",
       " '../data/Carla3/CameraRGB/F63-93.png',\n",
       " '../data/Carla3/CameraRGB/F63-94.png',\n",
       " '../data/Carla3/CameraRGB/F63-95.png',\n",
       " '../data/Carla3/CameraRGB/F63-96.png',\n",
       " '../data/Carla3/CameraRGB/F63-97.png',\n",
       " '../data/Carla3/CameraRGB/F63-98.png',\n",
       " '../data/Carla3/CameraRGB/F63-99.png',\n",
       " '../data/Carla3/CameraRGB/F64-1.png',\n",
       " '../data/Carla3/CameraRGB/F64-10.png',\n",
       " '../data/Carla3/CameraRGB/F64-100.png',\n",
       " '../data/Carla3/CameraRGB/F64-11.png',\n",
       " '../data/Carla3/CameraRGB/F64-12.png',\n",
       " '../data/Carla3/CameraRGB/F64-13.png',\n",
       " '../data/Carla3/CameraRGB/F64-14.png',\n",
       " '../data/Carla3/CameraRGB/F64-15.png',\n",
       " '../data/Carla3/CameraRGB/F64-16.png',\n",
       " '../data/Carla3/CameraRGB/F64-17.png',\n",
       " '../data/Carla3/CameraRGB/F64-18.png',\n",
       " '../data/Carla3/CameraRGB/F64-19.png',\n",
       " '../data/Carla3/CameraRGB/F64-2.png',\n",
       " '../data/Carla3/CameraRGB/F64-20.png',\n",
       " '../data/Carla3/CameraRGB/F64-21.png',\n",
       " '../data/Carla3/CameraRGB/F64-22.png',\n",
       " '../data/Carla3/CameraRGB/F64-23.png',\n",
       " '../data/Carla3/CameraRGB/F64-24.png',\n",
       " '../data/Carla3/CameraRGB/F64-25.png',\n",
       " '../data/Carla3/CameraRGB/F64-26.png',\n",
       " '../data/Carla3/CameraRGB/F64-27.png',\n",
       " '../data/Carla3/CameraRGB/F64-28.png',\n",
       " '../data/Carla3/CameraRGB/F64-29.png',\n",
       " '../data/Carla3/CameraRGB/F64-3.png',\n",
       " '../data/Carla3/CameraRGB/F64-30.png',\n",
       " '../data/Carla3/CameraRGB/F64-31.png',\n",
       " '../data/Carla3/CameraRGB/F64-32.png',\n",
       " '../data/Carla3/CameraRGB/F64-33.png',\n",
       " '../data/Carla3/CameraRGB/F64-34.png',\n",
       " '../data/Carla3/CameraRGB/F64-35.png',\n",
       " '../data/Carla3/CameraRGB/F64-36.png',\n",
       " '../data/Carla3/CameraRGB/F64-37.png',\n",
       " '../data/Carla3/CameraRGB/F64-38.png',\n",
       " '../data/Carla3/CameraRGB/F64-39.png',\n",
       " '../data/Carla3/CameraRGB/F64-4.png',\n",
       " '../data/Carla3/CameraRGB/F64-40.png',\n",
       " '../data/Carla3/CameraRGB/F64-41.png',\n",
       " '../data/Carla3/CameraRGB/F64-42.png',\n",
       " '../data/Carla3/CameraRGB/F64-43.png',\n",
       " '../data/Carla3/CameraRGB/F64-44.png',\n",
       " '../data/Carla3/CameraRGB/F64-45.png',\n",
       " '../data/Carla3/CameraRGB/F64-46.png',\n",
       " '../data/Carla3/CameraRGB/F64-47.png',\n",
       " '../data/Carla3/CameraRGB/F64-48.png',\n",
       " '../data/Carla3/CameraRGB/F64-49.png',\n",
       " '../data/Carla3/CameraRGB/F64-5.png',\n",
       " '../data/Carla3/CameraRGB/F64-50.png',\n",
       " '../data/Carla3/CameraRGB/F64-51.png',\n",
       " '../data/Carla3/CameraRGB/F64-52.png',\n",
       " '../data/Carla3/CameraRGB/F64-53.png',\n",
       " '../data/Carla3/CameraRGB/F64-54.png',\n",
       " '../data/Carla3/CameraRGB/F64-55.png',\n",
       " '../data/Carla3/CameraRGB/F64-56.png',\n",
       " '../data/Carla3/CameraRGB/F64-57.png',\n",
       " '../data/Carla3/CameraRGB/F64-58.png',\n",
       " '../data/Carla3/CameraRGB/F64-59.png',\n",
       " '../data/Carla3/CameraRGB/F64-6.png',\n",
       " '../data/Carla3/CameraRGB/F64-60.png',\n",
       " '../data/Carla3/CameraRGB/F64-61.png',\n",
       " '../data/Carla3/CameraRGB/F64-62.png',\n",
       " '../data/Carla3/CameraRGB/F64-63.png',\n",
       " '../data/Carla3/CameraRGB/F64-64.png',\n",
       " '../data/Carla3/CameraRGB/F64-65.png',\n",
       " '../data/Carla3/CameraRGB/F64-66.png',\n",
       " '../data/Carla3/CameraRGB/F64-67.png',\n",
       " '../data/Carla3/CameraRGB/F64-68.png',\n",
       " '../data/Carla3/CameraRGB/F64-69.png',\n",
       " '../data/Carla3/CameraRGB/F64-7.png',\n",
       " '../data/Carla3/CameraRGB/F64-70.png',\n",
       " '../data/Carla3/CameraRGB/F64-71.png',\n",
       " '../data/Carla3/CameraRGB/F64-72.png',\n",
       " '../data/Carla3/CameraRGB/F64-73.png',\n",
       " '../data/Carla3/CameraRGB/F64-74.png',\n",
       " '../data/Carla3/CameraRGB/F64-75.png',\n",
       " '../data/Carla3/CameraRGB/F64-76.png',\n",
       " '../data/Carla3/CameraRGB/F64-77.png',\n",
       " '../data/Carla3/CameraRGB/F64-78.png',\n",
       " '../data/Carla3/CameraRGB/F64-79.png',\n",
       " '../data/Carla3/CameraRGB/F64-8.png',\n",
       " '../data/Carla3/CameraRGB/F64-80.png',\n",
       " '../data/Carla3/CameraRGB/F64-81.png',\n",
       " '../data/Carla3/CameraRGB/F64-82.png',\n",
       " '../data/Carla3/CameraRGB/F64-83.png',\n",
       " '../data/Carla3/CameraRGB/F64-84.png',\n",
       " '../data/Carla3/CameraRGB/F64-85.png',\n",
       " '../data/Carla3/CameraRGB/F64-86.png',\n",
       " '../data/Carla3/CameraRGB/F64-87.png',\n",
       " '../data/Carla3/CameraRGB/F64-88.png',\n",
       " '../data/Carla3/CameraRGB/F64-89.png',\n",
       " '../data/Carla3/CameraRGB/F64-9.png',\n",
       " '../data/Carla3/CameraRGB/F64-90.png',\n",
       " '../data/Carla3/CameraRGB/F64-91.png',\n",
       " '../data/Carla3/CameraRGB/F64-92.png',\n",
       " '../data/Carla3/CameraRGB/F64-93.png',\n",
       " '../data/Carla3/CameraRGB/F64-94.png',\n",
       " '../data/Carla3/CameraRGB/F64-95.png',\n",
       " '../data/Carla3/CameraRGB/F64-96.png',\n",
       " '../data/Carla3/CameraRGB/F64-97.png',\n",
       " '../data/Carla3/CameraRGB/F64-98.png',\n",
       " '../data/Carla3/CameraRGB/F64-99.png',\n",
       " '../data/Carla3/CameraRGB/F65-1.png',\n",
       " '../data/Carla3/CameraRGB/F65-10.png',\n",
       " '../data/Carla3/CameraRGB/F65-100.png',\n",
       " '../data/Carla3/CameraRGB/F65-11.png',\n",
       " '../data/Carla3/CameraRGB/F65-12.png',\n",
       " '../data/Carla3/CameraRGB/F65-13.png',\n",
       " '../data/Carla3/CameraRGB/F65-14.png',\n",
       " '../data/Carla3/CameraRGB/F65-15.png',\n",
       " '../data/Carla3/CameraRGB/F65-16.png',\n",
       " '../data/Carla3/CameraRGB/F65-17.png',\n",
       " '../data/Carla3/CameraRGB/F65-18.png',\n",
       " '../data/Carla3/CameraRGB/F65-19.png',\n",
       " '../data/Carla3/CameraRGB/F65-2.png',\n",
       " '../data/Carla3/CameraRGB/F65-20.png',\n",
       " '../data/Carla3/CameraRGB/F65-21.png',\n",
       " '../data/Carla3/CameraRGB/F65-22.png',\n",
       " '../data/Carla3/CameraRGB/F65-23.png',\n",
       " '../data/Carla3/CameraRGB/F65-24.png',\n",
       " '../data/Carla3/CameraRGB/F65-25.png',\n",
       " '../data/Carla3/CameraRGB/F65-26.png',\n",
       " '../data/Carla3/CameraRGB/F65-27.png',\n",
       " '../data/Carla3/CameraRGB/F65-28.png',\n",
       " '../data/Carla3/CameraRGB/F65-29.png',\n",
       " '../data/Carla3/CameraRGB/F65-3.png',\n",
       " '../data/Carla3/CameraRGB/F65-30.png',\n",
       " '../data/Carla3/CameraRGB/F65-31.png',\n",
       " '../data/Carla3/CameraRGB/F65-32.png',\n",
       " '../data/Carla3/CameraRGB/F65-33.png',\n",
       " '../data/Carla3/CameraRGB/F65-34.png',\n",
       " '../data/Carla3/CameraRGB/F65-35.png',\n",
       " '../data/Carla3/CameraRGB/F65-36.png',\n",
       " '../data/Carla3/CameraRGB/F65-37.png',\n",
       " '../data/Carla3/CameraRGB/F65-38.png',\n",
       " '../data/Carla3/CameraRGB/F65-39.png',\n",
       " '../data/Carla3/CameraRGB/F65-4.png',\n",
       " '../data/Carla3/CameraRGB/F65-40.png',\n",
       " '../data/Carla3/CameraRGB/F65-41.png',\n",
       " '../data/Carla3/CameraRGB/F65-42.png',\n",
       " '../data/Carla3/CameraRGB/F65-43.png',\n",
       " '../data/Carla3/CameraRGB/F65-44.png',\n",
       " '../data/Carla3/CameraRGB/F65-45.png',\n",
       " '../data/Carla3/CameraRGB/F65-46.png',\n",
       " '../data/Carla3/CameraRGB/F65-47.png',\n",
       " '../data/Carla3/CameraRGB/F65-48.png',\n",
       " '../data/Carla3/CameraRGB/F65-49.png',\n",
       " '../data/Carla3/CameraRGB/F65-5.png',\n",
       " '../data/Carla3/CameraRGB/F65-50.png',\n",
       " '../data/Carla3/CameraRGB/F65-51.png',\n",
       " '../data/Carla3/CameraRGB/F65-52.png',\n",
       " '../data/Carla3/CameraRGB/F65-53.png',\n",
       " '../data/Carla3/CameraRGB/F65-54.png',\n",
       " '../data/Carla3/CameraRGB/F65-55.png',\n",
       " '../data/Carla3/CameraRGB/F65-56.png',\n",
       " '../data/Carla3/CameraRGB/F65-57.png',\n",
       " '../data/Carla3/CameraRGB/F65-58.png',\n",
       " '../data/Carla3/CameraRGB/F65-59.png',\n",
       " '../data/Carla3/CameraRGB/F65-6.png',\n",
       " '../data/Carla3/CameraRGB/F65-60.png',\n",
       " '../data/Carla3/CameraRGB/F65-61.png',\n",
       " '../data/Carla3/CameraRGB/F65-62.png',\n",
       " '../data/Carla3/CameraRGB/F65-63.png',\n",
       " '../data/Carla3/CameraRGB/F65-64.png',\n",
       " '../data/Carla3/CameraRGB/F65-65.png',\n",
       " '../data/Carla3/CameraRGB/F65-66.png',\n",
       " '../data/Carla3/CameraRGB/F65-67.png',\n",
       " '../data/Carla3/CameraRGB/F65-68.png',\n",
       " '../data/Carla3/CameraRGB/F65-69.png',\n",
       " '../data/Carla3/CameraRGB/F65-7.png',\n",
       " '../data/Carla3/CameraRGB/F65-70.png',\n",
       " '../data/Carla3/CameraRGB/F65-71.png',\n",
       " '../data/Carla3/CameraRGB/F65-72.png',\n",
       " '../data/Carla3/CameraRGB/F65-73.png',\n",
       " '../data/Carla3/CameraRGB/F65-74.png',\n",
       " '../data/Carla3/CameraRGB/F65-75.png',\n",
       " '../data/Carla3/CameraRGB/F65-76.png',\n",
       " '../data/Carla3/CameraRGB/F65-77.png',\n",
       " '../data/Carla3/CameraRGB/F65-78.png',\n",
       " '../data/Carla3/CameraRGB/F65-79.png',\n",
       " '../data/Carla3/CameraRGB/F65-8.png',\n",
       " '../data/Carla3/CameraRGB/F65-80.png',\n",
       " '../data/Carla3/CameraRGB/F65-81.png',\n",
       " '../data/Carla3/CameraRGB/F65-82.png',\n",
       " '../data/Carla3/CameraRGB/F65-83.png',\n",
       " '../data/Carla3/CameraRGB/F65-84.png',\n",
       " '../data/Carla3/CameraRGB/F65-85.png',\n",
       " '../data/Carla3/CameraRGB/F65-86.png',\n",
       " '../data/Carla3/CameraRGB/F65-87.png',\n",
       " '../data/Carla3/CameraRGB/F65-88.png',\n",
       " '../data/Carla3/CameraRGB/F65-89.png',\n",
       " '../data/Carla3/CameraRGB/F65-9.png',\n",
       " '../data/Carla3/CameraRGB/F65-90.png',\n",
       " '../data/Carla3/CameraRGB/F65-91.png',\n",
       " '../data/Carla3/CameraRGB/F65-92.png',\n",
       " '../data/Carla3/CameraRGB/F65-93.png',\n",
       " '../data/Carla3/CameraRGB/F65-94.png',\n",
       " '../data/Carla3/CameraRGB/F65-95.png',\n",
       " '../data/Carla3/CameraRGB/F65-96.png',\n",
       " '../data/Carla3/CameraRGB/F65-97.png',\n",
       " '../data/Carla3/CameraRGB/F65-98.png',\n",
       " '../data/Carla3/CameraRGB/F65-99.png',\n",
       " '../data/Carla3/CameraRGB/F66-1.png',\n",
       " '../data/Carla3/CameraRGB/F66-10.png',\n",
       " '../data/Carla3/CameraRGB/F66-100.png',\n",
       " '../data/Carla3/CameraRGB/F66-11.png',\n",
       " '../data/Carla3/CameraRGB/F66-12.png',\n",
       " '../data/Carla3/CameraRGB/F66-13.png',\n",
       " '../data/Carla3/CameraRGB/F66-14.png',\n",
       " '../data/Carla3/CameraRGB/F66-15.png',\n",
       " '../data/Carla3/CameraRGB/F66-16.png',\n",
       " '../data/Carla3/CameraRGB/F66-17.png',\n",
       " '../data/Carla3/CameraRGB/F66-18.png',\n",
       " '../data/Carla3/CameraRGB/F66-19.png',\n",
       " '../data/Carla3/CameraRGB/F66-2.png',\n",
       " '../data/Carla3/CameraRGB/F66-20.png',\n",
       " '../data/Carla3/CameraRGB/F66-21.png',\n",
       " '../data/Carla3/CameraRGB/F66-22.png',\n",
       " '../data/Carla3/CameraRGB/F66-23.png',\n",
       " '../data/Carla3/CameraRGB/F66-24.png',\n",
       " '../data/Carla3/CameraRGB/F66-25.png',\n",
       " '../data/Carla3/CameraRGB/F66-26.png',\n",
       " '../data/Carla3/CameraRGB/F66-27.png',\n",
       " '../data/Carla3/CameraRGB/F66-28.png',\n",
       " '../data/Carla3/CameraRGB/F66-29.png',\n",
       " '../data/Carla3/CameraRGB/F66-3.png',\n",
       " '../data/Carla3/CameraRGB/F66-30.png',\n",
       " '../data/Carla3/CameraRGB/F66-31.png',\n",
       " '../data/Carla3/CameraRGB/F66-32.png',\n",
       " '../data/Carla3/CameraRGB/F66-33.png',\n",
       " '../data/Carla3/CameraRGB/F66-34.png',\n",
       " '../data/Carla3/CameraRGB/F66-35.png',\n",
       " '../data/Carla3/CameraRGB/F66-36.png',\n",
       " '../data/Carla3/CameraRGB/F66-37.png',\n",
       " '../data/Carla3/CameraRGB/F66-38.png',\n",
       " '../data/Carla3/CameraRGB/F66-39.png',\n",
       " '../data/Carla3/CameraRGB/F66-4.png',\n",
       " '../data/Carla3/CameraRGB/F66-40.png',\n",
       " '../data/Carla3/CameraRGB/F66-41.png',\n",
       " '../data/Carla3/CameraRGB/F66-42.png',\n",
       " '../data/Carla3/CameraRGB/F66-43.png',\n",
       " '../data/Carla3/CameraRGB/F66-44.png',\n",
       " '../data/Carla3/CameraRGB/F66-45.png',\n",
       " '../data/Carla3/CameraRGB/F66-46.png',\n",
       " '../data/Carla3/CameraRGB/F66-47.png',\n",
       " '../data/Carla3/CameraRGB/F66-48.png',\n",
       " '../data/Carla3/CameraRGB/F66-49.png',\n",
       " '../data/Carla3/CameraRGB/F66-5.png',\n",
       " '../data/Carla3/CameraRGB/F66-50.png',\n",
       " '../data/Carla3/CameraRGB/F66-51.png',\n",
       " '../data/Carla3/CameraRGB/F66-52.png',\n",
       " '../data/Carla3/CameraRGB/F66-53.png',\n",
       " '../data/Carla3/CameraRGB/F66-54.png',\n",
       " '../data/Carla3/CameraRGB/F66-55.png',\n",
       " '../data/Carla3/CameraRGB/F66-56.png',\n",
       " '../data/Carla3/CameraRGB/F66-57.png',\n",
       " '../data/Carla3/CameraRGB/F66-58.png',\n",
       " '../data/Carla3/CameraRGB/F66-59.png',\n",
       " '../data/Carla3/CameraRGB/F66-6.png',\n",
       " '../data/Carla3/CameraRGB/F66-60.png',\n",
       " '../data/Carla3/CameraRGB/F66-61.png',\n",
       " '../data/Carla3/CameraRGB/F66-62.png',\n",
       " '../data/Carla3/CameraRGB/F66-63.png',\n",
       " '../data/Carla3/CameraRGB/F66-64.png',\n",
       " '../data/Carla3/CameraRGB/F66-65.png',\n",
       " '../data/Carla3/CameraRGB/F66-66.png',\n",
       " '../data/Carla3/CameraRGB/F66-67.png',\n",
       " '../data/Carla3/CameraRGB/F66-68.png',\n",
       " '../data/Carla3/CameraRGB/F66-69.png',\n",
       " '../data/Carla3/CameraRGB/F66-7.png',\n",
       " '../data/Carla3/CameraRGB/F66-70.png',\n",
       " '../data/Carla3/CameraRGB/F66-71.png',\n",
       " '../data/Carla3/CameraRGB/F66-72.png',\n",
       " '../data/Carla3/CameraRGB/F66-73.png',\n",
       " '../data/Carla3/CameraRGB/F66-74.png',\n",
       " '../data/Carla3/CameraRGB/F66-75.png',\n",
       " '../data/Carla3/CameraRGB/F66-76.png',\n",
       " '../data/Carla3/CameraRGB/F66-77.png',\n",
       " '../data/Carla3/CameraRGB/F66-78.png',\n",
       " '../data/Carla3/CameraRGB/F66-79.png',\n",
       " '../data/Carla3/CameraRGB/F66-8.png',\n",
       " '../data/Carla3/CameraRGB/F66-80.png',\n",
       " '../data/Carla3/CameraRGB/F66-81.png',\n",
       " '../data/Carla3/CameraRGB/F66-82.png',\n",
       " '../data/Carla3/CameraRGB/F66-83.png',\n",
       " '../data/Carla3/CameraRGB/F66-84.png',\n",
       " '../data/Carla3/CameraRGB/F66-85.png',\n",
       " '../data/Carla3/CameraRGB/F66-86.png',\n",
       " '../data/Carla3/CameraRGB/F66-87.png',\n",
       " '../data/Carla3/CameraRGB/F66-88.png',\n",
       " '../data/Carla3/CameraRGB/F66-89.png',\n",
       " '../data/Carla3/CameraRGB/F66-9.png',\n",
       " '../data/Carla3/CameraRGB/F66-90.png',\n",
       " '../data/Carla3/CameraRGB/F66-91.png',\n",
       " '../data/Carla3/CameraRGB/F66-92.png',\n",
       " '../data/Carla3/CameraRGB/F66-93.png',\n",
       " '../data/Carla3/CameraRGB/F66-94.png',\n",
       " '../data/Carla3/CameraRGB/F66-95.png',\n",
       " '../data/Carla3/CameraRGB/F66-96.png',\n",
       " '../data/Carla3/CameraRGB/F66-97.png',\n",
       " '../data/Carla3/CameraRGB/F66-98.png',\n",
       " '../data/Carla3/CameraRGB/F66-99.png',\n",
       " '../data/Carla3/CameraRGB/F67-1.png',\n",
       " '../data/Carla3/CameraRGB/F67-10.png',\n",
       " '../data/Carla3/CameraRGB/F67-100.png',\n",
       " '../data/Carla3/CameraRGB/F67-11.png',\n",
       " '../data/Carla3/CameraRGB/F67-12.png',\n",
       " '../data/Carla3/CameraRGB/F67-13.png',\n",
       " '../data/Carla3/CameraRGB/F67-14.png',\n",
       " '../data/Carla3/CameraRGB/F67-15.png',\n",
       " '../data/Carla3/CameraRGB/F67-16.png',\n",
       " '../data/Carla3/CameraRGB/F67-17.png',\n",
       " '../data/Carla3/CameraRGB/F67-18.png',\n",
       " '../data/Carla3/CameraRGB/F67-19.png',\n",
       " '../data/Carla3/CameraRGB/F67-2.png',\n",
       " '../data/Carla3/CameraRGB/F67-20.png',\n",
       " '../data/Carla3/CameraRGB/F67-21.png',\n",
       " '../data/Carla3/CameraRGB/F67-22.png',\n",
       " '../data/Carla3/CameraRGB/F67-23.png',\n",
       " '../data/Carla3/CameraRGB/F67-24.png',\n",
       " '../data/Carla3/CameraRGB/F67-25.png',\n",
       " '../data/Carla3/CameraRGB/F67-26.png',\n",
       " '../data/Carla3/CameraRGB/F67-27.png',\n",
       " '../data/Carla3/CameraRGB/F67-28.png',\n",
       " '../data/Carla3/CameraRGB/F67-29.png',\n",
       " '../data/Carla3/CameraRGB/F67-3.png',\n",
       " '../data/Carla3/CameraRGB/F67-30.png',\n",
       " '../data/Carla3/CameraRGB/F67-31.png',\n",
       " '../data/Carla3/CameraRGB/F67-32.png',\n",
       " '../data/Carla3/CameraRGB/F67-33.png',\n",
       " '../data/Carla3/CameraRGB/F67-34.png',\n",
       " '../data/Carla3/CameraRGB/F67-35.png',\n",
       " '../data/Carla3/CameraRGB/F67-36.png',\n",
       " '../data/Carla3/CameraRGB/F67-37.png',\n",
       " '../data/Carla3/CameraRGB/F67-38.png',\n",
       " '../data/Carla3/CameraRGB/F67-39.png',\n",
       " '../data/Carla3/CameraRGB/F67-4.png',\n",
       " '../data/Carla3/CameraRGB/F67-40.png',\n",
       " '../data/Carla3/CameraRGB/F67-41.png',\n",
       " '../data/Carla3/CameraRGB/F67-42.png',\n",
       " '../data/Carla3/CameraRGB/F67-43.png',\n",
       " '../data/Carla3/CameraRGB/F67-44.png',\n",
       " '../data/Carla3/CameraRGB/F67-45.png',\n",
       " '../data/Carla3/CameraRGB/F67-46.png',\n",
       " '../data/Carla3/CameraRGB/F67-47.png',\n",
       " '../data/Carla3/CameraRGB/F67-48.png',\n",
       " '../data/Carla3/CameraRGB/F67-49.png',\n",
       " '../data/Carla3/CameraRGB/F67-5.png',\n",
       " '../data/Carla3/CameraRGB/F67-50.png',\n",
       " '../data/Carla3/CameraRGB/F67-51.png',\n",
       " '../data/Carla3/CameraRGB/F67-52.png',\n",
       " '../data/Carla3/CameraRGB/F67-53.png',\n",
       " '../data/Carla3/CameraRGB/F67-54.png',\n",
       " '../data/Carla3/CameraRGB/F67-55.png',\n",
       " '../data/Carla3/CameraRGB/F67-56.png',\n",
       " '../data/Carla3/CameraRGB/F67-57.png',\n",
       " '../data/Carla3/CameraRGB/F67-58.png',\n",
       " '../data/Carla3/CameraRGB/F67-59.png',\n",
       " '../data/Carla3/CameraRGB/F67-6.png',\n",
       " '../data/Carla3/CameraRGB/F67-60.png',\n",
       " '../data/Carla3/CameraRGB/F67-61.png',\n",
       " '../data/Carla3/CameraRGB/F67-62.png',\n",
       " '../data/Carla3/CameraRGB/F67-63.png',\n",
       " '../data/Carla3/CameraRGB/F67-64.png',\n",
       " '../data/Carla3/CameraRGB/F67-65.png',\n",
       " '../data/Carla3/CameraRGB/F67-66.png',\n",
       " '../data/Carla3/CameraRGB/F67-67.png',\n",
       " '../data/Carla3/CameraRGB/F67-68.png',\n",
       " '../data/Carla3/CameraRGB/F67-69.png',\n",
       " '../data/Carla3/CameraRGB/F67-7.png',\n",
       " '../data/Carla3/CameraRGB/F67-70.png',\n",
       " '../data/Carla3/CameraRGB/F67-71.png',\n",
       " '../data/Carla3/CameraRGB/F67-72.png',\n",
       " '../data/Carla3/CameraRGB/F67-73.png',\n",
       " '../data/Carla3/CameraRGB/F67-74.png',\n",
       " '../data/Carla3/CameraRGB/F67-75.png',\n",
       " '../data/Carla3/CameraRGB/F67-76.png',\n",
       " '../data/Carla3/CameraRGB/F67-77.png',\n",
       " '../data/Carla3/CameraRGB/F67-78.png',\n",
       " '../data/Carla3/CameraRGB/F67-79.png',\n",
       " '../data/Carla3/CameraRGB/F67-8.png',\n",
       " '../data/Carla3/CameraRGB/F67-80.png',\n",
       " '../data/Carla3/CameraRGB/F67-81.png',\n",
       " '../data/Carla3/CameraRGB/F67-82.png',\n",
       " '../data/Carla3/CameraRGB/F67-83.png',\n",
       " '../data/Carla3/CameraRGB/F67-84.png',\n",
       " '../data/Carla3/CameraRGB/F67-85.png',\n",
       " '../data/Carla3/CameraRGB/F67-86.png',\n",
       " '../data/Carla3/CameraRGB/F67-87.png',\n",
       " '../data/Carla3/CameraRGB/F67-88.png',\n",
       " '../data/Carla3/CameraRGB/F67-89.png',\n",
       " '../data/Carla3/CameraRGB/F67-9.png',\n",
       " '../data/Carla3/CameraRGB/F67-90.png',\n",
       " '../data/Carla3/CameraRGB/F67-91.png',\n",
       " '../data/Carla3/CameraRGB/F67-92.png',\n",
       " '../data/Carla3/CameraRGB/F67-93.png',\n",
       " '../data/Carla3/CameraRGB/F67-94.png',\n",
       " '../data/Carla3/CameraRGB/F67-95.png',\n",
       " '../data/Carla3/CameraRGB/F67-96.png',\n",
       " '../data/Carla3/CameraRGB/F67-97.png',\n",
       " '../data/Carla3/CameraRGB/F67-98.png',\n",
       " '../data/Carla3/CameraRGB/F67-99.png',\n",
       " '../data/Carla3/CameraRGB/F68-1.png',\n",
       " '../data/Carla3/CameraRGB/F68-10.png',\n",
       " '../data/Carla3/CameraRGB/F68-100.png',\n",
       " '../data/Carla3/CameraRGB/F68-11.png',\n",
       " '../data/Carla3/CameraRGB/F68-12.png',\n",
       " '../data/Carla3/CameraRGB/F68-13.png',\n",
       " '../data/Carla3/CameraRGB/F68-14.png',\n",
       " '../data/Carla3/CameraRGB/F68-15.png',\n",
       " '../data/Carla3/CameraRGB/F68-16.png',\n",
       " '../data/Carla3/CameraRGB/F68-17.png',\n",
       " '../data/Carla3/CameraRGB/F68-18.png',\n",
       " '../data/Carla3/CameraRGB/F68-19.png',\n",
       " '../data/Carla3/CameraRGB/F68-2.png',\n",
       " '../data/Carla3/CameraRGB/F68-20.png',\n",
       " '../data/Carla3/CameraRGB/F68-21.png',\n",
       " '../data/Carla3/CameraRGB/F68-22.png',\n",
       " '../data/Carla3/CameraRGB/F68-23.png',\n",
       " '../data/Carla3/CameraRGB/F68-24.png',\n",
       " '../data/Carla3/CameraRGB/F68-25.png',\n",
       " '../data/Carla3/CameraRGB/F68-26.png',\n",
       " '../data/Carla3/CameraRGB/F68-27.png',\n",
       " '../data/Carla3/CameraRGB/F68-28.png',\n",
       " '../data/Carla3/CameraRGB/F68-29.png',\n",
       " '../data/Carla3/CameraRGB/F68-3.png',\n",
       " '../data/Carla3/CameraRGB/F68-30.png',\n",
       " '../data/Carla3/CameraRGB/F68-31.png',\n",
       " '../data/Carla3/CameraRGB/F68-32.png',\n",
       " '../data/Carla3/CameraRGB/F68-33.png',\n",
       " '../data/Carla3/CameraRGB/F68-34.png',\n",
       " '../data/Carla3/CameraRGB/F68-35.png',\n",
       " '../data/Carla3/CameraRGB/F68-36.png',\n",
       " '../data/Carla3/CameraRGB/F68-37.png',\n",
       " '../data/Carla3/CameraRGB/F68-38.png',\n",
       " '../data/Carla3/CameraRGB/F68-39.png',\n",
       " '../data/Carla3/CameraRGB/F68-4.png',\n",
       " '../data/Carla3/CameraRGB/F68-40.png',\n",
       " '../data/Carla3/CameraRGB/F68-41.png',\n",
       " '../data/Carla3/CameraRGB/F68-42.png',\n",
       " '../data/Carla3/CameraRGB/F68-43.png',\n",
       " '../data/Carla3/CameraRGB/F68-44.png',\n",
       " '../data/Carla3/CameraRGB/F68-45.png',\n",
       " '../data/Carla3/CameraRGB/F68-46.png',\n",
       " '../data/Carla3/CameraRGB/F68-47.png',\n",
       " '../data/Carla3/CameraRGB/F68-48.png',\n",
       " '../data/Carla3/CameraRGB/F68-49.png',\n",
       " '../data/Carla3/CameraRGB/F68-5.png',\n",
       " '../data/Carla3/CameraRGB/F68-50.png',\n",
       " '../data/Carla3/CameraRGB/F68-51.png',\n",
       " '../data/Carla3/CameraRGB/F68-52.png',\n",
       " '../data/Carla3/CameraRGB/F68-53.png',\n",
       " '../data/Carla3/CameraRGB/F68-54.png',\n",
       " '../data/Carla3/CameraRGB/F68-55.png',\n",
       " '../data/Carla3/CameraRGB/F68-56.png',\n",
       " '../data/Carla3/CameraRGB/F68-57.png',\n",
       " '../data/Carla3/CameraRGB/F68-58.png',\n",
       " '../data/Carla3/CameraRGB/F68-59.png',\n",
       " '../data/Carla3/CameraRGB/F68-6.png',\n",
       " '../data/Carla3/CameraRGB/F68-60.png',\n",
       " '../data/Carla3/CameraRGB/F68-61.png',\n",
       " '../data/Carla3/CameraRGB/F68-62.png',\n",
       " '../data/Carla3/CameraRGB/F68-63.png',\n",
       " '../data/Carla3/CameraRGB/F68-64.png',\n",
       " '../data/Carla3/CameraRGB/F68-65.png',\n",
       " '../data/Carla3/CameraRGB/F68-66.png',\n",
       " '../data/Carla3/CameraRGB/F68-67.png',\n",
       " '../data/Carla3/CameraRGB/F68-68.png',\n",
       " '../data/Carla3/CameraRGB/F68-69.png',\n",
       " '../data/Carla3/CameraRGB/F68-7.png',\n",
       " '../data/Carla3/CameraRGB/F68-70.png',\n",
       " '../data/Carla3/CameraRGB/F68-71.png',\n",
       " '../data/Carla3/CameraRGB/F68-72.png',\n",
       " '../data/Carla3/CameraRGB/F68-73.png',\n",
       " '../data/Carla3/CameraRGB/F68-74.png',\n",
       " '../data/Carla3/CameraRGB/F68-75.png',\n",
       " '../data/Carla3/CameraRGB/F68-76.png',\n",
       " '../data/Carla3/CameraRGB/F68-77.png',\n",
       " '../data/Carla3/CameraRGB/F68-78.png',\n",
       " '../data/Carla3/CameraRGB/F68-79.png',\n",
       " '../data/Carla3/CameraRGB/F68-8.png',\n",
       " '../data/Carla3/CameraRGB/F68-80.png',\n",
       " '../data/Carla3/CameraRGB/F68-81.png',\n",
       " '../data/Carla3/CameraRGB/F68-82.png',\n",
       " '../data/Carla3/CameraRGB/F68-83.png',\n",
       " '../data/Carla3/CameraRGB/F68-84.png',\n",
       " '../data/Carla3/CameraRGB/F68-85.png',\n",
       " '../data/Carla3/CameraRGB/F68-86.png',\n",
       " '../data/Carla3/CameraRGB/F68-87.png',\n",
       " '../data/Carla3/CameraRGB/F68-88.png',\n",
       " '../data/Carla3/CameraRGB/F68-89.png',\n",
       " '../data/Carla3/CameraRGB/F68-9.png',\n",
       " '../data/Carla3/CameraRGB/F68-90.png',\n",
       " '../data/Carla3/CameraRGB/F68-91.png',\n",
       " '../data/Carla3/CameraRGB/F68-92.png',\n",
       " '../data/Carla3/CameraRGB/F68-93.png',\n",
       " '../data/Carla3/CameraRGB/F68-94.png',\n",
       " '../data/Carla3/CameraRGB/F68-95.png',\n",
       " '../data/Carla3/CameraRGB/F68-96.png',\n",
       " '../data/Carla3/CameraRGB/F68-97.png',\n",
       " '../data/Carla3/CameraRGB/F68-98.png',\n",
       " '../data/Carla3/CameraRGB/F68-99.png',\n",
       " '../data/Carla3/CameraRGB/F69-1.png',\n",
       " '../data/Carla3/CameraRGB/F69-10.png',\n",
       " '../data/Carla3/CameraRGB/F69-100.png',\n",
       " '../data/Carla3/CameraRGB/F69-11.png',\n",
       " '../data/Carla3/CameraRGB/F69-12.png',\n",
       " '../data/Carla3/CameraRGB/F69-13.png',\n",
       " '../data/Carla3/CameraRGB/F69-14.png',\n",
       " '../data/Carla3/CameraRGB/F69-15.png',\n",
       " '../data/Carla3/CameraRGB/F69-16.png',\n",
       " '../data/Carla3/CameraRGB/F69-17.png',\n",
       " '../data/Carla3/CameraRGB/F69-18.png',\n",
       " '../data/Carla3/CameraRGB/F69-19.png',\n",
       " '../data/Carla3/CameraRGB/F69-2.png',\n",
       " '../data/Carla3/CameraRGB/F69-20.png',\n",
       " '../data/Carla3/CameraRGB/F69-21.png',\n",
       " '../data/Carla3/CameraRGB/F69-22.png',\n",
       " '../data/Carla3/CameraRGB/F69-23.png',\n",
       " '../data/Carla3/CameraRGB/F69-24.png',\n",
       " '../data/Carla3/CameraRGB/F69-25.png',\n",
       " '../data/Carla3/CameraRGB/F69-26.png',\n",
       " '../data/Carla3/CameraRGB/F69-27.png',\n",
       " '../data/Carla3/CameraRGB/F69-28.png',\n",
       " '../data/Carla3/CameraRGB/F69-29.png',\n",
       " '../data/Carla3/CameraRGB/F69-3.png',\n",
       " '../data/Carla3/CameraRGB/F69-30.png',\n",
       " '../data/Carla3/CameraRGB/F69-31.png',\n",
       " '../data/Carla3/CameraRGB/F69-32.png',\n",
       " '../data/Carla3/CameraRGB/F69-33.png',\n",
       " '../data/Carla3/CameraRGB/F69-34.png',\n",
       " '../data/Carla3/CameraRGB/F69-35.png',\n",
       " '../data/Carla3/CameraRGB/F69-36.png',\n",
       " '../data/Carla3/CameraRGB/F69-37.png',\n",
       " '../data/Carla3/CameraRGB/F69-38.png',\n",
       " '../data/Carla3/CameraRGB/F69-39.png',\n",
       " '../data/Carla3/CameraRGB/F69-4.png',\n",
       " '../data/Carla3/CameraRGB/F69-40.png',\n",
       " '../data/Carla3/CameraRGB/F69-41.png',\n",
       " '../data/Carla3/CameraRGB/F69-42.png',\n",
       " '../data/Carla3/CameraRGB/F69-43.png',\n",
       " '../data/Carla3/CameraRGB/F69-44.png',\n",
       " '../data/Carla3/CameraRGB/F69-45.png',\n",
       " '../data/Carla3/CameraRGB/F69-46.png',\n",
       " '../data/Carla3/CameraRGB/F69-47.png',\n",
       " '../data/Carla3/CameraRGB/F69-48.png',\n",
       " '../data/Carla3/CameraRGB/F69-49.png',\n",
       " '../data/Carla3/CameraRGB/F69-5.png',\n",
       " '../data/Carla3/CameraRGB/F69-50.png',\n",
       " '../data/Carla3/CameraRGB/F69-51.png',\n",
       " '../data/Carla3/CameraRGB/F69-52.png',\n",
       " '../data/Carla3/CameraRGB/F69-53.png',\n",
       " '../data/Carla3/CameraRGB/F69-54.png',\n",
       " '../data/Carla3/CameraRGB/F69-55.png',\n",
       " '../data/Carla3/CameraRGB/F69-56.png',\n",
       " '../data/Carla3/CameraRGB/F69-57.png',\n",
       " '../data/Carla3/CameraRGB/F69-58.png',\n",
       " '../data/Carla3/CameraRGB/F69-59.png',\n",
       " '../data/Carla3/CameraRGB/F69-6.png',\n",
       " '../data/Carla3/CameraRGB/F69-60.png',\n",
       " '../data/Carla3/CameraRGB/F69-61.png',\n",
       " '../data/Carla3/CameraRGB/F69-62.png',\n",
       " '../data/Carla3/CameraRGB/F69-63.png',\n",
       " '../data/Carla3/CameraRGB/F69-64.png',\n",
       " '../data/Carla3/CameraRGB/F69-65.png',\n",
       " '../data/Carla3/CameraRGB/F69-66.png',\n",
       " '../data/Carla3/CameraRGB/F69-67.png',\n",
       " '../data/Carla3/CameraRGB/F69-68.png',\n",
       " '../data/Carla3/CameraRGB/F69-69.png',\n",
       " '../data/Carla3/CameraRGB/F69-7.png',\n",
       " '../data/Carla3/CameraRGB/F69-70.png',\n",
       " '../data/Carla3/CameraRGB/F69-71.png',\n",
       " '../data/Carla3/CameraRGB/F69-72.png',\n",
       " '../data/Carla3/CameraRGB/F69-73.png',\n",
       " '../data/Carla3/CameraRGB/F69-74.png',\n",
       " '../data/Carla3/CameraRGB/F69-75.png',\n",
       " '../data/Carla3/CameraRGB/F69-76.png',\n",
       " '../data/Carla3/CameraRGB/F69-77.png',\n",
       " '../data/Carla3/CameraRGB/F69-78.png',\n",
       " '../data/Carla3/CameraRGB/F69-79.png',\n",
       " '../data/Carla3/CameraRGB/F69-8.png',\n",
       " '../data/Carla3/CameraRGB/F69-80.png',\n",
       " '../data/Carla3/CameraRGB/F69-81.png',\n",
       " '../data/Carla3/CameraRGB/F69-82.png',\n",
       " '../data/Carla3/CameraRGB/F69-83.png',\n",
       " '../data/Carla3/CameraRGB/F69-84.png',\n",
       " '../data/Carla3/CameraRGB/F69-85.png',\n",
       " '../data/Carla3/CameraRGB/F69-86.png',\n",
       " '../data/Carla3/CameraRGB/F69-87.png',\n",
       " '../data/Carla3/CameraRGB/F69-88.png',\n",
       " '../data/Carla3/CameraRGB/F69-89.png',\n",
       " '../data/Carla3/CameraRGB/F69-9.png',\n",
       " '../data/Carla3/CameraRGB/F69-90.png',\n",
       " '../data/Carla3/CameraRGB/F69-91.png',\n",
       " '../data/Carla3/CameraRGB/F69-92.png',\n",
       " '../data/Carla3/CameraRGB/F69-93.png',\n",
       " '../data/Carla3/CameraRGB/F69-94.png',\n",
       " '../data/Carla3/CameraRGB/F69-95.png',\n",
       " '../data/Carla3/CameraRGB/F69-96.png',\n",
       " '../data/Carla3/CameraRGB/F69-97.png',\n",
       " '../data/Carla3/CameraRGB/F69-98.png',\n",
       " '../data/Carla3/CameraRGB/F69-99.png',\n",
       " '../data/Carla3/CameraRGB/F70-1.png',\n",
       " '../data/Carla3/CameraRGB/F70-10.png',\n",
       " '../data/Carla3/CameraRGB/F70-100.png',\n",
       " '../data/Carla3/CameraRGB/F70-11.png',\n",
       " '../data/Carla3/CameraRGB/F70-12.png',\n",
       " '../data/Carla3/CameraRGB/F70-13.png',\n",
       " '../data/Carla3/CameraRGB/F70-14.png',\n",
       " '../data/Carla3/CameraRGB/F70-15.png',\n",
       " '../data/Carla3/CameraRGB/F70-16.png',\n",
       " '../data/Carla3/CameraRGB/F70-17.png',\n",
       " '../data/Carla3/CameraRGB/F70-18.png',\n",
       " '../data/Carla3/CameraRGB/F70-19.png',\n",
       " '../data/Carla3/CameraRGB/F70-2.png',\n",
       " '../data/Carla3/CameraRGB/F70-20.png',\n",
       " '../data/Carla3/CameraRGB/F70-21.png',\n",
       " '../data/Carla3/CameraRGB/F70-22.png',\n",
       " '../data/Carla3/CameraRGB/F70-23.png',\n",
       " '../data/Carla3/CameraRGB/F70-24.png',\n",
       " '../data/Carla3/CameraRGB/F70-25.png',\n",
       " '../data/Carla3/CameraRGB/F70-26.png',\n",
       " '../data/Carla3/CameraRGB/F70-27.png',\n",
       " '../data/Carla3/CameraRGB/F70-28.png',\n",
       " '../data/Carla3/CameraRGB/F70-29.png',\n",
       " '../data/Carla3/CameraRGB/F70-3.png',\n",
       " '../data/Carla3/CameraRGB/F70-30.png',\n",
       " '../data/Carla3/CameraRGB/F70-31.png',\n",
       " '../data/Carla3/CameraRGB/F70-32.png',\n",
       " '../data/Carla3/CameraRGB/F70-33.png',\n",
       " '../data/Carla3/CameraRGB/F70-34.png',\n",
       " '../data/Carla3/CameraRGB/F70-35.png',\n",
       " '../data/Carla3/CameraRGB/F70-36.png',\n",
       " '../data/Carla3/CameraRGB/F70-37.png',\n",
       " '../data/Carla3/CameraRGB/F70-38.png',\n",
       " '../data/Carla3/CameraRGB/F70-39.png',\n",
       " '../data/Carla3/CameraRGB/F70-4.png',\n",
       " '../data/Carla3/CameraRGB/F70-40.png',\n",
       " '../data/Carla3/CameraRGB/F70-41.png',\n",
       " '../data/Carla3/CameraRGB/F70-42.png',\n",
       " '../data/Carla3/CameraRGB/F70-43.png',\n",
       " '../data/Carla3/CameraRGB/F70-44.png',\n",
       " '../data/Carla3/CameraRGB/F70-45.png',\n",
       " '../data/Carla3/CameraRGB/F70-46.png',\n",
       " '../data/Carla3/CameraRGB/F70-47.png',\n",
       " '../data/Carla3/CameraRGB/F70-48.png',\n",
       " '../data/Carla3/CameraRGB/F70-49.png',\n",
       " '../data/Carla3/CameraRGB/F70-5.png',\n",
       " '../data/Carla3/CameraRGB/F70-50.png',\n",
       " '../data/Carla3/CameraRGB/F70-51.png',\n",
       " '../data/Carla3/CameraRGB/F70-52.png',\n",
       " '../data/Carla3/CameraRGB/F70-53.png',\n",
       " '../data/Carla3/CameraRGB/F70-54.png',\n",
       " '../data/Carla3/CameraRGB/F70-55.png',\n",
       " '../data/Carla3/CameraRGB/F70-56.png',\n",
       " '../data/Carla3/CameraRGB/F70-57.png',\n",
       " '../data/Carla3/CameraRGB/F70-58.png',\n",
       " '../data/Carla3/CameraRGB/F70-59.png',\n",
       " '../data/Carla3/CameraRGB/F70-6.png',\n",
       " '../data/Carla3/CameraRGB/F70-60.png',\n",
       " '../data/Carla3/CameraRGB/F70-61.png',\n",
       " '../data/Carla3/CameraRGB/F70-62.png',\n",
       " '../data/Carla3/CameraRGB/F70-63.png',\n",
       " '../data/Carla3/CameraRGB/F70-64.png',\n",
       " '../data/Carla3/CameraRGB/F70-65.png',\n",
       " '../data/Carla3/CameraRGB/F70-66.png',\n",
       " '../data/Carla3/CameraRGB/F70-67.png',\n",
       " '../data/Carla3/CameraRGB/F70-68.png',\n",
       " '../data/Carla3/CameraRGB/F70-69.png',\n",
       " '../data/Carla3/CameraRGB/F70-7.png',\n",
       " '../data/Carla3/CameraRGB/F70-70.png',\n",
       " '../data/Carla3/CameraRGB/F70-71.png',\n",
       " '../data/Carla3/CameraRGB/F70-72.png',\n",
       " '../data/Carla3/CameraRGB/F70-73.png',\n",
       " '../data/Carla3/CameraRGB/F70-74.png',\n",
       " '../data/Carla3/CameraRGB/F70-75.png',\n",
       " '../data/Carla3/CameraRGB/F70-76.png',\n",
       " '../data/Carla3/CameraRGB/F70-77.png',\n",
       " '../data/Carla3/CameraRGB/F70-78.png',\n",
       " '../data/Carla3/CameraRGB/F70-79.png',\n",
       " '../data/Carla3/CameraRGB/F70-8.png',\n",
       " '../data/Carla3/CameraRGB/F70-80.png',\n",
       " '../data/Carla3/CameraRGB/F70-81.png',\n",
       " '../data/Carla3/CameraRGB/F70-82.png',\n",
       " '../data/Carla3/CameraRGB/F70-83.png',\n",
       " '../data/Carla3/CameraRGB/F70-84.png',\n",
       " '../data/Carla3/CameraRGB/F70-85.png',\n",
       " '../data/Carla3/CameraRGB/F70-86.png',\n",
       " '../data/Carla3/CameraRGB/F70-87.png',\n",
       " '../data/Carla3/CameraRGB/F70-88.png',\n",
       " '../data/Carla3/CameraRGB/F70-89.png',\n",
       " '../data/Carla3/CameraRGB/F70-9.png',\n",
       " '../data/Carla3/CameraRGB/F70-90.png',\n",
       " '../data/Carla3/CameraRGB/F70-91.png',\n",
       " '../data/Carla3/CameraRGB/F70-92.png',\n",
       " '../data/Carla3/CameraRGB/F70-93.png',\n",
       " '../data/Carla3/CameraRGB/F70-94.png',\n",
       " '../data/Carla3/CameraRGB/F70-95.png',\n",
       " '../data/Carla3/CameraRGB/F70-96.png',\n",
       " '../data/Carla3/CameraRGB/F70-97.png',\n",
       " '../data/Carla3/CameraRGB/F70-98.png',\n",
       " '../data/Carla3/CameraRGB/F70-99.png',\n",
       " ...]"
      ]
     },
     "execution_count": 16,
     "metadata": {},
     "output_type": "execute_result"
    }
   ],
   "source": [
    "c3_path"
   ]
  },
  {
   "cell_type": "code",
   "execution_count": 19,
   "metadata": {},
   "outputs": [
    {
     "data": {
      "text/plain": [
       "<matplotlib.image.AxesImage at 0x7f77b43c0b00>"
      ]
     },
     "execution_count": 19,
     "metadata": {},
     "output_type": "execute_result"
    },
    {
     "data": {
      "image/png": "[encoded data removed]",
      "text/plain": [
       "<Figure size 432x288 with 1 Axes>"
      ]
     },
     "metadata": {},
     "output_type": "display_data"
    }
   ],
   "source": [
    "plt.imshow(plt.imread('../data/Carla3/CameraRGB/F61-15.png'))"
   ]
  },
  {
   "cell_type": "code",
   "execution_count": 37,
   "metadata": {},
   "outputs": [
    {
     "data": {
      "text/plain": [
       "<matplotlib.image.AxesImage at 0x7f1d58a01b38>"
      ]
     },
     "execution_count": 37,
     "metadata": {},
     "output_type": "execute_result"
    },
    {
     "data": {
      "image/png": "[encoded data removed]",
      "text/plain": [
       "<Figure size 432x288 with 1 Axes>"
      ]
     },
     "metadata": {},
     "output_type": "display_data"
    }
   ],
   "source": [
    "plt.imshow(plt.imread('../data/all.old/CameraRGB/episode_0000_000170.png'))"
   ]
  },
  {
   "cell_type": "code",
   "execution_count": 39,
   "metadata": {},
   "outputs": [
    {
     "data": {
      "text/plain": [
       "<matplotlib.image.AxesImage at 0x7f1d5898b748>"
      ]
     },
     "execution_count": 39,
     "metadata": {},
     "output_type": "execute_result"
    },
    {
     "data": {
      "image/png": "[encoded data removed]",
      "text/plain": [
       "<Figure size 432x288 with 1 Axes>"
      ]
     },
     "metadata": {},
     "output_type": "display_data"
    }
   ],
   "source": [
    "plt.imshow(plt.imread('../data/all.old/CameraRGB/Train_823.png'))"
   ]
  },
  {
   "cell_type": "code",
   "execution_count": 41,
   "metadata": {},
   "outputs": [],
   "source": [
    "old_names = glob(str(OLD_PATH/TRAIN_DN/'*.png')) + glob(str(OLD_PATH/MASKS_DN/'*.png'))\n",
    "for f in old_names:\n",
    "    f_pt = Path(f).parts\n",
    "    fn = f_pt[-1]\n",
    "    targ_path = ALL_PATH/f_pt[3]/f_pt[-1]\n",
    "    if 'episode' in fn:\n",
    "        skip = int(fn[-5])%4 != 0\n",
    "        if skip: continue\n",
    "#     print(targ_path)\n",
    "    shutil.copy2(f, str(targ_path))"
   ]
  },
  {
   "cell_type": "code",
   "execution_count": 42,
   "metadata": {},
   "outputs": [
    {
     "data": {
      "text/plain": [
       "9200"
      ]
     },
     "execution_count": 42,
     "metadata": {},
     "output_type": "execute_result"
    }
   ],
   "source": [
    "len(old_names)"
   ]
  },
  {
   "cell_type": "code",
   "execution_count": 43,
   "metadata": {},
   "outputs": [
    {
     "data": {
      "text/plain": [
       "(2080, 2080)"
      ]
     },
     "execution_count": 43,
     "metadata": {},
     "output_type": "execute_result"
    }
   ],
   "source": [
    "len(glob(str(ALL_PATH/TRAIN_DN/'*.png'))), len(glob(str(ALL_PATH/MASKS_DN/'*.png')))"
   ]
  },
  {
   "cell_type": "markdown",
   "metadata": {},
   "source": [
    "### Carla 2"
   ]
  },
  {
   "cell_type": "code",
   "execution_count": 9,
   "metadata": {},
   "outputs": [],
   "source": [
    "c_names = glob(str(CARLA_2_PATH/'*/*/*.png'))\n",
    "for f in c_names:\n",
    "    f_pt = Path(f).parts\n",
    "    fn = f_pt[-1]\n",
    "    skip = int(fn[-5])%4 != 0\n",
    "    if skip: continue\n",
    "    targ_path = ALL_PATH/f_pt[4]/(f_pt[3]+'_'+f_pt[-1])\n",
    "#     print(targ_path)\n",
    "    shutil.copy2(f, str(targ_path))"
   ]
  },
  {
   "cell_type": "markdown",
   "metadata": {},
   "source": [
    "### Carla 3"
   ]
  },
  {
   "cell_type": "code",
   "execution_count": 23,
   "metadata": {},
   "outputs": [],
   "source": [
    "c3_names = glob(str(CARLA_3_PATH/TRAIN_DN/'*.png')) + glob(str(CARLA_3_PATH/MASKS_DN/'*.png'))\n",
    "for f in c3_names:\n",
    "    f_pt = Path(f).parts\n",
    "    fn = f_pt[-1]\n",
    "    targ_path = ALL_PATH/f_pt[3]/f_pt[-1]\n",
    "    skip = int(fn[-5])%4 != 0\n",
    "    if skip: continue\n",
    "#     print(targ_path)\n",
    "    shutil.copy2(f, str(targ_path))"
   ]
  },
  {
   "cell_type": "markdown",
   "metadata": {},
   "source": [
    "### Carla 4, 5"
   ]
  },
  {
   "cell_type": "code",
   "execution_count": 10,
   "metadata": {},
   "outputs": [
    {
     "data": {
      "text/plain": [
       "(3640, 5440)"
      ]
     },
     "execution_count": 10,
     "metadata": {},
     "output_type": "execute_result"
    }
   ],
   "source": [
    "len(glob(str(ALL_PATH/(TRAIN_DN+'-150')/'*.png'))), len(glob(str(ALL_PATH/MASKS_DN/'*.png')))"
   ]
  },
  {
   "cell_type": "code",
   "execution_count": 9,
   "metadata": {},
   "outputs": [],
   "source": [
    "c_names = glob(str(CARLA_4_PATH/'*/*/*.png'))\n",
    "for f in c_names:\n",
    "    f_pt = Path(f).parts\n",
    "    fn = f_pt[-1]\n",
    "    skip = int(fn[-5])%4 != 0\n",
    "    if skip: continue\n",
    "    targ_path = ALL_PATH/f_pt[4]/('c4_'+f_pt[3]+'_'+f_pt[-1])\n",
    "#     print(targ_path)\n",
    "    shutil.copy2(f, str(targ_path))"
   ]
  },
  {
   "cell_type": "code",
   "execution_count": 7,
   "metadata": {},
   "outputs": [],
   "source": [
    "c_names = glob(str(CARLA_5_PATH/'*/*/*.png'))\n",
    "for f in c_names:\n",
    "    f_pt = Path(f).parts\n",
    "    fn = f_pt[-1]\n",
    "    skip = int(fn[-5])%4 != 0\n",
    "    if skip: continue\n",
    "    targ_path = ALL_PATH/f_pt[4]/('c5_'+f_pt[3]+'_'+f_pt[-1])\n",
    "#     print(targ_path)\n",
    "    shutil.copy2(f, str(targ_path))"
   ]
  },
  {
   "cell_type": "markdown",
   "metadata": {},
   "source": [
    "### Carla 6, 7"
   ]
  },
  {
   "cell_type": "code",
   "execution_count": 23,
   "metadata": {},
   "outputs": [
    {
     "data": {
      "text/plain": [
       "(10880, 10880)"
      ]
     },
     "execution_count": 23,
     "metadata": {},
     "output_type": "execute_result"
    }
   ],
   "source": [
    "len(glob(str(ALL_PATH/(TRAIN_DN+'-150')/'*.png'))), len(glob(str(ALL_PATH/MASKS_DN/'*.png')))"
   ]
  },
  {
   "cell_type": "code",
   "execution_count": 12,
   "metadata": {},
   "outputs": [],
   "source": [
    "c_names = glob(str(CARLA_6_PATH/'*/*/*.png'))\n",
    "for f in c_names:\n",
    "    f_pt = Path(f).parts\n",
    "    fn = f_pt[-1]\n",
    "    skip = int(fn[-5])%4 != 0\n",
    "    if skip: continue\n",
    "    targ_path = ALL_PATH/f_pt[4]/('c6_'+f_pt[3]+'_'+f_pt[-1])\n",
    "#     print(targ_path)\n",
    "    shutil.copy2(f, str(targ_path))"
   ]
  },
  {
   "cell_type": "code",
   "execution_count": 13,
   "metadata": {},
   "outputs": [],
   "source": [
    "c_names = glob(str(CARLA_7_PATH/'*/*/*.png'))\n",
    "for f in c_names:\n",
    "    f_pt = Path(f).parts\n",
    "    fn = f_pt[-1]\n",
    "    skip = int(fn[-5])%4 != 0\n",
    "    if skip: continue\n",
    "    targ_path = ALL_PATH/f_pt[4]/('c7_'+f_pt[3]+'_'+f_pt[-1])\n",
    "#     print(targ_path)\n",
    "    shutil.copy2(f, str(targ_path))"
   ]
  },
  {
   "cell_type": "markdown",
   "metadata": {},
   "source": [
    "### Original"
   ]
  },
  {
   "cell_type": "code",
   "execution_count": 41,
   "metadata": {},
   "outputs": [],
   "source": [
    "c_names = glob(str(CARLA_PATH/'*/*/*.png'))\n",
    "for f in c_names:\n",
    "    f_pt = Path(f).parts\n",
    "    targ_path = ALL_PATH/f_pt[4]/(f_pt[3]+'_'+f_pt[-1])\n",
    "    shutil.copy2(f, str(targ_path))"
   ]
  },
  {
   "cell_type": "code",
   "execution_count": 67,
   "metadata": {},
   "outputs": [],
   "source": [
    "t_names = glob(str(TRAIN_PATH/TRAIN_DN/'*.png')) + glob(str(TRAIN_PATH/MASKS_DN/'*.png'))\n",
    "for f in t_names:\n",
    "    f_pt = Path(f).parts\n",
    "    targ_path = ALL_PATH/f_pt[3]/(f_pt[2]+'_'+f_pt[-1])\n",
    "    shutil.copy2(f, str(targ_path))"
   ]
  },
  {
   "cell_type": "code",
   "execution_count": 33,
   "metadata": {},
   "outputs": [
    {
     "data": {
      "text/plain": [
       "(3640, 3640)"
      ]
     },
     "execution_count": 33,
     "metadata": {},
     "output_type": "execute_result"
    }
   ],
   "source": [
    "len(glob(str(ALL_PATH/(TRAIN_DN+'-150')/'*.png'))), len(glob(str(ALL_PATH/MASKS_DN/'*.png')))"
   ]
  },
  {
   "cell_type": "code",
   "execution_count": 7,
   "metadata": {},
   "outputs": [],
   "source": [
    "def show_img(im, figsize=None, ax=None, alpha=None):\n",
    "    if not ax: fig,ax = plt.subplots(figsize=figsize)\n",
    "    ax.imshow(im, alpha=alpha)\n",
    "    ax.set_axis_off()\n",
    "    return ax"
   ]
  },
  {
   "cell_type": "code",
   "execution_count": 20,
   "metadata": {},
   "outputs": [],
   "source": [
    "TRAIN_DN = 'CameraRGB'\n",
    "MASKS_DN = 'CameraSeg'\n",
    "sz = 150\n",
    "bs = 64\n",
    "ratio = 4/3"
   ]
  },
  {
   "cell_type": "markdown",
   "metadata": {},
   "source": [
    "### Resize images"
   ]
  },
  {
   "cell_type": "code",
   "execution_count": 35,
   "metadata": {},
   "outputs": [],
   "source": [
    "(ALL_PATH/f'{MASKS_DN}-{sz}').mkdir(exist_ok=True)"
   ]
  },
  {
   "cell_type": "code",
   "execution_count": 81,
   "metadata": {},
   "outputs": [
    {
     "ename": "FileNotFoundError",
     "evalue": "[Errno 2] No such file or directory: '/home/paperspace/lyft-perception-challenge/workspace/data/all/CameraRGB/1.png'",
     "output_type": "error",
     "traceback": [
      "\u001b[0;31m---------------------------------------------------------------------------\u001b[0m",
      "\u001b[0;31mFileNotFoundError\u001b[0m                         Traceback (most recent call last)",
      "\u001b[0;32m<ipython-input-81-97e268dac4c9>\u001b[0m in \u001b[0;36m<module>\u001b[0;34m()\u001b[0m\n\u001b[0;32m----> 1\u001b[0;31m \u001b[0mimg\u001b[0m \u001b[0;34m=\u001b[0m \u001b[0mImage\u001b[0m\u001b[0;34m.\u001b[0m\u001b[0mopen\u001b[0m\u001b[0;34m(\u001b[0m\u001b[0mALL_PATH\u001b[0m\u001b[0;34m/\u001b[0m\u001b[0;34mf'{TRAIN_DN}/1.png'\u001b[0m\u001b[0;34m)\u001b[0m\u001b[0;34m\u001b[0m\u001b[0m\n\u001b[0m",
      "\u001b[0;32m~/anaconda3/envs/lyft/lib/python3.6/site-packages/PIL/Image.py\u001b[0m in \u001b[0;36mopen\u001b[0;34m(fp, mode)\u001b[0m\n\u001b[1;32m   2546\u001b[0m \u001b[0;34m\u001b[0m\u001b[0m\n\u001b[1;32m   2547\u001b[0m     \u001b[0;32mif\u001b[0m \u001b[0mfilename\u001b[0m\u001b[0;34m:\u001b[0m\u001b[0;34m\u001b[0m\u001b[0m\n\u001b[0;32m-> 2548\u001b[0;31m         \u001b[0mfp\u001b[0m \u001b[0;34m=\u001b[0m \u001b[0mbuiltins\u001b[0m\u001b[0;34m.\u001b[0m\u001b[0mopen\u001b[0m\u001b[0;34m(\u001b[0m\u001b[0mfilename\u001b[0m\u001b[0;34m,\u001b[0m \u001b[0;34m\"rb\"\u001b[0m\u001b[0;34m)\u001b[0m\u001b[0;34m\u001b[0m\u001b[0m\n\u001b[0m\u001b[1;32m   2549\u001b[0m         \u001b[0mexclusive_fp\u001b[0m \u001b[0;34m=\u001b[0m \u001b[0;32mTrue\u001b[0m\u001b[0;34m\u001b[0m\u001b[0m\n\u001b[1;32m   2550\u001b[0m \u001b[0;34m\u001b[0m\u001b[0m\n",
      "\u001b[0;31mFileNotFoundError\u001b[0m: [Errno 2] No such file or directory: '/home/paperspace/lyft-perception-challenge/workspace/data/all/CameraRGB/1.png'"
     ]
    }
   ],
   "source": [
    "img = Image.open(ALL_PATH/f'{TRAIN_DN}/1.png')"
   ]
  },
  {
   "cell_type": "code",
   "execution_count": 21,
   "metadata": {},
   "outputs": [],
   "source": [
    "def resize_mask(fn):\n",
    "    Image.open(fn).resize((int(sz*ratio),sz)).save((fn.parent.parent)/f'{MASKS_DN}-{sz}'/fn.name)\n",
    "\n",
    "files = list((ALL_PATH/MASKS_DN).iterdir())\n",
    "with ThreadPoolExecutor(8) as e: e.map(resize_mask, files)"
   ]
  },
  {
   "cell_type": "code",
   "execution_count": 17,
   "metadata": {},
   "outputs": [],
   "source": [
    "(ALL_PATH/f'{TRAIN_DN}-{sz}').mkdir(exist_ok=True)"
   ]
  },
  {
   "cell_type": "code",
   "execution_count": 22,
   "metadata": {},
   "outputs": [],
   "source": [
    "def resize_img(fn):\n",
    "    Image.open(fn).resize((int(sz*ratio),sz)).save((fn.parent.parent)/f'{TRAIN_DN}-{sz}'/fn.name)\n",
    "\n",
    "files = list((ALL_PATH/TRAIN_DN).iterdir())\n",
    "with ThreadPoolExecutor(8) as e: e.map(resize_img, files)"
   ]
  },
  {
   "cell_type": "code",
   "execution_count": 24,
   "metadata": {},
   "outputs": [],
   "source": [
    "pth = PATH/f'{TRAIN_DN}-150/1.png'"
   ]
  },
  {
   "cell_type": "code",
   "execution_count": 25,
   "metadata": {},
   "outputs": [
    {
     "data": {
      "text/plain": [
       "PosixPath('../data/Train/AnswersRGB-150/1.png')"
      ]
     },
     "execution_count": 25,
     "metadata": {},
     "output_type": "execute_result"
    }
   ],
   "source": [
    "pth"
   ]
  },
  {
   "cell_type": "code",
   "execution_count": 26,
   "metadata": {},
   "outputs": [
    {
     "data": {
      "text/plain": [
       "(150, 200, 3)"
      ]
     },
     "execution_count": 26,
     "metadata": {},
     "output_type": "execute_result"
    }
   ],
   "source": [
    "plt.imread(str(pth)).shape"
   ]
  },
  {
   "cell_type": "code",
   "execution_count": 27,
   "metadata": {},
   "outputs": [
    {
     "data": {
      "text/plain": [
       "<matplotlib.image.AxesImage at 0x7fbf6fe74390>"
      ]
     },
     "execution_count": 27,
     "metadata": {},
     "output_type": "execute_result"
    },
    {
     "data": {
      "image/png": "[encoded data removed]",
      "text/plain": [
       "<Figure size 432x288 with 1 Axes>"
      ]
     },
     "metadata": {},
     "output_type": "display_data"
    }
   ],
   "source": [
    "plt.imshow(plt.imread(str(pth)))"
   ]
  },
  {
   "cell_type": "markdown",
   "metadata": {},
   "source": [
    "### Create dataloader"
   ]
  },
  {
   "cell_type": "code",
   "execution_count": 355,
   "metadata": {},
   "outputs": [],
   "source": [
    "def open_y_image(fn):\n",
    "    \"\"\" Opens an image using OpenCV given the file path.\n",
    "\n",
    "    Arguments:\n",
    "        fn: the file path of the image\n",
    "\n",
    "    Returns:\n",
    "        The image in RGB format as numpy array of floats normalized to range between 0.0 - 1.0\n",
    "    \"\"\"\n",
    "    flags = cv2.IMREAD_UNCHANGED+cv2.IMREAD_ANYDEPTH+cv2.IMREAD_ANYCOLOR\n",
    "    if not os.path.exists(fn):\n",
    "        raise OSError('No such file or directory: {}'.format(fn))\n",
    "    elif os.path.isdir(fn):\n",
    "        raise OSError('Is a directory: {}'.format(fn))\n",
    "    else:\n",
    "        #res = np.array(Image.open(fn), dtype=np.float32)/255\n",
    "        #if len(res.shape)==2: res = np.repeat(res[...,None],3,2)\n",
    "        #return res\n",
    "        try:\n",
    "            im = cv2.imread(str(fn), flags)\n",
    "            if im is None: raise OSError(f'File not recognized by opencv: {fn}')\n",
    "#             return cv2.cvtColor(im, cv2.COLOR_BGR2RGB)\n",
    "            return np.dstack((im[:,:,2]==ROADS, im[:,:,2]==VEHICLES, (im[:,:,2]!=VEHICLES) & (im[:,:,2]!=ROADS))).astype(np.float32)\n",
    "        except Exception as e:\n",
    "            raise OSError('Error handling image at: {}'.format(fn)) from e"
   ]
  },
  {
   "cell_type": "code",
   "execution_count": 356,
   "metadata": {},
   "outputs": [],
   "source": [
    "class MatchedFilesDataset(FilesDataset):\n",
    "    def __init__(self, fnames, y, transform, path):\n",
    "        self.y=y\n",
    "        assert(len(fnames)==len(y))\n",
    "        super().__init__(fnames, transform, path)\n",
    "    def get_y(self, i): \n",
    "        return open_y_image(os.path.join(self.path, self.y[i]))\n",
    "    def get_c(self): return 2\n",
    "#     def get(self, tfm, x, y):\n",
    "#         x,y = super().get(tfm, x, y)\n",
    "#         print(np.mean(y[0,:,:]))\n",
    "#         print(np.mean(y[2,:,:]))\n",
    "#         y = np.stack((y[0,:,:]==ROADS, y[0,:,:]==VEHICLES, (y[0,:,:]!=VEHICLES) & (y[0,:,:]!=ROADS)))\n",
    "#         return x,y.astype(np.int)"
   ]
  },
  {
   "cell_type": "code",
   "execution_count": 239,
   "metadata": {},
   "outputs": [],
   "source": [
    "x_names = np.array(glob(str(PATH/TRAIN_DN/'*.png')))\n",
    "y_names = np.array(glob(str(PATH/MASKS_DN/'*.png')))"
   ]
  },
  {
   "cell_type": "code",
   "execution_count": 354,
   "metadata": {},
   "outputs": [
    {
     "data": {
      "text/plain": [
       "(600, 800, 3)"
      ]
     },
     "execution_count": 354,
     "metadata": {},
     "output_type": "execute_result"
    }
   ],
   "source": [
    "open_image(x_names[0]).shape"
   ]
  },
  {
   "cell_type": "code",
   "execution_count": 174,
   "metadata": {},
   "outputs": [],
   "source": [
    "VEHICLES=10\n",
    "ROADS=7"
   ]
  },
  {
   "cell_type": "code",
   "execution_count": 27,
   "metadata": {},
   "outputs": [],
   "source": [
    "# x_names = np.array([Path(TRAIN_DN)/o for o in masks_csv['img']])\n",
    "# y_names = np.array([Path(MASKS_DN)/f'{o[:-4]}_mask.png' for o in masks_csv['img']])"
   ]
  },
  {
   "cell_type": "code",
   "execution_count": 28,
   "metadata": {},
   "outputs": [
    {
     "data": {
      "text/plain": [
       "1000"
      ]
     },
     "execution_count": 28,
     "metadata": {},
     "output_type": "execute_result"
    }
   ],
   "source": [
    "len(x_names)"
   ]
  },
  {
   "cell_type": "code",
   "execution_count": 257,
   "metadata": {},
   "outputs": [],
   "source": [
    "ya = cv2.imread(y_names[0])"
   ]
  },
  {
   "cell_type": "code",
   "execution_count": 258,
   "metadata": {},
   "outputs": [
    {
     "data": {
      "text/plain": [
       "(600, 800, 3)"
      ]
     },
     "execution_count": 258,
     "metadata": {},
     "output_type": "execute_result"
    }
   ],
   "source": [
    "ya.shape"
   ]
  },
  {
   "cell_type": "code",
   "execution_count": 270,
   "metadata": {},
   "outputs": [],
   "source": [
    "ry = np.rollaxis(ya,2,0)"
   ]
  },
  {
   "cell_type": "code",
   "execution_count": 273,
   "metadata": {},
   "outputs": [
    {
     "data": {
      "text/plain": [
       "(3, 600, 800)"
      ]
     },
     "execution_count": 273,
     "metadata": {},
     "output_type": "execute_result"
    }
   ],
   "source": [
    "ry.shape"
   ]
  },
  {
   "cell_type": "code",
   "execution_count": 306,
   "metadata": {},
   "outputs": [
    {
     "data": {
      "text/plain": [
       "(800, 3)"
      ]
     },
     "execution_count": 306,
     "metadata": {},
     "output_type": "execute_result"
    }
   ],
   "source": [
    "(ya[0,:,:]==ROADS).shape"
   ]
  },
  {
   "cell_type": "code",
   "execution_count": 313,
   "metadata": {},
   "outputs": [],
   "source": [
    "y = y[0]"
   ]
  },
  {
   "cell_type": "code",
   "execution_count": 314,
   "metadata": {},
   "outputs": [
    {
     "data": {
      "text/plain": [
       "torch.Size([3, 256, 256])"
      ]
     },
     "execution_count": 314,
     "metadata": {},
     "output_type": "execute_result"
    }
   ],
   "source": [
    "y.shape"
   ]
  },
  {
   "cell_type": "code",
   "execution_count": 320,
   "metadata": {},
   "outputs": [
    {
     "data": {
      "text/plain": [
       "array([[[ 0,  0,  0],\n",
       "        [ 0,  0,  0],\n",
       "        [ 0,  0,  0],\n",
       "        ...,\n",
       "        [ 0,  0,  0],\n",
       "        [ 0,  0,  0],\n",
       "        [ 0,  0,  0]],\n",
       "\n",
       "       [[ 0,  0,  0],\n",
       "        [ 0,  0,  0],\n",
       "        [ 0,  0,  0],\n",
       "        ...,\n",
       "        [ 0,  0,  0],\n",
       "        [ 0,  0,  0],\n",
       "        [ 0,  0,  0]],\n",
       "\n",
       "       [[ 0,  0,  0],\n",
       "        [ 0,  0,  0],\n",
       "        [ 0,  0,  0],\n",
       "        ...,\n",
       "        [ 0,  0,  0],\n",
       "        [ 0,  0,  0],\n",
       "        [ 0,  0,  0]],\n",
       "\n",
       "       ...,\n",
       "\n",
       "       [[ 0,  0, 10],\n",
       "        [ 0,  0, 10],\n",
       "        [ 0,  0, 10],\n",
       "        ...,\n",
       "        [ 0,  0, 10],\n",
       "        [ 0,  0, 10],\n",
       "        [ 0,  0, 10]],\n",
       "\n",
       "       [[ 0,  0, 10],\n",
       "        [ 0,  0, 10],\n",
       "        [ 0,  0, 10],\n",
       "        ...,\n",
       "        [ 0,  0, 10],\n",
       "        [ 0,  0, 10],\n",
       "        [ 0,  0, 10]],\n",
       "\n",
       "       [[ 0,  0, 10],\n",
       "        [ 0,  0, 10],\n",
       "        [ 0,  0, 10],\n",
       "        ...,\n",
       "        [ 0,  0, 10],\n",
       "        [ 0,  0, 10],\n",
       "        [ 0,  0, 10]]])"
      ]
     },
     "execution_count": 320,
     "metadata": {},
     "output_type": "execute_result"
    }
   ],
   "source": [
    "ya.astype(np.int)"
   ]
  },
  {
   "cell_type": "code",
   "execution_count": 315,
   "metadata": {},
   "outputs": [
    {
     "data": {
      "text/plain": [
       "(3, 256, 256)"
      ]
     },
     "execution_count": 315,
     "metadata": {},
     "output_type": "execute_result"
    }
   ],
   "source": [
    "np.stack((y[0,:,:]==ROADS, y[0,:,:]==VEHICLES, (y[0,:,:]!=VEHICLES) & (y[0,:,:]!=ROADS))).shape"
   ]
  },
  {
   "cell_type": "code",
   "execution_count": null,
   "metadata": {},
   "outputs": [],
   "source": []
  },
  {
   "cell_type": "code",
   "execution_count": 155,
   "metadata": {},
   "outputs": [],
   "source": [
    "a = np.array((ya[:,:,2]==ROADS, ya[:,:,2]==VEHICLES))"
   ]
  },
  {
   "cell_type": "code",
   "execution_count": 170,
   "metadata": {},
   "outputs": [
    {
     "data": {
      "text/plain": [
       "(600, 800, 2)"
      ]
     },
     "execution_count": 170,
     "metadata": {},
     "output_type": "execute_result"
    }
   ],
   "source": [
    "np.dstack((ya[:,:,2]==ROADS, ya[:,:,2]==VEHICLES)).shape"
   ]
  },
  {
   "cell_type": "code",
   "execution_count": 163,
   "metadata": {},
   "outputs": [
    {
     "data": {
      "text/plain": [
       "(600, 800, 2)"
      ]
     },
     "execution_count": 163,
     "metadata": {},
     "output_type": "execute_result"
    }
   ],
   "source": [
    "np.rollaxis(a, 0, 3).shape"
   ]
  },
  {
   "cell_type": "code",
   "execution_count": 151,
   "metadata": {},
   "outputs": [
    {
     "data": {
      "text/plain": [
       "(600, 800)"
      ]
     },
     "execution_count": 151,
     "metadata": {},
     "output_type": "execute_result"
    }
   ],
   "source": [
    "(ya[:,:,2]==ROADS).shape"
   ]
  },
  {
   "cell_type": "code",
   "execution_count": 113,
   "metadata": {},
   "outputs": [
    {
     "data": {
      "text/plain": [
       "<matplotlib.image.AxesImage at 0x7fbc45ab0048>"
      ]
     },
     "execution_count": 113,
     "metadata": {},
     "output_type": "execute_result"
    },
    {
     "data": {
      "image/png": "[encoded data removed]",
      "text/plain": [
       "<Figure size 432x288 with 1 Axes>"
      ]
     },
     "metadata": {},
     "output_type": "display_data"
    }
   ],
   "source": [
    "plt.imshow(ya[:,:,2]==ROADS)"
   ]
  },
  {
   "cell_type": "code",
   "execution_count": 114,
   "metadata": {},
   "outputs": [
    {
     "data": {
      "text/plain": [
       "<matplotlib.image.AxesImage at 0x7fbc45a05c18>"
      ]
     },
     "execution_count": 114,
     "metadata": {},
     "output_type": "execute_result"
    },
    {
     "data": {
      "image/png": "[encoded data removed]",
      "text/plain": [
       "<Figure size 432x288 with 1 Axes>"
      ]
     },
     "metadata": {},
     "output_type": "display_data"
    }
   ],
   "source": [
    "plt.imshow(ya[:,:,2]==VEHICLES)"
   ]
  },
  {
   "cell_type": "code",
   "execution_count": 93,
   "metadata": {},
   "outputs": [
    {
     "data": {
      "text/plain": [
       "1.6352770833333334"
      ]
     },
     "execution_count": 93,
     "metadata": {},
     "output_type": "execute_result"
    }
   ],
   "source": [
    "np.mean(ya)"
   ]
  },
  {
   "cell_type": "code",
   "execution_count": 108,
   "metadata": {},
   "outputs": [
    {
     "data": {
      "text/plain": [
       "4.90583125"
      ]
     },
     "execution_count": 108,
     "metadata": {},
     "output_type": "execute_result"
    }
   ],
   "source": [
    "np.mean(ya[:,:,2])"
   ]
  },
  {
   "cell_type": "code",
   "execution_count": 115,
   "metadata": {},
   "outputs": [
    {
     "data": {
      "text/plain": [
       "array([[0, 0, 0, ..., 0, 0, 0],\n",
       "       [0, 0, 0, ..., 0, 0, 0],\n",
       "       [0, 0, 0, ..., 0, 0, 0],\n",
       "       ...,\n",
       "       [0, 0, 0, ..., 0, 0, 0],\n",
       "       [0, 0, 0, ..., 0, 0, 0],\n",
       "       [0, 0, 0, ..., 0, 0, 0]], dtype=uint8)"
      ]
     },
     "execution_count": 115,
     "metadata": {},
     "output_type": "execute_result"
    }
   ],
   "source": [
    "ya[...,0]"
   ]
  },
  {
   "cell_type": "code",
   "execution_count": null,
   "metadata": {},
   "outputs": [],
   "source": [
    "ya[:,:,2] ="
   ]
  },
  {
   "cell_type": "code",
   "execution_count": 66,
   "metadata": {},
   "outputs": [
    {
     "data": {
      "text/plain": [
       "0.0"
      ]
     },
     "execution_count": 66,
     "metadata": {},
     "output_type": "execute_result"
    }
   ],
   "source": [
    "np.mean(ya[2])"
   ]
  },
  {
   "cell_type": "code",
   "execution_count": 284,
   "metadata": {},
   "outputs": [],
   "source": [
    "bs=2"
   ]
  },
  {
   "cell_type": "code",
   "execution_count": 357,
   "metadata": {},
   "outputs": [],
   "source": [
    "val_idxs = list(range(100))\n",
    "((val_x,trn_x),(val_y,trn_y)) = split_by_idx(val_idxs, x_names, y_names)"
   ]
  },
  {
   "cell_type": "code",
   "execution_count": 358,
   "metadata": {},
   "outputs": [],
   "source": [
    "aug_tfms = [RandomRotate(4, tfm_y=TfmType.CLASS),\n",
    "            RandomFlip(tfm_y=TfmType.CLASS),\n",
    "            RandomLighting(0.05, 0.05, tfm_y=TfmType.CLASS)]"
   ]
  },
  {
   "cell_type": "code",
   "execution_count": 359,
   "metadata": {},
   "outputs": [],
   "source": [
    "tfms = tfms_from_model(resnet34, sz, crop_type=CropType.NO, tfm_y=TfmType.PIXEL, aug_tfms=aug_tfms)\n",
    "# tfms = tfms_from_model(resnet34, sz, crop_type=CropType.NO, tfm_y=TfmType.CLASS, aug_tfms=aug_tfms)\n",
    "datasets = ImageData.get_ds(MatchedFilesDataset, (trn_x,trn_y), (val_x,val_y), tfms, path='')\n",
    "md = ImageData(PATH, datasets, bs, num_workers=7, classes=None)\n",
    "denorm = md.trn_ds.denorm"
   ]
  },
  {
   "cell_type": "code",
   "execution_count": 360,
   "metadata": {},
   "outputs": [],
   "source": [
    "x,y = next(iter(md.trn_dl))"
   ]
  },
  {
   "cell_type": "code",
   "execution_count": 361,
   "metadata": {},
   "outputs": [
    {
     "data": {
      "text/plain": [
       "(torch.Size([2, 3, 256, 256]), torch.Size([2, 3, 256, 256]))"
      ]
     },
     "execution_count": 361,
     "metadata": {},
     "output_type": "execute_result"
    }
   ],
   "source": [
    "x.shape,y.shape"
   ]
  },
  {
   "cell_type": "code",
   "execution_count": 364,
   "metadata": {},
   "outputs": [
    {
     "data": {
      "text/plain": [
       "<matplotlib.image.AxesImage at 0x7fbc453da198>"
      ]
     },
     "execution_count": 364,
     "metadata": {},
     "output_type": "execute_result"
    },
    {
     "data": {
      "image/png": "[encoded data removed]",
      "text/plain": [
       "<Figure size 432x288 with 1 Axes>"
      ]
     },
     "metadata": {},
     "output_type": "display_data"
    }
   ],
   "source": [
    "plt.imshow(y[0][2])"
   ]
  },
  {
   "cell_type": "code",
   "execution_count": 144,
   "metadata": {},
   "outputs": [],
   "source": [
    "a = y[0]"
   ]
  },
  {
   "cell_type": "code",
   "execution_count": 143,
   "metadata": {},
   "outputs": [
    {
     "ename": "TypeError",
     "evalue": "imshow() missing 1 required positional argument: 'X'",
     "output_type": "error",
     "traceback": [
      "\u001b[0;31m---------------------------------------------------------------------------\u001b[0m",
      "\u001b[0;31mTypeError\u001b[0m                                 Traceback (most recent call last)",
      "\u001b[0;32m<ipython-input-143-e2a04aff946b>\u001b[0m in \u001b[0;36m<module>\u001b[0;34m()\u001b[0m\n\u001b[0;32m----> 1\u001b[0;31m \u001b[0mplt\u001b[0m\u001b[0;34m.\u001b[0m\u001b[0mimshow\u001b[0m\u001b[0;34m(\u001b[0m\u001b[0;34m)\u001b[0m\u001b[0;34m\u001b[0m\u001b[0m\n\u001b[0m",
      "\u001b[0;31mTypeError\u001b[0m: imshow() missing 1 required positional argument: 'X'"
     ]
    }
   ],
   "source": [
    "plt.imshow()"
   ]
  },
  {
   "cell_type": "markdown",
   "metadata": {},
   "source": [
    "## Simple upsample"
   ]
  },
  {
   "cell_type": "code",
   "execution_count": 210,
   "metadata": {},
   "outputs": [],
   "source": [
    "f = resnet34\n",
    "cut,lr_cut = model_meta[f]"
   ]
  },
  {
   "cell_type": "code",
   "execution_count": 211,
   "metadata": {},
   "outputs": [],
   "source": [
    "def get_base():\n",
    "    layers = cut_model(f(True), cut)\n",
    "    return nn.Sequential(*layers)"
   ]
  },
  {
   "cell_type": "code",
   "execution_count": 212,
   "metadata": {},
   "outputs": [],
   "source": [
    "def dice(pred, targs):\n",
    "    pred = (pred>0).float()\n",
    "    return 2. * (pred*targs).sum() / (pred+targs).sum()"
   ]
  },
  {
   "cell_type": "code",
   "execution_count": 213,
   "metadata": {},
   "outputs": [],
   "source": [
    "class StdUpsample(nn.Module):\n",
    "    def __init__(self, nin, nout):\n",
    "        super().__init__()\n",
    "        self.conv = nn.ConvTranspose2d(nin, nout, 2, stride=2)\n",
    "        self.bn = nn.BatchNorm2d(nout)\n",
    "        \n",
    "    def forward(self, x): return self.bn(F.relu(self.conv(x)))"
   ]
  },
  {
   "cell_type": "code",
   "execution_count": 214,
   "metadata": {},
   "outputs": [],
   "source": [
    "class Upsample34(nn.Module):\n",
    "    def __init__(self, rn):\n",
    "        super().__init__()\n",
    "        self.rn = rn\n",
    "        self.features = nn.Sequential(\n",
    "            rn, nn.ReLU(),\n",
    "            StdUpsample(512,256),\n",
    "            StdUpsample(256,256),\n",
    "            StdUpsample(256,256),\n",
    "            StdUpsample(256,256),\n",
    "            nn.ConvTranspose2d(256, 1, 2, stride=2))\n",
    "        \n",
    "    def forward(self,x): return self.features(x)[:,0]"
   ]
  },
  {
   "cell_type": "code",
   "execution_count": 215,
   "metadata": {},
   "outputs": [],
   "source": [
    "class UpsampleModel():\n",
    "    def __init__(self,model,name='upsample'):\n",
    "        self.model,self.name = model,name\n",
    "\n",
    "    def get_layer_groups(self, precompute):\n",
    "        lgs = list(split_by_idxs(children(self.model.rn), [lr_cut]))\n",
    "        return lgs + [children(self.model.features)[1:]]"
   ]
  },
  {
   "cell_type": "code",
   "execution_count": 216,
   "metadata": {},
   "outputs": [],
   "source": [
    "m_base = get_base()"
   ]
  },
  {
   "cell_type": "code",
   "execution_count": 217,
   "metadata": {},
   "outputs": [],
   "source": [
    "m = to_gpu(Upsample34(m_base))\n",
    "models = UpsampleModel(m)"
   ]
  },
  {
   "cell_type": "code",
   "execution_count": 218,
   "metadata": {},
   "outputs": [],
   "source": [
    "learn = ConvLearner(md, models)\n",
    "learn.opt_fn=optim.Adam\n",
    "learn.crit=nn.BCEWithLogitsLoss()\n",
    "learn.metrics=[accuracy_thresh(0.5),dice]"
   ]
  },
  {
   "cell_type": "code",
   "execution_count": 219,
   "metadata": {},
   "outputs": [
    {
     "data": {
      "text/plain": [
       "OrderedDict([('Conv2d-1',\n",
       "              OrderedDict([('input_shape', [-1, 3, 256, 256]),\n",
       "                           ('output_shape', [-1, 64, 128, 128]),\n",
       "                           ('trainable', False),\n",
       "                           ('nb_params', 9408)])),\n",
       "             ('Conv2d-2',\n",
       "              OrderedDict([('input_shape', [-1, 3, 256, 256]),\n",
       "                           ('output_shape', [-1, 64, 128, 128]),\n",
       "                           ('trainable', False),\n",
       "                           ('nb_params', 9408)])),\n",
       "             ('BatchNorm2d-3',\n",
       "              OrderedDict([('input_shape', [-1, 64, 128, 128]),\n",
       "                           ('output_shape', [-1, 64, 128, 128]),\n",
       "                           ('trainable', False),\n",
       "                           ('nb_params', 128)])),\n",
       "             ('BatchNorm2d-4',\n",
       "              OrderedDict([('input_shape', [-1, 64, 128, 128]),\n",
       "                           ('output_shape', [-1, 64, 128, 128]),\n",
       "                           ('trainable', False),\n",
       "                           ('nb_params', 128)])),\n",
       "             ('ReLU-5',\n",
       "              OrderedDict([('input_shape', [-1, 64, 128, 128]),\n",
       "                           ('output_shape', [-1, 64, 128, 128]),\n",
       "                           ('nb_params', 0)])),\n",
       "             ('ReLU-6',\n",
       "              OrderedDict([('input_shape', [-1, 64, 128, 128]),\n",
       "                           ('output_shape', [-1, 64, 128, 128]),\n",
       "                           ('nb_params', 0)])),\n",
       "             ('MaxPool2d-7',\n",
       "              OrderedDict([('input_shape', [-1, 64, 128, 128]),\n",
       "                           ('output_shape', [-1, 64, 64, 64]),\n",
       "                           ('nb_params', 0)])),\n",
       "             ('MaxPool2d-8',\n",
       "              OrderedDict([('input_shape', [-1, 64, 128, 128]),\n",
       "                           ('output_shape', [-1, 64, 64, 64]),\n",
       "                           ('nb_params', 0)])),\n",
       "             ('Conv2d-9',\n",
       "              OrderedDict([('input_shape', [-1, 64, 64, 64]),\n",
       "                           ('output_shape', [-1, 64, 64, 64]),\n",
       "                           ('trainable', False),\n",
       "                           ('nb_params', 36864)])),\n",
       "             ('Conv2d-10',\n",
       "              OrderedDict([('input_shape', [-1, 64, 64, 64]),\n",
       "                           ('output_shape', [-1, 64, 64, 64]),\n",
       "                           ('trainable', False),\n",
       "                           ('nb_params', 36864)])),\n",
       "             ('BatchNorm2d-11',\n",
       "              OrderedDict([('input_shape', [-1, 64, 64, 64]),\n",
       "                           ('output_shape', [-1, 64, 64, 64]),\n",
       "                           ('trainable', False),\n",
       "                           ('nb_params', 128)])),\n",
       "             ('BatchNorm2d-12',\n",
       "              OrderedDict([('input_shape', [-1, 64, 64, 64]),\n",
       "                           ('output_shape', [-1, 64, 64, 64]),\n",
       "                           ('trainable', False),\n",
       "                           ('nb_params', 128)])),\n",
       "             ('ReLU-13',\n",
       "              OrderedDict([('input_shape', [-1, 64, 64, 64]),\n",
       "                           ('output_shape', [-1, 64, 64, 64]),\n",
       "                           ('nb_params', 0)])),\n",
       "             ('ReLU-14',\n",
       "              OrderedDict([('input_shape', [-1, 64, 64, 64]),\n",
       "                           ('output_shape', [-1, 64, 64, 64]),\n",
       "                           ('nb_params', 0)])),\n",
       "             ('Conv2d-15',\n",
       "              OrderedDict([('input_shape', [-1, 64, 64, 64]),\n",
       "                           ('output_shape', [-1, 64, 64, 64]),\n",
       "                           ('trainable', False),\n",
       "                           ('nb_params', 36864)])),\n",
       "             ('Conv2d-16',\n",
       "              OrderedDict([('input_shape', [-1, 64, 64, 64]),\n",
       "                           ('output_shape', [-1, 64, 64, 64]),\n",
       "                           ('trainable', False),\n",
       "                           ('nb_params', 36864)])),\n",
       "             ('BatchNorm2d-17',\n",
       "              OrderedDict([('input_shape', [-1, 64, 64, 64]),\n",
       "                           ('output_shape', [-1, 64, 64, 64]),\n",
       "                           ('trainable', False),\n",
       "                           ('nb_params', 128)])),\n",
       "             ('BatchNorm2d-18',\n",
       "              OrderedDict([('input_shape', [-1, 64, 64, 64]),\n",
       "                           ('output_shape', [-1, 64, 64, 64]),\n",
       "                           ('trainable', False),\n",
       "                           ('nb_params', 128)])),\n",
       "             ('ReLU-19',\n",
       "              OrderedDict([('input_shape', [-1, 64, 64, 64]),\n",
       "                           ('output_shape', [-1, 64, 64, 64]),\n",
       "                           ('nb_params', 0)])),\n",
       "             ('ReLU-20',\n",
       "              OrderedDict([('input_shape', [-1, 64, 64, 64]),\n",
       "                           ('output_shape', [-1, 64, 64, 64]),\n",
       "                           ('nb_params', 0)])),\n",
       "             ('BasicBlock-21',\n",
       "              OrderedDict([('input_shape', [-1, 64, 64, 64]),\n",
       "                           ('output_shape', [-1, 64, 64, 64]),\n",
       "                           ('nb_params', 0)])),\n",
       "             ('BasicBlock-22',\n",
       "              OrderedDict([('input_shape', [-1, 64, 64, 64]),\n",
       "                           ('output_shape', [-1, 64, 64, 64]),\n",
       "                           ('nb_params', 0)])),\n",
       "             ('Conv2d-23',\n",
       "              OrderedDict([('input_shape', [-1, 64, 64, 64]),\n",
       "                           ('output_shape', [-1, 64, 64, 64]),\n",
       "                           ('trainable', False),\n",
       "                           ('nb_params', 36864)])),\n",
       "             ('Conv2d-24',\n",
       "              OrderedDict([('input_shape', [-1, 64, 64, 64]),\n",
       "                           ('output_shape', [-1, 64, 64, 64]),\n",
       "                           ('trainable', False),\n",
       "                           ('nb_params', 36864)])),\n",
       "             ('BatchNorm2d-25',\n",
       "              OrderedDict([('input_shape', [-1, 64, 64, 64]),\n",
       "                           ('output_shape', [-1, 64, 64, 64]),\n",
       "                           ('trainable', False),\n",
       "                           ('nb_params', 128)])),\n",
       "             ('BatchNorm2d-26',\n",
       "              OrderedDict([('input_shape', [-1, 64, 64, 64]),\n",
       "                           ('output_shape', [-1, 64, 64, 64]),\n",
       "                           ('trainable', False),\n",
       "                           ('nb_params', 128)])),\n",
       "             ('ReLU-27',\n",
       "              OrderedDict([('input_shape', [-1, 64, 64, 64]),\n",
       "                           ('output_shape', [-1, 64, 64, 64]),\n",
       "                           ('nb_params', 0)])),\n",
       "             ('ReLU-28',\n",
       "              OrderedDict([('input_shape', [-1, 64, 64, 64]),\n",
       "                           ('output_shape', [-1, 64, 64, 64]),\n",
       "                           ('nb_params', 0)])),\n",
       "             ('Conv2d-29',\n",
       "              OrderedDict([('input_shape', [-1, 64, 64, 64]),\n",
       "                           ('output_shape', [-1, 64, 64, 64]),\n",
       "                           ('trainable', False),\n",
       "                           ('nb_params', 36864)])),\n",
       "             ('Conv2d-30',\n",
       "              OrderedDict([('input_shape', [-1, 64, 64, 64]),\n",
       "                           ('output_shape', [-1, 64, 64, 64]),\n",
       "                           ('trainable', False),\n",
       "                           ('nb_params', 36864)])),\n",
       "             ('BatchNorm2d-31',\n",
       "              OrderedDict([('input_shape', [-1, 64, 64, 64]),\n",
       "                           ('output_shape', [-1, 64, 64, 64]),\n",
       "                           ('trainable', False),\n",
       "                           ('nb_params', 128)])),\n",
       "             ('BatchNorm2d-32',\n",
       "              OrderedDict([('input_shape', [-1, 64, 64, 64]),\n",
       "                           ('output_shape', [-1, 64, 64, 64]),\n",
       "                           ('trainable', False),\n",
       "                           ('nb_params', 128)])),\n",
       "             ('ReLU-33',\n",
       "              OrderedDict([('input_shape', [-1, 64, 64, 64]),\n",
       "                           ('output_shape', [-1, 64, 64, 64]),\n",
       "                           ('nb_params', 0)])),\n",
       "             ('ReLU-34',\n",
       "              OrderedDict([('input_shape', [-1, 64, 64, 64]),\n",
       "                           ('output_shape', [-1, 64, 64, 64]),\n",
       "                           ('nb_params', 0)])),\n",
       "             ('BasicBlock-35',\n",
       "              OrderedDict([('input_shape', [-1, 64, 64, 64]),\n",
       "                           ('output_shape', [-1, 64, 64, 64]),\n",
       "                           ('nb_params', 0)])),\n",
       "             ('BasicBlock-36',\n",
       "              OrderedDict([('input_shape', [-1, 64, 64, 64]),\n",
       "                           ('output_shape', [-1, 64, 64, 64]),\n",
       "                           ('nb_params', 0)])),\n",
       "             ('Conv2d-37',\n",
       "              OrderedDict([('input_shape', [-1, 64, 64, 64]),\n",
       "                           ('output_shape', [-1, 64, 64, 64]),\n",
       "                           ('trainable', False),\n",
       "                           ('nb_params', 36864)])),\n",
       "             ('Conv2d-38',\n",
       "              OrderedDict([('input_shape', [-1, 64, 64, 64]),\n",
       "                           ('output_shape', [-1, 64, 64, 64]),\n",
       "                           ('trainable', False),\n",
       "                           ('nb_params', 36864)])),\n",
       "             ('BatchNorm2d-39',\n",
       "              OrderedDict([('input_shape', [-1, 64, 64, 64]),\n",
       "                           ('output_shape', [-1, 64, 64, 64]),\n",
       "                           ('trainable', False),\n",
       "                           ('nb_params', 128)])),\n",
       "             ('BatchNorm2d-40',\n",
       "              OrderedDict([('input_shape', [-1, 64, 64, 64]),\n",
       "                           ('output_shape', [-1, 64, 64, 64]),\n",
       "                           ('trainable', False),\n",
       "                           ('nb_params', 128)])),\n",
       "             ('ReLU-41',\n",
       "              OrderedDict([('input_shape', [-1, 64, 64, 64]),\n",
       "                           ('output_shape', [-1, 64, 64, 64]),\n",
       "                           ('nb_params', 0)])),\n",
       "             ('ReLU-42',\n",
       "              OrderedDict([('input_shape', [-1, 64, 64, 64]),\n",
       "                           ('output_shape', [-1, 64, 64, 64]),\n",
       "                           ('nb_params', 0)])),\n",
       "             ('Conv2d-43',\n",
       "              OrderedDict([('input_shape', [-1, 64, 64, 64]),\n",
       "                           ('output_shape', [-1, 64, 64, 64]),\n",
       "                           ('trainable', False),\n",
       "                           ('nb_params', 36864)])),\n",
       "             ('Conv2d-44',\n",
       "              OrderedDict([('input_shape', [-1, 64, 64, 64]),\n",
       "                           ('output_shape', [-1, 64, 64, 64]),\n",
       "                           ('trainable', False),\n",
       "                           ('nb_params', 36864)])),\n",
       "             ('BatchNorm2d-45',\n",
       "              OrderedDict([('input_shape', [-1, 64, 64, 64]),\n",
       "                           ('output_shape', [-1, 64, 64, 64]),\n",
       "                           ('trainable', False),\n",
       "                           ('nb_params', 128)])),\n",
       "             ('BatchNorm2d-46',\n",
       "              OrderedDict([('input_shape', [-1, 64, 64, 64]),\n",
       "                           ('output_shape', [-1, 64, 64, 64]),\n",
       "                           ('trainable', False),\n",
       "                           ('nb_params', 128)])),\n",
       "             ('ReLU-47',\n",
       "              OrderedDict([('input_shape', [-1, 64, 64, 64]),\n",
       "                           ('output_shape', [-1, 64, 64, 64]),\n",
       "                           ('nb_params', 0)])),\n",
       "             ('ReLU-48',\n",
       "              OrderedDict([('input_shape', [-1, 64, 64, 64]),\n",
       "                           ('output_shape', [-1, 64, 64, 64]),\n",
       "                           ('nb_params', 0)])),\n",
       "             ('BasicBlock-49',\n",
       "              OrderedDict([('input_shape', [-1, 64, 64, 64]),\n",
       "                           ('output_shape', [-1, 64, 64, 64]),\n",
       "                           ('nb_params', 0)])),\n",
       "             ('BasicBlock-50',\n",
       "              OrderedDict([('input_shape', [-1, 64, 64, 64]),\n",
       "                           ('output_shape', [-1, 64, 64, 64]),\n",
       "                           ('nb_params', 0)])),\n",
       "             ('Conv2d-51',\n",
       "              OrderedDict([('input_shape', [-1, 64, 64, 64]),\n",
       "                           ('output_shape', [-1, 128, 32, 32]),\n",
       "                           ('trainable', False),\n",
       "                           ('nb_params', 73728)])),\n",
       "             ('Conv2d-52',\n",
       "              OrderedDict([('input_shape', [-1, 64, 64, 64]),\n",
       "                           ('output_shape', [-1, 128, 32, 32]),\n",
       "                           ('trainable', False),\n",
       "                           ('nb_params', 73728)])),\n",
       "             ('BatchNorm2d-53',\n",
       "              OrderedDict([('input_shape', [-1, 128, 32, 32]),\n",
       "                           ('output_shape', [-1, 128, 32, 32]),\n",
       "                           ('trainable', False),\n",
       "                           ('nb_params', 256)])),\n",
       "             ('BatchNorm2d-54',\n",
       "              OrderedDict([('input_shape', [-1, 128, 32, 32]),\n",
       "                           ('output_shape', [-1, 128, 32, 32]),\n",
       "                           ('trainable', False),\n",
       "                           ('nb_params', 256)])),\n",
       "             ('ReLU-55',\n",
       "              OrderedDict([('input_shape', [-1, 128, 32, 32]),\n",
       "                           ('output_shape', [-1, 128, 32, 32]),\n",
       "                           ('nb_params', 0)])),\n",
       "             ('ReLU-56',\n",
       "              OrderedDict([('input_shape', [-1, 128, 32, 32]),\n",
       "                           ('output_shape', [-1, 128, 32, 32]),\n",
       "                           ('nb_params', 0)])),\n",
       "             ('Conv2d-57',\n",
       "              OrderedDict([('input_shape', [-1, 128, 32, 32]),\n",
       "                           ('output_shape', [-1, 128, 32, 32]),\n",
       "                           ('trainable', False),\n",
       "                           ('nb_params', 147456)])),\n",
       "             ('Conv2d-58',\n",
       "              OrderedDict([('input_shape', [-1, 128, 32, 32]),\n",
       "                           ('output_shape', [-1, 128, 32, 32]),\n",
       "                           ('trainable', False),\n",
       "                           ('nb_params', 147456)])),\n",
       "             ('BatchNorm2d-59',\n",
       "              OrderedDict([('input_shape', [-1, 128, 32, 32]),\n",
       "                           ('output_shape', [-1, 128, 32, 32]),\n",
       "                           ('trainable', False),\n",
       "                           ('nb_params', 256)])),\n",
       "             ('BatchNorm2d-60',\n",
       "              OrderedDict([('input_shape', [-1, 128, 32, 32]),\n",
       "                           ('output_shape', [-1, 128, 32, 32]),\n",
       "                           ('trainable', False),\n",
       "                           ('nb_params', 256)])),\n",
       "             ('Conv2d-61',\n",
       "              OrderedDict([('input_shape', [-1, 64, 64, 64]),\n",
       "                           ('output_shape', [-1, 128, 32, 32]),\n",
       "                           ('trainable', False),\n",
       "                           ('nb_params', 8192)])),\n",
       "             ('Conv2d-62',\n",
       "              OrderedDict([('input_shape', [-1, 64, 64, 64]),\n",
       "                           ('output_shape', [-1, 128, 32, 32]),\n",
       "                           ('trainable', False),\n",
       "                           ('nb_params', 8192)])),\n",
       "             ('BatchNorm2d-63',\n",
       "              OrderedDict([('input_shape', [-1, 128, 32, 32]),\n",
       "                           ('output_shape', [-1, 128, 32, 32]),\n",
       "                           ('trainable', False),\n",
       "                           ('nb_params', 256)])),\n",
       "             ('BatchNorm2d-64',\n",
       "              OrderedDict([('input_shape', [-1, 128, 32, 32]),\n",
       "                           ('output_shape', [-1, 128, 32, 32]),\n",
       "                           ('trainable', False),\n",
       "                           ('nb_params', 256)])),\n",
       "             ('ReLU-65',\n",
       "              OrderedDict([('input_shape', [-1, 128, 32, 32]),\n",
       "                           ('output_shape', [-1, 128, 32, 32]),\n",
       "                           ('nb_params', 0)])),\n",
       "             ('ReLU-66',\n",
       "              OrderedDict([('input_shape', [-1, 128, 32, 32]),\n",
       "                           ('output_shape', [-1, 128, 32, 32]),\n",
       "                           ('nb_params', 0)])),\n",
       "             ('BasicBlock-67',\n",
       "              OrderedDict([('input_shape', [-1, 64, 64, 64]),\n",
       "                           ('output_shape', [-1, 128, 32, 32]),\n",
       "                           ('nb_params', 0)])),\n",
       "             ('BasicBlock-68',\n",
       "              OrderedDict([('input_shape', [-1, 64, 64, 64]),\n",
       "                           ('output_shape', [-1, 128, 32, 32]),\n",
       "                           ('nb_params', 0)])),\n",
       "             ('Conv2d-69',\n",
       "              OrderedDict([('input_shape', [-1, 128, 32, 32]),\n",
       "                           ('output_shape', [-1, 128, 32, 32]),\n",
       "                           ('trainable', False),\n",
       "                           ('nb_params', 147456)])),\n",
       "             ('Conv2d-70',\n",
       "              OrderedDict([('input_shape', [-1, 128, 32, 32]),\n",
       "                           ('output_shape', [-1, 128, 32, 32]),\n",
       "                           ('trainable', False),\n",
       "                           ('nb_params', 147456)])),\n",
       "             ('BatchNorm2d-71',\n",
       "              OrderedDict([('input_shape', [-1, 128, 32, 32]),\n",
       "                           ('output_shape', [-1, 128, 32, 32]),\n",
       "                           ('trainable', False),\n",
       "                           ('nb_params', 256)])),\n",
       "             ('BatchNorm2d-72',\n",
       "              OrderedDict([('input_shape', [-1, 128, 32, 32]),\n",
       "                           ('output_shape', [-1, 128, 32, 32]),\n",
       "                           ('trainable', False),\n",
       "                           ('nb_params', 256)])),\n",
       "             ('ReLU-73',\n",
       "              OrderedDict([('input_shape', [-1, 128, 32, 32]),\n",
       "                           ('output_shape', [-1, 128, 32, 32]),\n",
       "                           ('nb_params', 0)])),\n",
       "             ('ReLU-74',\n",
       "              OrderedDict([('input_shape', [-1, 128, 32, 32]),\n",
       "                           ('output_shape', [-1, 128, 32, 32]),\n",
       "                           ('nb_params', 0)])),\n",
       "             ('Conv2d-75',\n",
       "              OrderedDict([('input_shape', [-1, 128, 32, 32]),\n",
       "                           ('output_shape', [-1, 128, 32, 32]),\n",
       "                           ('trainable', False),\n",
       "                           ('nb_params', 147456)])),\n",
       "             ('Conv2d-76',\n",
       "              OrderedDict([('input_shape', [-1, 128, 32, 32]),\n",
       "                           ('output_shape', [-1, 128, 32, 32]),\n",
       "                           ('trainable', False),\n",
       "                           ('nb_params', 147456)])),\n",
       "             ('BatchNorm2d-77',\n",
       "              OrderedDict([('input_shape', [-1, 128, 32, 32]),\n",
       "                           ('output_shape', [-1, 128, 32, 32]),\n",
       "                           ('trainable', False),\n",
       "                           ('nb_params', 256)])),\n",
       "             ('BatchNorm2d-78',\n",
       "              OrderedDict([('input_shape', [-1, 128, 32, 32]),\n",
       "                           ('output_shape', [-1, 128, 32, 32]),\n",
       "                           ('trainable', False),\n",
       "                           ('nb_params', 256)])),\n",
       "             ('ReLU-79',\n",
       "              OrderedDict([('input_shape', [-1, 128, 32, 32]),\n",
       "                           ('output_shape', [-1, 128, 32, 32]),\n",
       "                           ('nb_params', 0)])),\n",
       "             ('ReLU-80',\n",
       "              OrderedDict([('input_shape', [-1, 128, 32, 32]),\n",
       "                           ('output_shape', [-1, 128, 32, 32]),\n",
       "                           ('nb_params', 0)])),\n",
       "             ('BasicBlock-81',\n",
       "              OrderedDict([('input_shape', [-1, 128, 32, 32]),\n",
       "                           ('output_shape', [-1, 128, 32, 32]),\n",
       "                           ('nb_params', 0)])),\n",
       "             ('BasicBlock-82',\n",
       "              OrderedDict([('input_shape', [-1, 128, 32, 32]),\n",
       "                           ('output_shape', [-1, 128, 32, 32]),\n",
       "                           ('nb_params', 0)])),\n",
       "             ('Conv2d-83',\n",
       "              OrderedDict([('input_shape', [-1, 128, 32, 32]),\n",
       "                           ('output_shape', [-1, 128, 32, 32]),\n",
       "                           ('trainable', False),\n",
       "                           ('nb_params', 147456)])),\n",
       "             ('Conv2d-84',\n",
       "              OrderedDict([('input_shape', [-1, 128, 32, 32]),\n",
       "                           ('output_shape', [-1, 128, 32, 32]),\n",
       "                           ('trainable', False),\n",
       "                           ('nb_params', 147456)])),\n",
       "             ('BatchNorm2d-85',\n",
       "              OrderedDict([('input_shape', [-1, 128, 32, 32]),\n",
       "                           ('output_shape', [-1, 128, 32, 32]),\n",
       "                           ('trainable', False),\n",
       "                           ('nb_params', 256)])),\n",
       "             ('BatchNorm2d-86',\n",
       "              OrderedDict([('input_shape', [-1, 128, 32, 32]),\n",
       "                           ('output_shape', [-1, 128, 32, 32]),\n",
       "                           ('trainable', False),\n",
       "                           ('nb_params', 256)])),\n",
       "             ('ReLU-87',\n",
       "              OrderedDict([('input_shape', [-1, 128, 32, 32]),\n",
       "                           ('output_shape', [-1, 128, 32, 32]),\n",
       "                           ('nb_params', 0)])),\n",
       "             ('ReLU-88',\n",
       "              OrderedDict([('input_shape', [-1, 128, 32, 32]),\n",
       "                           ('output_shape', [-1, 128, 32, 32]),\n",
       "                           ('nb_params', 0)])),\n",
       "             ('Conv2d-89',\n",
       "              OrderedDict([('input_shape', [-1, 128, 32, 32]),\n",
       "                           ('output_shape', [-1, 128, 32, 32]),\n",
       "                           ('trainable', False),\n",
       "                           ('nb_params', 147456)])),\n",
       "             ('Conv2d-90',\n",
       "              OrderedDict([('input_shape', [-1, 128, 32, 32]),\n",
       "                           ('output_shape', [-1, 128, 32, 32]),\n",
       "                           ('trainable', False),\n",
       "                           ('nb_params', 147456)])),\n",
       "             ('BatchNorm2d-91',\n",
       "              OrderedDict([('input_shape', [-1, 128, 32, 32]),\n",
       "                           ('output_shape', [-1, 128, 32, 32]),\n",
       "                           ('trainable', False),\n",
       "                           ('nb_params', 256)])),\n",
       "             ('BatchNorm2d-92',\n",
       "              OrderedDict([('input_shape', [-1, 128, 32, 32]),\n",
       "                           ('output_shape', [-1, 128, 32, 32]),\n",
       "                           ('trainable', False),\n",
       "                           ('nb_params', 256)])),\n",
       "             ('ReLU-93',\n",
       "              OrderedDict([('input_shape', [-1, 128, 32, 32]),\n",
       "                           ('output_shape', [-1, 128, 32, 32]),\n",
       "                           ('nb_params', 0)])),\n",
       "             ('ReLU-94',\n",
       "              OrderedDict([('input_shape', [-1, 128, 32, 32]),\n",
       "                           ('output_shape', [-1, 128, 32, 32]),\n",
       "                           ('nb_params', 0)])),\n",
       "             ('BasicBlock-95',\n",
       "              OrderedDict([('input_shape', [-1, 128, 32, 32]),\n",
       "                           ('output_shape', [-1, 128, 32, 32]),\n",
       "                           ('nb_params', 0)])),\n",
       "             ('BasicBlock-96',\n",
       "              OrderedDict([('input_shape', [-1, 128, 32, 32]),\n",
       "                           ('output_shape', [-1, 128, 32, 32]),\n",
       "                           ('nb_params', 0)])),\n",
       "             ('Conv2d-97',\n",
       "              OrderedDict([('input_shape', [-1, 128, 32, 32]),\n",
       "                           ('output_shape', [-1, 128, 32, 32]),\n",
       "                           ('trainable', False),\n",
       "                           ('nb_params', 147456)])),\n",
       "             ('Conv2d-98',\n",
       "              OrderedDict([('input_shape', [-1, 128, 32, 32]),\n",
       "                           ('output_shape', [-1, 128, 32, 32]),\n",
       "                           ('trainable', False),\n",
       "                           ('nb_params', 147456)])),\n",
       "             ('BatchNorm2d-99',\n",
       "              OrderedDict([('input_shape', [-1, 128, 32, 32]),\n",
       "                           ('output_shape', [-1, 128, 32, 32]),\n",
       "                           ('trainable', False),\n",
       "                           ('nb_params', 256)])),\n",
       "             ('BatchNorm2d-100',\n",
       "              OrderedDict([('input_shape', [-1, 128, 32, 32]),\n",
       "                           ('output_shape', [-1, 128, 32, 32]),\n",
       "                           ('trainable', False),\n",
       "                           ('nb_params', 256)])),\n",
       "             ('ReLU-101',\n",
       "              OrderedDict([('input_shape', [-1, 128, 32, 32]),\n",
       "                           ('output_shape', [-1, 128, 32, 32]),\n",
       "                           ('nb_params', 0)])),\n",
       "             ('ReLU-102',\n",
       "              OrderedDict([('input_shape', [-1, 128, 32, 32]),\n",
       "                           ('output_shape', [-1, 128, 32, 32]),\n",
       "                           ('nb_params', 0)])),\n",
       "             ('Conv2d-103',\n",
       "              OrderedDict([('input_shape', [-1, 128, 32, 32]),\n",
       "                           ('output_shape', [-1, 128, 32, 32]),\n",
       "                           ('trainable', False),\n",
       "                           ('nb_params', 147456)])),\n",
       "             ('Conv2d-104',\n",
       "              OrderedDict([('input_shape', [-1, 128, 32, 32]),\n",
       "                           ('output_shape', [-1, 128, 32, 32]),\n",
       "                           ('trainable', False),\n",
       "                           ('nb_params', 147456)])),\n",
       "             ('BatchNorm2d-105',\n",
       "              OrderedDict([('input_shape', [-1, 128, 32, 32]),\n",
       "                           ('output_shape', [-1, 128, 32, 32]),\n",
       "                           ('trainable', False),\n",
       "                           ('nb_params', 256)])),\n",
       "             ('BatchNorm2d-106',\n",
       "              OrderedDict([('input_shape', [-1, 128, 32, 32]),\n",
       "                           ('output_shape', [-1, 128, 32, 32]),\n",
       "                           ('trainable', False),\n",
       "                           ('nb_params', 256)])),\n",
       "             ('ReLU-107',\n",
       "              OrderedDict([('input_shape', [-1, 128, 32, 32]),\n",
       "                           ('output_shape', [-1, 128, 32, 32]),\n",
       "                           ('nb_params', 0)])),\n",
       "             ('ReLU-108',\n",
       "              OrderedDict([('input_shape', [-1, 128, 32, 32]),\n",
       "                           ('output_shape', [-1, 128, 32, 32]),\n",
       "                           ('nb_params', 0)])),\n",
       "             ('BasicBlock-109',\n",
       "              OrderedDict([('input_shape', [-1, 128, 32, 32]),\n",
       "                           ('output_shape', [-1, 128, 32, 32]),\n",
       "                           ('nb_params', 0)])),\n",
       "             ('BasicBlock-110',\n",
       "              OrderedDict([('input_shape', [-1, 128, 32, 32]),\n",
       "                           ('output_shape', [-1, 128, 32, 32]),\n",
       "                           ('nb_params', 0)])),\n",
       "             ('Conv2d-111',\n",
       "              OrderedDict([('input_shape', [-1, 128, 32, 32]),\n",
       "                           ('output_shape', [-1, 256, 16, 16]),\n",
       "                           ('trainable', False),\n",
       "                           ('nb_params', 294912)])),\n",
       "             ('Conv2d-112',\n",
       "              OrderedDict([('input_shape', [-1, 128, 32, 32]),\n",
       "                           ('output_shape', [-1, 256, 16, 16]),\n",
       "                           ('trainable', False),\n",
       "                           ('nb_params', 294912)])),\n",
       "             ('BatchNorm2d-113',\n",
       "              OrderedDict([('input_shape', [-1, 256, 16, 16]),\n",
       "                           ('output_shape', [-1, 256, 16, 16]),\n",
       "                           ('trainable', False),\n",
       "                           ('nb_params', 512)])),\n",
       "             ('BatchNorm2d-114',\n",
       "              OrderedDict([('input_shape', [-1, 256, 16, 16]),\n",
       "                           ('output_shape', [-1, 256, 16, 16]),\n",
       "                           ('trainable', False),\n",
       "                           ('nb_params', 512)])),\n",
       "             ('ReLU-115',\n",
       "              OrderedDict([('input_shape', [-1, 256, 16, 16]),\n",
       "                           ('output_shape', [-1, 256, 16, 16]),\n",
       "                           ('nb_params', 0)])),\n",
       "             ('ReLU-116',\n",
       "              OrderedDict([('input_shape', [-1, 256, 16, 16]),\n",
       "                           ('output_shape', [-1, 256, 16, 16]),\n",
       "                           ('nb_params', 0)])),\n",
       "             ('Conv2d-117',\n",
       "              OrderedDict([('input_shape', [-1, 256, 16, 16]),\n",
       "                           ('output_shape', [-1, 256, 16, 16]),\n",
       "                           ('trainable', False),\n",
       "                           ('nb_params', 589824)])),\n",
       "             ('Conv2d-118',\n",
       "              OrderedDict([('input_shape', [-1, 256, 16, 16]),\n",
       "                           ('output_shape', [-1, 256, 16, 16]),\n",
       "                           ('trainable', False),\n",
       "                           ('nb_params', 589824)])),\n",
       "             ('BatchNorm2d-119',\n",
       "              OrderedDict([('input_shape', [-1, 256, 16, 16]),\n",
       "                           ('output_shape', [-1, 256, 16, 16]),\n",
       "                           ('trainable', False),\n",
       "                           ('nb_params', 512)])),\n",
       "             ('BatchNorm2d-120',\n",
       "              OrderedDict([('input_shape', [-1, 256, 16, 16]),\n",
       "                           ('output_shape', [-1, 256, 16, 16]),\n",
       "                           ('trainable', False),\n",
       "                           ('nb_params', 512)])),\n",
       "             ('Conv2d-121',\n",
       "              OrderedDict([('input_shape', [-1, 128, 32, 32]),\n",
       "                           ('output_shape', [-1, 256, 16, 16]),\n",
       "                           ('trainable', False),\n",
       "                           ('nb_params', 32768)])),\n",
       "             ('Conv2d-122',\n",
       "              OrderedDict([('input_shape', [-1, 128, 32, 32]),\n",
       "                           ('output_shape', [-1, 256, 16, 16]),\n",
       "                           ('trainable', False),\n",
       "                           ('nb_params', 32768)])),\n",
       "             ('BatchNorm2d-123',\n",
       "              OrderedDict([('input_shape', [-1, 256, 16, 16]),\n",
       "                           ('output_shape', [-1, 256, 16, 16]),\n",
       "                           ('trainable', False),\n",
       "                           ('nb_params', 512)])),\n",
       "             ('BatchNorm2d-124',\n",
       "              OrderedDict([('input_shape', [-1, 256, 16, 16]),\n",
       "                           ('output_shape', [-1, 256, 16, 16]),\n",
       "                           ('trainable', False),\n",
       "                           ('nb_params', 512)])),\n",
       "             ('ReLU-125',\n",
       "              OrderedDict([('input_shape', [-1, 256, 16, 16]),\n",
       "                           ('output_shape', [-1, 256, 16, 16]),\n",
       "                           ('nb_params', 0)])),\n",
       "             ('ReLU-126',\n",
       "              OrderedDict([('input_shape', [-1, 256, 16, 16]),\n",
       "                           ('output_shape', [-1, 256, 16, 16]),\n",
       "                           ('nb_params', 0)])),\n",
       "             ('BasicBlock-127',\n",
       "              OrderedDict([('input_shape', [-1, 128, 32, 32]),\n",
       "                           ('output_shape', [-1, 256, 16, 16]),\n",
       "                           ('nb_params', 0)])),\n",
       "             ('BasicBlock-128',\n",
       "              OrderedDict([('input_shape', [-1, 128, 32, 32]),\n",
       "                           ('output_shape', [-1, 256, 16, 16]),\n",
       "                           ('nb_params', 0)])),\n",
       "             ('Conv2d-129',\n",
       "              OrderedDict([('input_shape', [-1, 256, 16, 16]),\n",
       "                           ('output_shape', [-1, 256, 16, 16]),\n",
       "                           ('trainable', False),\n",
       "                           ('nb_params', 589824)])),\n",
       "             ('Conv2d-130',\n",
       "              OrderedDict([('input_shape', [-1, 256, 16, 16]),\n",
       "                           ('output_shape', [-1, 256, 16, 16]),\n",
       "                           ('trainable', False),\n",
       "                           ('nb_params', 589824)])),\n",
       "             ('BatchNorm2d-131',\n",
       "              OrderedDict([('input_shape', [-1, 256, 16, 16]),\n",
       "                           ('output_shape', [-1, 256, 16, 16]),\n",
       "                           ('trainable', False),\n",
       "                           ('nb_params', 512)])),\n",
       "             ('BatchNorm2d-132',\n",
       "              OrderedDict([('input_shape', [-1, 256, 16, 16]),\n",
       "                           ('output_shape', [-1, 256, 16, 16]),\n",
       "                           ('trainable', False),\n",
       "                           ('nb_params', 512)])),\n",
       "             ('ReLU-133',\n",
       "              OrderedDict([('input_shape', [-1, 256, 16, 16]),\n",
       "                           ('output_shape', [-1, 256, 16, 16]),\n",
       "                           ('nb_params', 0)])),\n",
       "             ('ReLU-134',\n",
       "              OrderedDict([('input_shape', [-1, 256, 16, 16]),\n",
       "                           ('output_shape', [-1, 256, 16, 16]),\n",
       "                           ('nb_params', 0)])),\n",
       "             ('Conv2d-135',\n",
       "              OrderedDict([('input_shape', [-1, 256, 16, 16]),\n",
       "                           ('output_shape', [-1, 256, 16, 16]),\n",
       "                           ('trainable', False),\n",
       "                           ('nb_params', 589824)])),\n",
       "             ('Conv2d-136',\n",
       "              OrderedDict([('input_shape', [-1, 256, 16, 16]),\n",
       "                           ('output_shape', [-1, 256, 16, 16]),\n",
       "                           ('trainable', False),\n",
       "                           ('nb_params', 589824)])),\n",
       "             ('BatchNorm2d-137',\n",
       "              OrderedDict([('input_shape', [-1, 256, 16, 16]),\n",
       "                           ('output_shape', [-1, 256, 16, 16]),\n",
       "                           ('trainable', False),\n",
       "                           ('nb_params', 512)])),\n",
       "             ('BatchNorm2d-138',\n",
       "              OrderedDict([('input_shape', [-1, 256, 16, 16]),\n",
       "                           ('output_shape', [-1, 256, 16, 16]),\n",
       "                           ('trainable', False),\n",
       "                           ('nb_params', 512)])),\n",
       "             ('ReLU-139',\n",
       "              OrderedDict([('input_shape', [-1, 256, 16, 16]),\n",
       "                           ('output_shape', [-1, 256, 16, 16]),\n",
       "                           ('nb_params', 0)])),\n",
       "             ('ReLU-140',\n",
       "              OrderedDict([('input_shape', [-1, 256, 16, 16]),\n",
       "                           ('output_shape', [-1, 256, 16, 16]),\n",
       "                           ('nb_params', 0)])),\n",
       "             ('BasicBlock-141',\n",
       "              OrderedDict([('input_shape', [-1, 256, 16, 16]),\n",
       "                           ('output_shape', [-1, 256, 16, 16]),\n",
       "                           ('nb_params', 0)])),\n",
       "             ('BasicBlock-142',\n",
       "              OrderedDict([('input_shape', [-1, 256, 16, 16]),\n",
       "                           ('output_shape', [-1, 256, 16, 16]),\n",
       "                           ('nb_params', 0)])),\n",
       "             ('Conv2d-143',\n",
       "              OrderedDict([('input_shape', [-1, 256, 16, 16]),\n",
       "                           ('output_shape', [-1, 256, 16, 16]),\n",
       "                           ('trainable', False),\n",
       "                           ('nb_params', 589824)])),\n",
       "             ('Conv2d-144',\n",
       "              OrderedDict([('input_shape', [-1, 256, 16, 16]),\n",
       "                           ('output_shape', [-1, 256, 16, 16]),\n",
       "                           ('trainable', False),\n",
       "                           ('nb_params', 589824)])),\n",
       "             ('BatchNorm2d-145',\n",
       "              OrderedDict([('input_shape', [-1, 256, 16, 16]),\n",
       "                           ('output_shape', [-1, 256, 16, 16]),\n",
       "                           ('trainable', False),\n",
       "                           ('nb_params', 512)])),\n",
       "             ('BatchNorm2d-146',\n",
       "              OrderedDict([('input_shape', [-1, 256, 16, 16]),\n",
       "                           ('output_shape', [-1, 256, 16, 16]),\n",
       "                           ('trainable', False),\n",
       "                           ('nb_params', 512)])),\n",
       "             ('ReLU-147',\n",
       "              OrderedDict([('input_shape', [-1, 256, 16, 16]),\n",
       "                           ('output_shape', [-1, 256, 16, 16]),\n",
       "                           ('nb_params', 0)])),\n",
       "             ('ReLU-148',\n",
       "              OrderedDict([('input_shape', [-1, 256, 16, 16]),\n",
       "                           ('output_shape', [-1, 256, 16, 16]),\n",
       "                           ('nb_params', 0)])),\n",
       "             ('Conv2d-149',\n",
       "              OrderedDict([('input_shape', [-1, 256, 16, 16]),\n",
       "                           ('output_shape', [-1, 256, 16, 16]),\n",
       "                           ('trainable', False),\n",
       "                           ('nb_params', 589824)])),\n",
       "             ('Conv2d-150',\n",
       "              OrderedDict([('input_shape', [-1, 256, 16, 16]),\n",
       "                           ('output_shape', [-1, 256, 16, 16]),\n",
       "                           ('trainable', False),\n",
       "                           ('nb_params', 589824)])),\n",
       "             ('BatchNorm2d-151',\n",
       "              OrderedDict([('input_shape', [-1, 256, 16, 16]),\n",
       "                           ('output_shape', [-1, 256, 16, 16]),\n",
       "                           ('trainable', False),\n",
       "                           ('nb_params', 512)])),\n",
       "             ('BatchNorm2d-152',\n",
       "              OrderedDict([('input_shape', [-1, 256, 16, 16]),\n",
       "                           ('output_shape', [-1, 256, 16, 16]),\n",
       "                           ('trainable', False),\n",
       "                           ('nb_params', 512)])),\n",
       "             ('ReLU-153',\n",
       "              OrderedDict([('input_shape', [-1, 256, 16, 16]),\n",
       "                           ('output_shape', [-1, 256, 16, 16]),\n",
       "                           ('nb_params', 0)])),\n",
       "             ('ReLU-154',\n",
       "              OrderedDict([('input_shape', [-1, 256, 16, 16]),\n",
       "                           ('output_shape', [-1, 256, 16, 16]),\n",
       "                           ('nb_params', 0)])),\n",
       "             ('BasicBlock-155',\n",
       "              OrderedDict([('input_shape', [-1, 256, 16, 16]),\n",
       "                           ('output_shape', [-1, 256, 16, 16]),\n",
       "                           ('nb_params', 0)])),\n",
       "             ('BasicBlock-156',\n",
       "              OrderedDict([('input_shape', [-1, 256, 16, 16]),\n",
       "                           ('output_shape', [-1, 256, 16, 16]),\n",
       "                           ('nb_params', 0)])),\n",
       "             ('Conv2d-157',\n",
       "              OrderedDict([('input_shape', [-1, 256, 16, 16]),\n",
       "                           ('output_shape', [-1, 256, 16, 16]),\n",
       "                           ('trainable', False),\n",
       "                           ('nb_params', 589824)])),\n",
       "             ('Conv2d-158',\n",
       "              OrderedDict([('input_shape', [-1, 256, 16, 16]),\n",
       "                           ('output_shape', [-1, 256, 16, 16]),\n",
       "                           ('trainable', False),\n",
       "                           ('nb_params', 589824)])),\n",
       "             ('BatchNorm2d-159',\n",
       "              OrderedDict([('input_shape', [-1, 256, 16, 16]),\n",
       "                           ('output_shape', [-1, 256, 16, 16]),\n",
       "                           ('trainable', False),\n",
       "                           ('nb_params', 512)])),\n",
       "             ('BatchNorm2d-160',\n",
       "              OrderedDict([('input_shape', [-1, 256, 16, 16]),\n",
       "                           ('output_shape', [-1, 256, 16, 16]),\n",
       "                           ('trainable', False),\n",
       "                           ('nb_params', 512)])),\n",
       "             ('ReLU-161',\n",
       "              OrderedDict([('input_shape', [-1, 256, 16, 16]),\n",
       "                           ('output_shape', [-1, 256, 16, 16]),\n",
       "                           ('nb_params', 0)])),\n",
       "             ('ReLU-162',\n",
       "              OrderedDict([('input_shape', [-1, 256, 16, 16]),\n",
       "                           ('output_shape', [-1, 256, 16, 16]),\n",
       "                           ('nb_params', 0)])),\n",
       "             ('Conv2d-163',\n",
       "              OrderedDict([('input_shape', [-1, 256, 16, 16]),\n",
       "                           ('output_shape', [-1, 256, 16, 16]),\n",
       "                           ('trainable', False),\n",
       "                           ('nb_params', 589824)])),\n",
       "             ('Conv2d-164',\n",
       "              OrderedDict([('input_shape', [-1, 256, 16, 16]),\n",
       "                           ('output_shape', [-1, 256, 16, 16]),\n",
       "                           ('trainable', False),\n",
       "                           ('nb_params', 589824)])),\n",
       "             ('BatchNorm2d-165',\n",
       "              OrderedDict([('input_shape', [-1, 256, 16, 16]),\n",
       "                           ('output_shape', [-1, 256, 16, 16]),\n",
       "                           ('trainable', False),\n",
       "                           ('nb_params', 512)])),\n",
       "             ('BatchNorm2d-166',\n",
       "              OrderedDict([('input_shape', [-1, 256, 16, 16]),\n",
       "                           ('output_shape', [-1, 256, 16, 16]),\n",
       "                           ('trainable', False),\n",
       "                           ('nb_params', 512)])),\n",
       "             ('ReLU-167',\n",
       "              OrderedDict([('input_shape', [-1, 256, 16, 16]),\n",
       "                           ('output_shape', [-1, 256, 16, 16]),\n",
       "                           ('nb_params', 0)])),\n",
       "             ('ReLU-168',\n",
       "              OrderedDict([('input_shape', [-1, 256, 16, 16]),\n",
       "                           ('output_shape', [-1, 256, 16, 16]),\n",
       "                           ('nb_params', 0)])),\n",
       "             ('BasicBlock-169',\n",
       "              OrderedDict([('input_shape', [-1, 256, 16, 16]),\n",
       "                           ('output_shape', [-1, 256, 16, 16]),\n",
       "                           ('nb_params', 0)])),\n",
       "             ('BasicBlock-170',\n",
       "              OrderedDict([('input_shape', [-1, 256, 16, 16]),\n",
       "                           ('output_shape', [-1, 256, 16, 16]),\n",
       "                           ('nb_params', 0)])),\n",
       "             ('Conv2d-171',\n",
       "              OrderedDict([('input_shape', [-1, 256, 16, 16]),\n",
       "                           ('output_shape', [-1, 256, 16, 16]),\n",
       "                           ('trainable', False),\n",
       "                           ('nb_params', 589824)])),\n",
       "             ('Conv2d-172',\n",
       "              OrderedDict([('input_shape', [-1, 256, 16, 16]),\n",
       "                           ('output_shape', [-1, 256, 16, 16]),\n",
       "                           ('trainable', False),\n",
       "                           ('nb_params', 589824)])),\n",
       "             ('BatchNorm2d-173',\n",
       "              OrderedDict([('input_shape', [-1, 256, 16, 16]),\n",
       "                           ('output_shape', [-1, 256, 16, 16]),\n",
       "                           ('trainable', False),\n",
       "                           ('nb_params', 512)])),\n",
       "             ('BatchNorm2d-174',\n",
       "              OrderedDict([('input_shape', [-1, 256, 16, 16]),\n",
       "                           ('output_shape', [-1, 256, 16, 16]),\n",
       "                           ('trainable', False),\n",
       "                           ('nb_params', 512)])),\n",
       "             ('ReLU-175',\n",
       "              OrderedDict([('input_shape', [-1, 256, 16, 16]),\n",
       "                           ('output_shape', [-1, 256, 16, 16]),\n",
       "                           ('nb_params', 0)])),\n",
       "             ('ReLU-176',\n",
       "              OrderedDict([('input_shape', [-1, 256, 16, 16]),\n",
       "                           ('output_shape', [-1, 256, 16, 16]),\n",
       "                           ('nb_params', 0)])),\n",
       "             ('Conv2d-177',\n",
       "              OrderedDict([('input_shape', [-1, 256, 16, 16]),\n",
       "                           ('output_shape', [-1, 256, 16, 16]),\n",
       "                           ('trainable', False),\n",
       "                           ('nb_params', 589824)])),\n",
       "             ('Conv2d-178',\n",
       "              OrderedDict([('input_shape', [-1, 256, 16, 16]),\n",
       "                           ('output_shape', [-1, 256, 16, 16]),\n",
       "                           ('trainable', False),\n",
       "                           ('nb_params', 589824)])),\n",
       "             ('BatchNorm2d-179',\n",
       "              OrderedDict([('input_shape', [-1, 256, 16, 16]),\n",
       "                           ('output_shape', [-1, 256, 16, 16]),\n",
       "                           ('trainable', False),\n",
       "                           ('nb_params', 512)])),\n",
       "             ('BatchNorm2d-180',\n",
       "              OrderedDict([('input_shape', [-1, 256, 16, 16]),\n",
       "                           ('output_shape', [-1, 256, 16, 16]),\n",
       "                           ('trainable', False),\n",
       "                           ('nb_params', 512)])),\n",
       "             ('ReLU-181',\n",
       "              OrderedDict([('input_shape', [-1, 256, 16, 16]),\n",
       "                           ('output_shape', [-1, 256, 16, 16]),\n",
       "                           ('nb_params', 0)])),\n",
       "             ('ReLU-182',\n",
       "              OrderedDict([('input_shape', [-1, 256, 16, 16]),\n",
       "                           ('output_shape', [-1, 256, 16, 16]),\n",
       "                           ('nb_params', 0)])),\n",
       "             ('BasicBlock-183',\n",
       "              OrderedDict([('input_shape', [-1, 256, 16, 16]),\n",
       "                           ('output_shape', [-1, 256, 16, 16]),\n",
       "                           ('nb_params', 0)])),\n",
       "             ('BasicBlock-184',\n",
       "              OrderedDict([('input_shape', [-1, 256, 16, 16]),\n",
       "                           ('output_shape', [-1, 256, 16, 16]),\n",
       "                           ('nb_params', 0)])),\n",
       "             ('Conv2d-185',\n",
       "              OrderedDict([('input_shape', [-1, 256, 16, 16]),\n",
       "                           ('output_shape', [-1, 256, 16, 16]),\n",
       "                           ('trainable', False),\n",
       "                           ('nb_params', 589824)])),\n",
       "             ('Conv2d-186',\n",
       "              OrderedDict([('input_shape', [-1, 256, 16, 16]),\n",
       "                           ('output_shape', [-1, 256, 16, 16]),\n",
       "                           ('trainable', False),\n",
       "                           ('nb_params', 589824)])),\n",
       "             ('BatchNorm2d-187',\n",
       "              OrderedDict([('input_shape', [-1, 256, 16, 16]),\n",
       "                           ('output_shape', [-1, 256, 16, 16]),\n",
       "                           ('trainable', False),\n",
       "                           ('nb_params', 512)])),\n",
       "             ('BatchNorm2d-188',\n",
       "              OrderedDict([('input_shape', [-1, 256, 16, 16]),\n",
       "                           ('output_shape', [-1, 256, 16, 16]),\n",
       "                           ('trainable', False),\n",
       "                           ('nb_params', 512)])),\n",
       "             ('ReLU-189',\n",
       "              OrderedDict([('input_shape', [-1, 256, 16, 16]),\n",
       "                           ('output_shape', [-1, 256, 16, 16]),\n",
       "                           ('nb_params', 0)])),\n",
       "             ('ReLU-190',\n",
       "              OrderedDict([('input_shape', [-1, 256, 16, 16]),\n",
       "                           ('output_shape', [-1, 256, 16, 16]),\n",
       "                           ('nb_params', 0)])),\n",
       "             ('Conv2d-191',\n",
       "              OrderedDict([('input_shape', [-1, 256, 16, 16]),\n",
       "                           ('output_shape', [-1, 256, 16, 16]),\n",
       "                           ('trainable', False),\n",
       "                           ('nb_params', 589824)])),\n",
       "             ('Conv2d-192',\n",
       "              OrderedDict([('input_shape', [-1, 256, 16, 16]),\n",
       "                           ('output_shape', [-1, 256, 16, 16]),\n",
       "                           ('trainable', False),\n",
       "                           ('nb_params', 589824)])),\n",
       "             ('BatchNorm2d-193',\n",
       "              OrderedDict([('input_shape', [-1, 256, 16, 16]),\n",
       "                           ('output_shape', [-1, 256, 16, 16]),\n",
       "                           ('trainable', False),\n",
       "                           ('nb_params', 512)])),\n",
       "             ('BatchNorm2d-194',\n",
       "              OrderedDict([('input_shape', [-1, 256, 16, 16]),\n",
       "                           ('output_shape', [-1, 256, 16, 16]),\n",
       "                           ('trainable', False),\n",
       "                           ('nb_params', 512)])),\n",
       "             ('ReLU-195',\n",
       "              OrderedDict([('input_shape', [-1, 256, 16, 16]),\n",
       "                           ('output_shape', [-1, 256, 16, 16]),\n",
       "                           ('nb_params', 0)])),\n",
       "             ('ReLU-196',\n",
       "              OrderedDict([('input_shape', [-1, 256, 16, 16]),\n",
       "                           ('output_shape', [-1, 256, 16, 16]),\n",
       "                           ('nb_params', 0)])),\n",
       "             ('BasicBlock-197',\n",
       "              OrderedDict([('input_shape', [-1, 256, 16, 16]),\n",
       "                           ('output_shape', [-1, 256, 16, 16]),\n",
       "                           ('nb_params', 0)])),\n",
       "             ('BasicBlock-198',\n",
       "              OrderedDict([('input_shape', [-1, 256, 16, 16]),\n",
       "                           ('output_shape', [-1, 256, 16, 16]),\n",
       "                           ('nb_params', 0)])),\n",
       "             ('Conv2d-199',\n",
       "              OrderedDict([('input_shape', [-1, 256, 16, 16]),\n",
       "                           ('output_shape', [-1, 512, 8, 8]),\n",
       "                           ('trainable', False),\n",
       "                           ('nb_params', 1179648)])),\n",
       "             ('Conv2d-200',\n",
       "              OrderedDict([('input_shape', [-1, 256, 16, 16]),\n",
       "                           ('output_shape', [-1, 512, 8, 8]),\n",
       "                           ('trainable', False),\n",
       "                           ('nb_params', 1179648)])),\n",
       "             ('BatchNorm2d-201',\n",
       "              OrderedDict([('input_shape', [-1, 512, 8, 8]),\n",
       "                           ('output_shape', [-1, 512, 8, 8]),\n",
       "                           ('trainable', False),\n",
       "                           ('nb_params', 1024)])),\n",
       "             ('BatchNorm2d-202',\n",
       "              OrderedDict([('input_shape', [-1, 512, 8, 8]),\n",
       "                           ('output_shape', [-1, 512, 8, 8]),\n",
       "                           ('trainable', False),\n",
       "                           ('nb_params', 1024)])),\n",
       "             ('ReLU-203',\n",
       "              OrderedDict([('input_shape', [-1, 512, 8, 8]),\n",
       "                           ('output_shape', [-1, 512, 8, 8]),\n",
       "                           ('nb_params', 0)])),\n",
       "             ('ReLU-204',\n",
       "              OrderedDict([('input_shape', [-1, 512, 8, 8]),\n",
       "                           ('output_shape', [-1, 512, 8, 8]),\n",
       "                           ('nb_params', 0)])),\n",
       "             ('Conv2d-205',\n",
       "              OrderedDict([('input_shape', [-1, 512, 8, 8]),\n",
       "                           ('output_shape', [-1, 512, 8, 8]),\n",
       "                           ('trainable', False),\n",
       "                           ('nb_params', 2359296)])),\n",
       "             ('Conv2d-206',\n",
       "              OrderedDict([('input_shape', [-1, 512, 8, 8]),\n",
       "                           ('output_shape', [-1, 512, 8, 8]),\n",
       "                           ('trainable', False),\n",
       "                           ('nb_params', 2359296)])),\n",
       "             ('BatchNorm2d-207',\n",
       "              OrderedDict([('input_shape', [-1, 512, 8, 8]),\n",
       "                           ('output_shape', [-1, 512, 8, 8]),\n",
       "                           ('trainable', False),\n",
       "                           ('nb_params', 1024)])),\n",
       "             ('BatchNorm2d-208',\n",
       "              OrderedDict([('input_shape', [-1, 512, 8, 8]),\n",
       "                           ('output_shape', [-1, 512, 8, 8]),\n",
       "                           ('trainable', False),\n",
       "                           ('nb_params', 1024)])),\n",
       "             ('Conv2d-209',\n",
       "              OrderedDict([('input_shape', [-1, 256, 16, 16]),\n",
       "                           ('output_shape', [-1, 512, 8, 8]),\n",
       "                           ('trainable', False),\n",
       "                           ('nb_params', 131072)])),\n",
       "             ('Conv2d-210',\n",
       "              OrderedDict([('input_shape', [-1, 256, 16, 16]),\n",
       "                           ('output_shape', [-1, 512, 8, 8]),\n",
       "                           ('trainable', False),\n",
       "                           ('nb_params', 131072)])),\n",
       "             ('BatchNorm2d-211',\n",
       "              OrderedDict([('input_shape', [-1, 512, 8, 8]),\n",
       "                           ('output_shape', [-1, 512, 8, 8]),\n",
       "                           ('trainable', False),\n",
       "                           ('nb_params', 1024)])),\n",
       "             ('BatchNorm2d-212',\n",
       "              OrderedDict([('input_shape', [-1, 512, 8, 8]),\n",
       "                           ('output_shape', [-1, 512, 8, 8]),\n",
       "                           ('trainable', False),\n",
       "                           ('nb_params', 1024)])),\n",
       "             ('ReLU-213',\n",
       "              OrderedDict([('input_shape', [-1, 512, 8, 8]),\n",
       "                           ('output_shape', [-1, 512, 8, 8]),\n",
       "                           ('nb_params', 0)])),\n",
       "             ('ReLU-214',\n",
       "              OrderedDict([('input_shape', [-1, 512, 8, 8]),\n",
       "                           ('output_shape', [-1, 512, 8, 8]),\n",
       "                           ('nb_params', 0)])),\n",
       "             ('BasicBlock-215',\n",
       "              OrderedDict([('input_shape', [-1, 256, 16, 16]),\n",
       "                           ('output_shape', [-1, 512, 8, 8]),\n",
       "                           ('nb_params', 0)])),\n",
       "             ('BasicBlock-216',\n",
       "              OrderedDict([('input_shape', [-1, 256, 16, 16]),\n",
       "                           ('output_shape', [-1, 512, 8, 8]),\n",
       "                           ('nb_params', 0)])),\n",
       "             ('Conv2d-217',\n",
       "              OrderedDict([('input_shape', [-1, 512, 8, 8]),\n",
       "                           ('output_shape', [-1, 512, 8, 8]),\n",
       "                           ('trainable', False),\n",
       "                           ('nb_params', 2359296)])),\n",
       "             ('Conv2d-218',\n",
       "              OrderedDict([('input_shape', [-1, 512, 8, 8]),\n",
       "                           ('output_shape', [-1, 512, 8, 8]),\n",
       "                           ('trainable', False),\n",
       "                           ('nb_params', 2359296)])),\n",
       "             ('BatchNorm2d-219',\n",
       "              OrderedDict([('input_shape', [-1, 512, 8, 8]),\n",
       "                           ('output_shape', [-1, 512, 8, 8]),\n",
       "                           ('trainable', False),\n",
       "                           ('nb_params', 1024)])),\n",
       "             ('BatchNorm2d-220',\n",
       "              OrderedDict([('input_shape', [-1, 512, 8, 8]),\n",
       "                           ('output_shape', [-1, 512, 8, 8]),\n",
       "                           ('trainable', False),\n",
       "                           ('nb_params', 1024)])),\n",
       "             ('ReLU-221',\n",
       "              OrderedDict([('input_shape', [-1, 512, 8, 8]),\n",
       "                           ('output_shape', [-1, 512, 8, 8]),\n",
       "                           ('nb_params', 0)])),\n",
       "             ('ReLU-222',\n",
       "              OrderedDict([('input_shape', [-1, 512, 8, 8]),\n",
       "                           ('output_shape', [-1, 512, 8, 8]),\n",
       "                           ('nb_params', 0)])),\n",
       "             ('Conv2d-223',\n",
       "              OrderedDict([('input_shape', [-1, 512, 8, 8]),\n",
       "                           ('output_shape', [-1, 512, 8, 8]),\n",
       "                           ('trainable', False),\n",
       "                           ('nb_params', 2359296)])),\n",
       "             ('Conv2d-224',\n",
       "              OrderedDict([('input_shape', [-1, 512, 8, 8]),\n",
       "                           ('output_shape', [-1, 512, 8, 8]),\n",
       "                           ('trainable', False),\n",
       "                           ('nb_params', 2359296)])),\n",
       "             ('BatchNorm2d-225',\n",
       "              OrderedDict([('input_shape', [-1, 512, 8, 8]),\n",
       "                           ('output_shape', [-1, 512, 8, 8]),\n",
       "                           ('trainable', False),\n",
       "                           ('nb_params', 1024)])),\n",
       "             ('BatchNorm2d-226',\n",
       "              OrderedDict([('input_shape', [-1, 512, 8, 8]),\n",
       "                           ('output_shape', [-1, 512, 8, 8]),\n",
       "                           ('trainable', False),\n",
       "                           ('nb_params', 1024)])),\n",
       "             ('ReLU-227',\n",
       "              OrderedDict([('input_shape', [-1, 512, 8, 8]),\n",
       "                           ('output_shape', [-1, 512, 8, 8]),\n",
       "                           ('nb_params', 0)])),\n",
       "             ('ReLU-228',\n",
       "              OrderedDict([('input_shape', [-1, 512, 8, 8]),\n",
       "                           ('output_shape', [-1, 512, 8, 8]),\n",
       "                           ('nb_params', 0)])),\n",
       "             ('BasicBlock-229',\n",
       "              OrderedDict([('input_shape', [-1, 512, 8, 8]),\n",
       "                           ('output_shape', [-1, 512, 8, 8]),\n",
       "                           ('nb_params', 0)])),\n",
       "             ('BasicBlock-230',\n",
       "              OrderedDict([('input_shape', [-1, 512, 8, 8]),\n",
       "                           ('output_shape', [-1, 512, 8, 8]),\n",
       "                           ('nb_params', 0)])),\n",
       "             ('Conv2d-231',\n",
       "              OrderedDict([('input_shape', [-1, 512, 8, 8]),\n",
       "                           ('output_shape', [-1, 512, 8, 8]),\n",
       "                           ('trainable', False),\n",
       "                           ('nb_params', 2359296)])),\n",
       "             ('Conv2d-232',\n",
       "              OrderedDict([('input_shape', [-1, 512, 8, 8]),\n",
       "                           ('output_shape', [-1, 512, 8, 8]),\n",
       "                           ('trainable', False),\n",
       "                           ('nb_params', 2359296)])),\n",
       "             ('BatchNorm2d-233',\n",
       "              OrderedDict([('input_shape', [-1, 512, 8, 8]),\n",
       "                           ('output_shape', [-1, 512, 8, 8]),\n",
       "                           ('trainable', False),\n",
       "                           ('nb_params', 1024)])),\n",
       "             ('BatchNorm2d-234',\n",
       "              OrderedDict([('input_shape', [-1, 512, 8, 8]),\n",
       "                           ('output_shape', [-1, 512, 8, 8]),\n",
       "                           ('trainable', False),\n",
       "                           ('nb_params', 1024)])),\n",
       "             ('ReLU-235',\n",
       "              OrderedDict([('input_shape', [-1, 512, 8, 8]),\n",
       "                           ('output_shape', [-1, 512, 8, 8]),\n",
       "                           ('nb_params', 0)])),\n",
       "             ('ReLU-236',\n",
       "              OrderedDict([('input_shape', [-1, 512, 8, 8]),\n",
       "                           ('output_shape', [-1, 512, 8, 8]),\n",
       "                           ('nb_params', 0)])),\n",
       "             ('Conv2d-237',\n",
       "              OrderedDict([('input_shape', [-1, 512, 8, 8]),\n",
       "                           ('output_shape', [-1, 512, 8, 8]),\n",
       "                           ('trainable', False),\n",
       "                           ('nb_params', 2359296)])),\n",
       "             ('Conv2d-238',\n",
       "              OrderedDict([('input_shape', [-1, 512, 8, 8]),\n",
       "                           ('output_shape', [-1, 512, 8, 8]),\n",
       "                           ('trainable', False),\n",
       "                           ('nb_params', 2359296)])),\n",
       "             ('BatchNorm2d-239',\n",
       "              OrderedDict([('input_shape', [-1, 512, 8, 8]),\n",
       "                           ('output_shape', [-1, 512, 8, 8]),\n",
       "                           ('trainable', False),\n",
       "                           ('nb_params', 1024)])),\n",
       "             ('BatchNorm2d-240',\n",
       "              OrderedDict([('input_shape', [-1, 512, 8, 8]),\n",
       "                           ('output_shape', [-1, 512, 8, 8]),\n",
       "                           ('trainable', False),\n",
       "                           ('nb_params', 1024)])),\n",
       "             ('ReLU-241',\n",
       "              OrderedDict([('input_shape', [-1, 512, 8, 8]),\n",
       "                           ('output_shape', [-1, 512, 8, 8]),\n",
       "                           ('nb_params', 0)])),\n",
       "             ('ReLU-242',\n",
       "              OrderedDict([('input_shape', [-1, 512, 8, 8]),\n",
       "                           ('output_shape', [-1, 512, 8, 8]),\n",
       "                           ('nb_params', 0)])),\n",
       "             ('BasicBlock-243',\n",
       "              OrderedDict([('input_shape', [-1, 512, 8, 8]),\n",
       "                           ('output_shape', [-1, 512, 8, 8]),\n",
       "                           ('nb_params', 0)])),\n",
       "             ('BasicBlock-244',\n",
       "              OrderedDict([('input_shape', [-1, 512, 8, 8]),\n",
       "                           ('output_shape', [-1, 512, 8, 8]),\n",
       "                           ('nb_params', 0)])),\n",
       "             ('ReLU-245',\n",
       "              OrderedDict([('input_shape', [-1, 512, 8, 8]),\n",
       "                           ('output_shape', [-1, 512, 8, 8]),\n",
       "                           ('nb_params', 0)])),\n",
       "             ('ConvTranspose2d-246',\n",
       "              OrderedDict([('input_shape', [-1, 512, 8, 8]),\n",
       "                           ('output_shape', [-1, 256, 16, 16]),\n",
       "                           ('trainable', True),\n",
       "                           ('nb_params', 524544)])),\n",
       "             ('BatchNorm2d-247',\n",
       "              OrderedDict([('input_shape', [-1, 256, 16, 16]),\n",
       "                           ('output_shape', [-1, 256, 16, 16]),\n",
       "                           ('trainable', True),\n",
       "                           ('nb_params', 512)])),\n",
       "             ('StdUpsample-248',\n",
       "              OrderedDict([('input_shape', [-1, 512, 8, 8]),\n",
       "                           ('output_shape', [-1, 256, 16, 16]),\n",
       "                           ('nb_params', 0)])),\n",
       "             ('ConvTranspose2d-249',\n",
       "              OrderedDict([('input_shape', [-1, 256, 16, 16]),\n",
       "                           ('output_shape', [-1, 256, 32, 32]),\n",
       "                           ('trainable', True),\n",
       "                           ('nb_params', 262400)])),\n",
       "             ('BatchNorm2d-250',\n",
       "              OrderedDict([('input_shape', [-1, 256, 32, 32]),\n",
       "                           ('output_shape', [-1, 256, 32, 32]),\n",
       "                           ('trainable', True),\n",
       "                           ('nb_params', 512)])),\n",
       "             ('StdUpsample-251',\n",
       "              OrderedDict([('input_shape', [-1, 256, 16, 16]),\n",
       "                           ('output_shape', [-1, 256, 32, 32]),\n",
       "                           ('nb_params', 0)])),\n",
       "             ('ConvTranspose2d-252',\n",
       "              OrderedDict([('input_shape', [-1, 256, 32, 32]),\n",
       "                           ('output_shape', [-1, 256, 64, 64]),\n",
       "                           ('trainable', True),\n",
       "                           ('nb_params', 262400)])),\n",
       "             ('BatchNorm2d-253',\n",
       "              OrderedDict([('input_shape', [-1, 256, 64, 64]),\n",
       "                           ('output_shape', [-1, 256, 64, 64]),\n",
       "                           ('trainable', True),\n",
       "                           ('nb_params', 512)])),\n",
       "             ('StdUpsample-254',\n",
       "              OrderedDict([('input_shape', [-1, 256, 32, 32]),\n",
       "                           ('output_shape', [-1, 256, 64, 64]),\n",
       "                           ('nb_params', 0)])),\n",
       "             ('ConvTranspose2d-255',\n",
       "              OrderedDict([('input_shape', [-1, 256, 64, 64]),\n",
       "                           ('output_shape', [-1, 256, 128, 128]),\n",
       "                           ('trainable', True),\n",
       "                           ('nb_params', 262400)])),\n",
       "             ('BatchNorm2d-256',\n",
       "              OrderedDict([('input_shape', [-1, 256, 128, 128]),\n",
       "                           ('output_shape', [-1, 256, 128, 128]),\n",
       "                           ('trainable', True),\n",
       "                           ('nb_params', 512)])),\n",
       "             ('StdUpsample-257',\n",
       "              OrderedDict([('input_shape', [-1, 256, 64, 64]),\n",
       "                           ('output_shape', [-1, 256, 128, 128]),\n",
       "                           ('nb_params', 0)])),\n",
       "             ('ConvTranspose2d-258',\n",
       "              OrderedDict([('input_shape', [-1, 256, 128, 128]),\n",
       "                           ('output_shape', [-1, 1, 256, 256]),\n",
       "                           ('trainable', True),\n",
       "                           ('nb_params', 1025)]))])"
      ]
     },
     "execution_count": 219,
     "metadata": {},
     "output_type": "execute_result"
    }
   ],
   "source": [
    "learn.summary()"
   ]
  },
  {
   "cell_type": "code",
   "execution_count": 220,
   "metadata": {},
   "outputs": [],
   "source": [
    "learn.freeze_to(1)"
   ]
  },
  {
   "cell_type": "code",
   "execution_count": 221,
   "metadata": {},
   "outputs": [
    {
     "data": {
      "application/vnd.jupyter.widget-view+json": {
       "model_id": "3efbd388d5e24f9fba7895cee344b957",
       "version_major": 2,
       "version_minor": 0
      },
      "text/plain": [
       "HBox(children=(IntProgress(value=0, description='Epoch', max=1), HTML(value='')))"
      ]
     },
     "metadata": {},
     "output_type": "display_data"
    },
    {
     "name": "stdout",
     "output_type": "stream",
     "text": [
      "  0%|          | 0/15 [00:00<?, ?it/s]\n"
     ]
    },
    {
     "ename": "ValueError",
     "evalue": "Target size (torch.Size([64, 3, 256, 256])) must be the same as input size (torch.Size([64, 256, 256]))",
     "output_type": "error",
     "traceback": [
      "\u001b[0;31m---------------------------------------------------------------------------\u001b[0m",
      "\u001b[0;31mValueError\u001b[0m                                Traceback (most recent call last)",
      "\u001b[0;32m<ipython-input-221-02ca863ce486>\u001b[0m in \u001b[0;36m<module>\u001b[0;34m()\u001b[0m\n\u001b[0;32m----> 1\u001b[0;31m \u001b[0mlearn\u001b[0m\u001b[0;34m.\u001b[0m\u001b[0mlr_find\u001b[0m\u001b[0;34m(\u001b[0m\u001b[0;34m)\u001b[0m\u001b[0;34m\u001b[0m\u001b[0m\n\u001b[0m\u001b[1;32m      2\u001b[0m \u001b[0mlearn\u001b[0m\u001b[0;34m.\u001b[0m\u001b[0msched\u001b[0m\u001b[0;34m.\u001b[0m\u001b[0mplot\u001b[0m\u001b[0;34m(\u001b[0m\u001b[0;34m)\u001b[0m\u001b[0;34m\u001b[0m\u001b[0m\n",
      "\u001b[0;32m~/anaconda3/envs/lyft/lib/python3.6/site-packages/fastai/learner.py\u001b[0m in \u001b[0;36mlr_find\u001b[0;34m(self, start_lr, end_lr, wds, linear, **kwargs)\u001b[0m\n\u001b[1;32m    328\u001b[0m         \u001b[0mlayer_opt\u001b[0m \u001b[0;34m=\u001b[0m \u001b[0mself\u001b[0m\u001b[0;34m.\u001b[0m\u001b[0mget_layer_opt\u001b[0m\u001b[0;34m(\u001b[0m\u001b[0mstart_lr\u001b[0m\u001b[0;34m,\u001b[0m \u001b[0mwds\u001b[0m\u001b[0;34m)\u001b[0m\u001b[0;34m\u001b[0m\u001b[0m\n\u001b[1;32m    329\u001b[0m         \u001b[0mself\u001b[0m\u001b[0;34m.\u001b[0m\u001b[0msched\u001b[0m \u001b[0;34m=\u001b[0m \u001b[0mLR_Finder\u001b[0m\u001b[0;34m(\u001b[0m\u001b[0mlayer_opt\u001b[0m\u001b[0;34m,\u001b[0m \u001b[0mlen\u001b[0m\u001b[0;34m(\u001b[0m\u001b[0mself\u001b[0m\u001b[0;34m.\u001b[0m\u001b[0mdata\u001b[0m\u001b[0;34m.\u001b[0m\u001b[0mtrn_dl\u001b[0m\u001b[0;34m)\u001b[0m\u001b[0;34m,\u001b[0m \u001b[0mend_lr\u001b[0m\u001b[0;34m,\u001b[0m \u001b[0mlinear\u001b[0m\u001b[0;34m=\u001b[0m\u001b[0mlinear\u001b[0m\u001b[0;34m)\u001b[0m\u001b[0;34m\u001b[0m\u001b[0m\n\u001b[0;32m--> 330\u001b[0;31m         \u001b[0mself\u001b[0m\u001b[0;34m.\u001b[0m\u001b[0mfit_gen\u001b[0m\u001b[0;34m(\u001b[0m\u001b[0mself\u001b[0m\u001b[0;34m.\u001b[0m\u001b[0mmodel\u001b[0m\u001b[0;34m,\u001b[0m \u001b[0mself\u001b[0m\u001b[0;34m.\u001b[0m\u001b[0mdata\u001b[0m\u001b[0;34m,\u001b[0m \u001b[0mlayer_opt\u001b[0m\u001b[0;34m,\u001b[0m \u001b[0;36m1\u001b[0m\u001b[0;34m,\u001b[0m \u001b[0;34m**\u001b[0m\u001b[0mkwargs\u001b[0m\u001b[0;34m)\u001b[0m\u001b[0;34m\u001b[0m\u001b[0m\n\u001b[0m\u001b[1;32m    331\u001b[0m         \u001b[0mself\u001b[0m\u001b[0;34m.\u001b[0m\u001b[0mload\u001b[0m\u001b[0;34m(\u001b[0m\u001b[0;34m'tmp'\u001b[0m\u001b[0;34m)\u001b[0m\u001b[0;34m\u001b[0m\u001b[0m\n\u001b[1;32m    332\u001b[0m \u001b[0;34m\u001b[0m\u001b[0m\n",
      "\u001b[0;32m~/anaconda3/envs/lyft/lib/python3.6/site-packages/fastai/learner.py\u001b[0m in \u001b[0;36mfit_gen\u001b[0;34m(self, model, data, layer_opt, n_cycle, cycle_len, cycle_mult, cycle_save_name, best_save_name, use_clr, use_clr_beta, metrics, callbacks, use_wd_sched, norm_wds, wds_sched_mult, use_swa, swa_start, swa_eval_freq, **kwargs)\u001b[0m\n\u001b[1;32m    232\u001b[0m             \u001b[0mmetrics\u001b[0m\u001b[0;34m=\u001b[0m\u001b[0mmetrics\u001b[0m\u001b[0;34m,\u001b[0m \u001b[0mcallbacks\u001b[0m\u001b[0;34m=\u001b[0m\u001b[0mcallbacks\u001b[0m\u001b[0;34m,\u001b[0m \u001b[0mreg_fn\u001b[0m\u001b[0;34m=\u001b[0m\u001b[0mself\u001b[0m\u001b[0;34m.\u001b[0m\u001b[0mreg_fn\u001b[0m\u001b[0;34m,\u001b[0m \u001b[0mclip\u001b[0m\u001b[0;34m=\u001b[0m\u001b[0mself\u001b[0m\u001b[0;34m.\u001b[0m\u001b[0mclip\u001b[0m\u001b[0;34m,\u001b[0m \u001b[0mfp16\u001b[0m\u001b[0;34m=\u001b[0m\u001b[0mself\u001b[0m\u001b[0;34m.\u001b[0m\u001b[0mfp16\u001b[0m\u001b[0;34m,\u001b[0m\u001b[0;34m\u001b[0m\u001b[0m\n\u001b[1;32m    233\u001b[0m             \u001b[0mswa_model\u001b[0m\u001b[0;34m=\u001b[0m\u001b[0mself\u001b[0m\u001b[0;34m.\u001b[0m\u001b[0mswa_model\u001b[0m \u001b[0;32mif\u001b[0m \u001b[0muse_swa\u001b[0m \u001b[0;32melse\u001b[0m \u001b[0;32mNone\u001b[0m\u001b[0;34m,\u001b[0m \u001b[0mswa_start\u001b[0m\u001b[0;34m=\u001b[0m\u001b[0mswa_start\u001b[0m\u001b[0;34m,\u001b[0m\u001b[0;34m\u001b[0m\u001b[0m\n\u001b[0;32m--> 234\u001b[0;31m             swa_eval_freq=swa_eval_freq, **kwargs)\n\u001b[0m\u001b[1;32m    235\u001b[0m \u001b[0;34m\u001b[0m\u001b[0m\n\u001b[1;32m    236\u001b[0m     \u001b[0;32mdef\u001b[0m \u001b[0mget_layer_groups\u001b[0m\u001b[0;34m(\u001b[0m\u001b[0mself\u001b[0m\u001b[0;34m)\u001b[0m\u001b[0;34m:\u001b[0m \u001b[0;32mreturn\u001b[0m \u001b[0mself\u001b[0m\u001b[0;34m.\u001b[0m\u001b[0mmodels\u001b[0m\u001b[0;34m.\u001b[0m\u001b[0mget_layer_groups\u001b[0m\u001b[0;34m(\u001b[0m\u001b[0;34m)\u001b[0m\u001b[0;34m\u001b[0m\u001b[0m\n",
      "\u001b[0;32m~/anaconda3/envs/lyft/lib/python3.6/site-packages/fastai/model.py\u001b[0m in \u001b[0;36mfit\u001b[0;34m(model, data, n_epochs, opt, crit, metrics, callbacks, stepper, swa_model, swa_start, swa_eval_freq, **kwargs)\u001b[0m\n\u001b[1;32m    127\u001b[0m             \u001b[0mbatch_num\u001b[0m \u001b[0;34m+=\u001b[0m \u001b[0;36m1\u001b[0m\u001b[0;34m\u001b[0m\u001b[0m\n\u001b[1;32m    128\u001b[0m             \u001b[0;32mfor\u001b[0m \u001b[0mcb\u001b[0m \u001b[0;32min\u001b[0m \u001b[0mcallbacks\u001b[0m\u001b[0;34m:\u001b[0m \u001b[0mcb\u001b[0m\u001b[0;34m.\u001b[0m\u001b[0mon_batch_begin\u001b[0m\u001b[0;34m(\u001b[0m\u001b[0;34m)\u001b[0m\u001b[0;34m\u001b[0m\u001b[0m\n\u001b[0;32m--> 129\u001b[0;31m             \u001b[0mloss\u001b[0m \u001b[0;34m=\u001b[0m \u001b[0mmodel_stepper\u001b[0m\u001b[0;34m.\u001b[0m\u001b[0mstep\u001b[0m\u001b[0;34m(\u001b[0m\u001b[0mV\u001b[0m\u001b[0;34m(\u001b[0m\u001b[0mx\u001b[0m\u001b[0;34m)\u001b[0m\u001b[0;34m,\u001b[0m\u001b[0mV\u001b[0m\u001b[0;34m(\u001b[0m\u001b[0my\u001b[0m\u001b[0;34m)\u001b[0m\u001b[0;34m,\u001b[0m \u001b[0mepoch\u001b[0m\u001b[0;34m)\u001b[0m\u001b[0;34m\u001b[0m\u001b[0m\n\u001b[0m\u001b[1;32m    130\u001b[0m             \u001b[0mavg_loss\u001b[0m \u001b[0;34m=\u001b[0m \u001b[0mavg_loss\u001b[0m \u001b[0;34m*\u001b[0m \u001b[0mavg_mom\u001b[0m \u001b[0;34m+\u001b[0m \u001b[0mloss\u001b[0m \u001b[0;34m*\u001b[0m \u001b[0;34m(\u001b[0m\u001b[0;36m1\u001b[0m\u001b[0;34m-\u001b[0m\u001b[0mavg_mom\u001b[0m\u001b[0;34m)\u001b[0m\u001b[0;34m\u001b[0m\u001b[0m\n\u001b[1;32m    131\u001b[0m             \u001b[0mdebias_loss\u001b[0m \u001b[0;34m=\u001b[0m \u001b[0mavg_loss\u001b[0m \u001b[0;34m/\u001b[0m \u001b[0;34m(\u001b[0m\u001b[0;36m1\u001b[0m \u001b[0;34m-\u001b[0m \u001b[0mavg_mom\u001b[0m\u001b[0;34m**\u001b[0m\u001b[0mbatch_num\u001b[0m\u001b[0;34m)\u001b[0m\u001b[0;34m\u001b[0m\u001b[0m\n",
      "\u001b[0;32m~/anaconda3/envs/lyft/lib/python3.6/site-packages/fastai/model.py\u001b[0m in \u001b[0;36mstep\u001b[0;34m(self, xs, y, epoch)\u001b[0m\n\u001b[1;32m     50\u001b[0m         \u001b[0;32mif\u001b[0m \u001b[0mself\u001b[0m\u001b[0;34m.\u001b[0m\u001b[0mfp16\u001b[0m\u001b[0;34m:\u001b[0m \u001b[0mself\u001b[0m\u001b[0;34m.\u001b[0m\u001b[0mm\u001b[0m\u001b[0;34m.\u001b[0m\u001b[0mzero_grad\u001b[0m\u001b[0;34m(\u001b[0m\u001b[0;34m)\u001b[0m\u001b[0;34m\u001b[0m\u001b[0m\n\u001b[1;32m     51\u001b[0m         \u001b[0;32melse\u001b[0m\u001b[0;34m:\u001b[0m \u001b[0mself\u001b[0m\u001b[0;34m.\u001b[0m\u001b[0mopt\u001b[0m\u001b[0;34m.\u001b[0m\u001b[0mzero_grad\u001b[0m\u001b[0;34m(\u001b[0m\u001b[0;34m)\u001b[0m\u001b[0;34m\u001b[0m\u001b[0m\n\u001b[0;32m---> 52\u001b[0;31m         \u001b[0mloss\u001b[0m \u001b[0;34m=\u001b[0m \u001b[0mraw_loss\u001b[0m \u001b[0;34m=\u001b[0m \u001b[0mself\u001b[0m\u001b[0;34m.\u001b[0m\u001b[0mcrit\u001b[0m\u001b[0;34m(\u001b[0m\u001b[0moutput\u001b[0m\u001b[0;34m,\u001b[0m \u001b[0my\u001b[0m\u001b[0;34m)\u001b[0m\u001b[0;34m\u001b[0m\u001b[0m\n\u001b[0m\u001b[1;32m     53\u001b[0m         \u001b[0;32mif\u001b[0m \u001b[0mself\u001b[0m\u001b[0;34m.\u001b[0m\u001b[0mloss_scale\u001b[0m \u001b[0;34m!=\u001b[0m \u001b[0;36m1\u001b[0m\u001b[0;34m:\u001b[0m \u001b[0;32massert\u001b[0m\u001b[0;34m(\u001b[0m\u001b[0mself\u001b[0m\u001b[0;34m.\u001b[0m\u001b[0mfp16\u001b[0m\u001b[0;34m)\u001b[0m\u001b[0;34m;\u001b[0m \u001b[0mloss\u001b[0m \u001b[0;34m=\u001b[0m \u001b[0mloss\u001b[0m\u001b[0;34m*\u001b[0m\u001b[0mself\u001b[0m\u001b[0;34m.\u001b[0m\u001b[0mloss_scale\u001b[0m\u001b[0;34m\u001b[0m\u001b[0m\n\u001b[1;32m     54\u001b[0m         \u001b[0;32mif\u001b[0m \u001b[0mself\u001b[0m\u001b[0;34m.\u001b[0m\u001b[0mreg_fn\u001b[0m\u001b[0;34m:\u001b[0m \u001b[0mloss\u001b[0m \u001b[0;34m=\u001b[0m \u001b[0mself\u001b[0m\u001b[0;34m.\u001b[0m\u001b[0mreg_fn\u001b[0m\u001b[0;34m(\u001b[0m\u001b[0moutput\u001b[0m\u001b[0;34m,\u001b[0m \u001b[0mxtra\u001b[0m\u001b[0;34m,\u001b[0m \u001b[0mraw_loss\u001b[0m\u001b[0;34m)\u001b[0m\u001b[0;34m\u001b[0m\u001b[0m\n",
      "\u001b[0;32m~/anaconda3/envs/lyft/lib/python3.6/site-packages/torch/nn/modules/module.py\u001b[0m in \u001b[0;36m__call__\u001b[0;34m(self, *input, **kwargs)\u001b[0m\n\u001b[1;32m    355\u001b[0m             \u001b[0mresult\u001b[0m \u001b[0;34m=\u001b[0m \u001b[0mself\u001b[0m\u001b[0;34m.\u001b[0m\u001b[0m_slow_forward\u001b[0m\u001b[0;34m(\u001b[0m\u001b[0;34m*\u001b[0m\u001b[0minput\u001b[0m\u001b[0;34m,\u001b[0m \u001b[0;34m**\u001b[0m\u001b[0mkwargs\u001b[0m\u001b[0;34m)\u001b[0m\u001b[0;34m\u001b[0m\u001b[0m\n\u001b[1;32m    356\u001b[0m         \u001b[0;32melse\u001b[0m\u001b[0;34m:\u001b[0m\u001b[0;34m\u001b[0m\u001b[0m\n\u001b[0;32m--> 357\u001b[0;31m             \u001b[0mresult\u001b[0m \u001b[0;34m=\u001b[0m \u001b[0mself\u001b[0m\u001b[0;34m.\u001b[0m\u001b[0mforward\u001b[0m\u001b[0;34m(\u001b[0m\u001b[0;34m*\u001b[0m\u001b[0minput\u001b[0m\u001b[0;34m,\u001b[0m \u001b[0;34m**\u001b[0m\u001b[0mkwargs\u001b[0m\u001b[0;34m)\u001b[0m\u001b[0;34m\u001b[0m\u001b[0m\n\u001b[0m\u001b[1;32m    358\u001b[0m         \u001b[0;32mfor\u001b[0m \u001b[0mhook\u001b[0m \u001b[0;32min\u001b[0m \u001b[0mself\u001b[0m\u001b[0;34m.\u001b[0m\u001b[0m_forward_hooks\u001b[0m\u001b[0;34m.\u001b[0m\u001b[0mvalues\u001b[0m\u001b[0;34m(\u001b[0m\u001b[0;34m)\u001b[0m\u001b[0;34m:\u001b[0m\u001b[0;34m\u001b[0m\u001b[0m\n\u001b[1;32m    359\u001b[0m             \u001b[0mhook_result\u001b[0m \u001b[0;34m=\u001b[0m \u001b[0mhook\u001b[0m\u001b[0;34m(\u001b[0m\u001b[0mself\u001b[0m\u001b[0;34m,\u001b[0m \u001b[0minput\u001b[0m\u001b[0;34m,\u001b[0m \u001b[0mresult\u001b[0m\u001b[0;34m)\u001b[0m\u001b[0;34m\u001b[0m\u001b[0m\n",
      "\u001b[0;32m~/anaconda3/envs/lyft/lib/python3.6/site-packages/torch/nn/modules/loss.py\u001b[0m in \u001b[0;36mforward\u001b[0;34m(self, input, target)\u001b[0m\n\u001b[1;32m    487\u001b[0m             \u001b[0;32mreturn\u001b[0m \u001b[0mF\u001b[0m\u001b[0;34m.\u001b[0m\u001b[0mbinary_cross_entropy_with_logits\u001b[0m\u001b[0;34m(\u001b[0m\u001b[0minput\u001b[0m\u001b[0;34m,\u001b[0m \u001b[0mtarget\u001b[0m\u001b[0;34m,\u001b[0m \u001b[0mVariable\u001b[0m\u001b[0;34m(\u001b[0m\u001b[0mself\u001b[0m\u001b[0;34m.\u001b[0m\u001b[0mweight\u001b[0m\u001b[0;34m)\u001b[0m\u001b[0;34m,\u001b[0m \u001b[0mself\u001b[0m\u001b[0;34m.\u001b[0m\u001b[0msize_average\u001b[0m\u001b[0;34m)\u001b[0m\u001b[0;34m\u001b[0m\u001b[0m\n\u001b[1;32m    488\u001b[0m         \u001b[0;32melse\u001b[0m\u001b[0;34m:\u001b[0m\u001b[0;34m\u001b[0m\u001b[0m\n\u001b[0;32m--> 489\u001b[0;31m             \u001b[0;32mreturn\u001b[0m \u001b[0mF\u001b[0m\u001b[0;34m.\u001b[0m\u001b[0mbinary_cross_entropy_with_logits\u001b[0m\u001b[0;34m(\u001b[0m\u001b[0minput\u001b[0m\u001b[0;34m,\u001b[0m \u001b[0mtarget\u001b[0m\u001b[0;34m,\u001b[0m \u001b[0msize_average\u001b[0m\u001b[0;34m=\u001b[0m\u001b[0mself\u001b[0m\u001b[0;34m.\u001b[0m\u001b[0msize_average\u001b[0m\u001b[0;34m)\u001b[0m\u001b[0;34m\u001b[0m\u001b[0m\n\u001b[0m\u001b[1;32m    490\u001b[0m \u001b[0;34m\u001b[0m\u001b[0m\n\u001b[1;32m    491\u001b[0m \u001b[0;34m\u001b[0m\u001b[0m\n",
      "\u001b[0;32m~/anaconda3/envs/lyft/lib/python3.6/site-packages/torch/nn/functional.py\u001b[0m in \u001b[0;36mbinary_cross_entropy_with_logits\u001b[0;34m(input, target, weight, size_average)\u001b[0m\n\u001b[1;32m   1225\u001b[0m     \"\"\"\n\u001b[1;32m   1226\u001b[0m     \u001b[0;32mif\u001b[0m \u001b[0;32mnot\u001b[0m \u001b[0;34m(\u001b[0m\u001b[0mtarget\u001b[0m\u001b[0;34m.\u001b[0m\u001b[0msize\u001b[0m\u001b[0;34m(\u001b[0m\u001b[0;34m)\u001b[0m \u001b[0;34m==\u001b[0m \u001b[0minput\u001b[0m\u001b[0;34m.\u001b[0m\u001b[0msize\u001b[0m\u001b[0;34m(\u001b[0m\u001b[0;34m)\u001b[0m\u001b[0;34m)\u001b[0m\u001b[0;34m:\u001b[0m\u001b[0;34m\u001b[0m\u001b[0m\n\u001b[0;32m-> 1227\u001b[0;31m         \u001b[0;32mraise\u001b[0m \u001b[0mValueError\u001b[0m\u001b[0;34m(\u001b[0m\u001b[0;34m\"Target size ({}) must be the same as input size ({})\"\u001b[0m\u001b[0;34m.\u001b[0m\u001b[0mformat\u001b[0m\u001b[0;34m(\u001b[0m\u001b[0mtarget\u001b[0m\u001b[0;34m.\u001b[0m\u001b[0msize\u001b[0m\u001b[0;34m(\u001b[0m\u001b[0;34m)\u001b[0m\u001b[0;34m,\u001b[0m \u001b[0minput\u001b[0m\u001b[0;34m.\u001b[0m\u001b[0msize\u001b[0m\u001b[0;34m(\u001b[0m\u001b[0;34m)\u001b[0m\u001b[0;34m)\u001b[0m\u001b[0;34m)\u001b[0m\u001b[0;34m\u001b[0m\u001b[0m\n\u001b[0m\u001b[1;32m   1228\u001b[0m \u001b[0;34m\u001b[0m\u001b[0m\n\u001b[1;32m   1229\u001b[0m     \u001b[0mmax_val\u001b[0m \u001b[0;34m=\u001b[0m \u001b[0;34m(\u001b[0m\u001b[0;34m-\u001b[0m\u001b[0minput\u001b[0m\u001b[0;34m)\u001b[0m\u001b[0;34m.\u001b[0m\u001b[0mclamp\u001b[0m\u001b[0;34m(\u001b[0m\u001b[0mmin\u001b[0m\u001b[0;34m=\u001b[0m\u001b[0;36m0\u001b[0m\u001b[0;34m)\u001b[0m\u001b[0;34m\u001b[0m\u001b[0m\n",
      "\u001b[0;31mValueError\u001b[0m: Target size (torch.Size([64, 3, 256, 256])) must be the same as input size (torch.Size([64, 256, 256]))"
     ]
    }
   ],
   "source": [
    "learn.lr_find()\n",
    "learn.sched.plot()"
   ]
  },
  {
   "cell_type": "code",
   "execution_count": 82,
   "metadata": {},
   "outputs": [],
   "source": [
    "lr=4e-2\n",
    "wd=1e-7\n",
    "lrs = np.array([lr/100,lr/10,lr])/2"
   ]
  },
  {
   "cell_type": "code",
   "execution_count": 83,
   "metadata": {},
   "outputs": [
    {
     "data": {
      "application/vnd.jupyter.widget-view+json": {
       "model_id": "54dcd026aaa24bbfaf042d49ad071d3a",
       "version_major": 2,
       "version_minor": 0
      },
      "text/plain": [
       "HBox(children=(IntProgress(value=0, description='Epoch', max=4), HTML(value='')))"
      ]
     },
     "metadata": {},
     "output_type": "display_data"
    },
    {
     "name": "stdout",
     "output_type": "stream",
     "text": [
      "epoch      trn_loss   val_loss   <lambda>   dice           \n",
      "    0      0.389226   177.188503 0.191106   0.037023  \n",
      "    1      0.264491   0.353331   0.342328   0.007222       \n",
      "    2      0.20553    0.113036   0.344406   0.0            \n",
      "    3      0.167829   0.105428   0.344406   0.0            \n",
      "\n"
     ]
    },
    {
     "data": {
      "text/plain": [
       "[array([0.10543]), 0.3444055211544037, 0.0]"
      ]
     },
     "execution_count": 83,
     "metadata": {},
     "output_type": "execute_result"
    }
   ],
   "source": [
    "learn.fit(lr,1, wds=wd, cycle_len=4,use_clr=(20,8))"
   ]
  },
  {
   "cell_type": "code",
   "execution_count": 36,
   "metadata": {},
   "outputs": [],
   "source": [
    "learn.save('tmp')"
   ]
  },
  {
   "cell_type": "code",
   "execution_count": 27,
   "metadata": {},
   "outputs": [],
   "source": [
    "learn.load('tmp')"
   ]
  },
  {
   "cell_type": "code",
   "execution_count": null,
   "metadata": {},
   "outputs": [],
   "source": [
    "learn.unfreeze()\n",
    "learn.bn_freeze(True)"
   ]
  },
  {
   "cell_type": "code",
   "execution_count": 38,
   "metadata": {},
   "outputs": [
    {
     "data": {
      "application/vnd.jupyter.widget-view+json": {
       "model_id": "f8176783850a4cf48c3ba20494fac24e",
       "version_major": 2,
       "version_minor": 0
      },
      "text/plain": [
       "HBox(children=(IntProgress(value=0, description='Epoch', max=4), HTML(value='')))"
      ]
     },
     "metadata": {},
     "output_type": "display_data"
    },
    {
     "name": "stdout",
     "output_type": "stream",
     "text": [
      "epoch      trn_loss   val_loss   <lambda>   dice           \n",
      "    0      0.174897   0.061603   0.976321   0.94382   \n",
      "    1      0.122911   0.053625   0.982206   0.957624       \n",
      "    2      0.106837   0.046653   0.985577   0.965792       \n",
      "    3      0.099075   0.042291   0.986519   0.968925        \n",
      "\n"
     ]
    },
    {
     "data": {
      "text/plain": [
       "[0.042291240323157536, 0.986519161670927, 0.9689251193924556]"
      ]
     },
     "execution_count": 38,
     "metadata": {},
     "output_type": "execute_result"
    }
   ],
   "source": [
    "learn.fit(lrs,1,cycle_len=4,use_clr=(20,8))"
   ]
  },
  {
   "cell_type": "code",
   "execution_count": 39,
   "metadata": {},
   "outputs": [],
   "source": [
    "learn.save('128')"
   ]
  },
  {
   "cell_type": "code",
   "execution_count": 84,
   "metadata": {},
   "outputs": [],
   "source": [
    "x,y = next(iter(md.val_dl))\n",
    "py = to_np(learn.model(V(x)))"
   ]
  },
  {
   "cell_type": "code",
   "execution_count": 87,
   "metadata": {},
   "outputs": [
    {
     "data": {
      "image/png": "[encoded data removed]",
      "text/plain": [
       "<Figure size 432x288 with 1 Axes>"
      ]
     },
     "metadata": {},
     "output_type": "display_data"
    }
   ],
   "source": [
    "show_img(py[0]>0);"
   ]
  },
  {
   "cell_type": "code",
   "execution_count": 88,
   "metadata": {},
   "outputs": [
    {
     "data": {
      "image/png": "[encoded data removed]",
      "text/plain": [
       "<Figure size 432x288 with 1 Axes>"
      ]
     },
     "metadata": {},
     "output_type": "display_data"
    }
   ],
   "source": [
    "show_img(y[0]);"
   ]
  },
  {
   "cell_type": "markdown",
   "metadata": {},
   "source": [
    "## U-net (ish)"
   ]
  },
  {
   "cell_type": "code",
   "execution_count": 19,
   "metadata": {},
   "outputs": [],
   "source": [
    "class SaveFeatures():\n",
    "    features=None\n",
    "    def __init__(self, m): self.hook = m.register_forward_hook(self.hook_fn)\n",
    "    def hook_fn(self, module, input, output): self.features = output\n",
    "    def remove(self): self.hook.remove()"
   ]
  },
  {
   "cell_type": "code",
   "execution_count": 20,
   "metadata": {},
   "outputs": [],
   "source": [
    "class UnetBlock(nn.Module):\n",
    "    def __init__(self, up_in, x_in, n_out):\n",
    "        super().__init__()\n",
    "        up_out = x_out = n_out//2\n",
    "        self.x_conv  = nn.Conv2d(x_in,  x_out,  1)\n",
    "        self.tr_conv = nn.ConvTranspose2d(up_in, up_out, 2, stride=2)\n",
    "        self.bn = nn.BatchNorm2d(n_out)\n",
    "        \n",
    "    def forward(self, up_p, x_p):\n",
    "        up_p = self.tr_conv(up_p)\n",
    "        x_p = self.x_conv(x_p)\n",
    "        cat_p = torch.cat([up_p,x_p], dim=1)\n",
    "        return self.bn(F.relu(cat_p))"
   ]
  },
  {
   "cell_type": "code",
   "execution_count": 33,
   "metadata": {},
   "outputs": [],
   "source": [
    "class Unet34(nn.Module):\n",
    "    def __init__(self, rn):\n",
    "        super().__init__()\n",
    "        self.rn = rn\n",
    "        self.sfs = [SaveFeatures(rn[i]) for i in [2,4,5,6]]\n",
    "        self.up1 = UnetBlock(512,256,256)\n",
    "        self.up2 = UnetBlock(256,128,256)\n",
    "        self.up3 = UnetBlock(256,64,256)\n",
    "        self.up4 = UnetBlock(256,64,256)\n",
    "        self.up5 = UnetBlock(256,3,16)\n",
    "        self.up6 = nn.ConvTranspose2d(16, 1, 1)\n",
    "        \n",
    "    def forward(self,x):\n",
    "        inp = x\n",
    "        x = F.relu(self.rn(x))\n",
    "        x = self.up1(x, self.sfs[3].features)\n",
    "        x = self.up2(x, self.sfs[2].features)\n",
    "        x = self.up3(x, self.sfs[1].features)\n",
    "        x = self.up4(x, self.sfs[0].features)\n",
    "        x = self.up5(x, inp)\n",
    "        x = self.up6(x)\n",
    "        return x[:,0]\n",
    "    \n",
    "    def close(self):\n",
    "        for sf in self.sfs: sf.remove()"
   ]
  },
  {
   "cell_type": "code",
   "execution_count": 34,
   "metadata": {},
   "outputs": [],
   "source": [
    "class UnetModel():\n",
    "    def __init__(self,model,name='unet'):\n",
    "        self.model,self.name = model,name\n",
    "\n",
    "    def get_layer_groups(self, precompute):\n",
    "        lgs = list(split_by_idxs(children(self.model.rn), [lr_cut]))\n",
    "        return lgs + [children(self.model)[1:]]"
   ]
  },
  {
   "cell_type": "code",
   "execution_count": 30,
   "metadata": {},
   "outputs": [],
   "source": [
    "m_base = get_base()"
   ]
  },
  {
   "cell_type": "code",
   "execution_count": 31,
   "metadata": {},
   "outputs": [],
   "source": [
    "m = to_gpu(Unet34(m_base))\n",
    "models = UnetModel(m)"
   ]
  },
  {
   "cell_type": "code",
   "execution_count": 32,
   "metadata": {},
   "outputs": [],
   "source": [
    "learn = ConvLearner(md, models)\n",
    "learn.opt_fn=optim.Adam\n",
    "learn.crit=nn.BCEWithLogitsLoss()\n",
    "learn.metrics=[accuracy_thresh(0.5),dice]"
   ]
  },
  {
   "cell_type": "code",
   "execution_count": 34,
   "metadata": {},
   "outputs": [
    {
     "data": {
      "text/plain": [
       "[torch.Size([3, 64, 64, 64]),\n",
       " torch.Size([3, 64, 32, 32]),\n",
       " torch.Size([3, 128, 16, 16]),\n",
       " torch.Size([3, 256, 8, 8])]"
      ]
     },
     "execution_count": 34,
     "metadata": {},
     "output_type": "execute_result"
    }
   ],
   "source": [
    "[o.features.size() for o in m.sfs]"
   ]
  },
  {
   "cell_type": "code",
   "execution_count": 35,
   "metadata": {},
   "outputs": [],
   "source": [
    "learn.freeze_to(1)"
   ]
  },
  {
   "cell_type": "code",
   "execution_count": 90,
   "metadata": {},
   "outputs": [
    {
     "data": {
      "application/vnd.jupyter.widget-view+json": {
       "model_id": "e780adff2688489c9489dd8e03f9bb51",
       "version_major": 2,
       "version_minor": 0
      },
      "text/plain": [
       "HBox(children=(IntProgress(value=0, description='Epoch', max=1), HTML(value='')))"
      ]
     },
     "metadata": {},
     "output_type": "display_data"
    },
    {
     "name": "stdout",
     "output_type": "stream",
     "text": [
      "  9%|▉         | 6/64 [00:05<00:50,  1.14it/s, loss=0.669]\n",
      " 91%|█████████ | 58/64 [00:13<00:01,  4.39it/s, loss=1.57] "
     ]
    },
    {
     "data": {
      "image/png": "[encoded data removed]",
      "text/plain": [
       "<Figure size 432x288 with 1 Axes>"
      ]
     },
     "metadata": {},
     "output_type": "display_data"
    }
   ],
   "source": [
    "learn.lr_find()\n",
    "learn.sched.plot()"
   ]
  },
  {
   "cell_type": "code",
   "execution_count": null,
   "metadata": {},
   "outputs": [],
   "source": [
    "lr=4e-2\n",
    "wd=1e-7\n",
    "\n",
    "lrs = np.array([lr/200,lr/20,lr])/2"
   ]
  },
  {
   "cell_type": "code",
   "execution_count": 37,
   "metadata": {},
   "outputs": [
    {
     "data": {
      "application/vnd.jupyter.widget-view+json": {
       "model_id": "36115a7f3cf8435bb659daed3ae54a6c",
       "version_major": 2,
       "version_minor": 0
      },
      "text/plain": [
       "HBox(children=(IntProgress(value=0, description='Epoch', max=8), HTML(value='')))"
      ]
     },
     "metadata": {},
     "output_type": "display_data"
    },
    {
     "name": "stdout",
     "output_type": "stream",
     "text": [
      "epoch      trn_loss   val_loss   <lambda>   dice           \n",
      "    0      0.142851   0.038569   0.988547   0.971717  \n",
      "    1      0.101173   0.03713    0.988605   0.975992       \n",
      "    2      0.08908    0.039838   0.986759   0.972326        \n",
      "    3      0.081489   0.029241   0.992063   0.979739        \n",
      "    4      0.079016   0.028968   0.991646   0.97719         \n",
      "    5      0.076655   0.023804   0.992451   0.982042        \n",
      "    6      0.07636    0.024756   0.992738   0.983401        \n",
      "    7      0.07495    0.028137   0.993225   0.983095        \n",
      "\n"
     ]
    },
    {
     "data": {
      "text/plain": [
       "[0.028136500290461948, 0.993224613250248, 0.9830952419175042]"
      ]
     },
     "execution_count": 37,
     "metadata": {},
     "output_type": "execute_result"
    }
   ],
   "source": [
    "learn.fit(lr,1,wds=wd,cycle_len=8,use_clr=(5,8))"
   ]
  },
  {
   "cell_type": "code",
   "execution_count": 38,
   "metadata": {},
   "outputs": [],
   "source": [
    "learn.save('128urn-tmp')"
   ]
  },
  {
   "cell_type": "code",
   "execution_count": 56,
   "metadata": {},
   "outputs": [],
   "source": [
    "learn.load('128urn-tmp')"
   ]
  },
  {
   "cell_type": "code",
   "execution_count": 39,
   "metadata": {},
   "outputs": [],
   "source": [
    "learn.unfreeze()\n",
    "learn.bn_freeze(True)"
   ]
  },
  {
   "cell_type": "code",
   "execution_count": 40,
   "metadata": {
    "scrolled": false
   },
   "outputs": [
    {
     "data": {
      "application/vnd.jupyter.widget-view+json": {
       "model_id": "55d3f172690042b3a9e2d04bbc9fe760",
       "version_major": 2,
       "version_minor": 0
      },
      "text/plain": [
       "HBox(children=(IntProgress(value=0, description='Epoch', max=10), HTML(value='')))"
      ]
     },
     "metadata": {},
     "output_type": "display_data"
    },
    {
     "name": "stdout",
     "output_type": "stream",
     "text": [
      "epoch      trn_loss   val_loss   <lambda>   dice            \n",
      "    0      0.074118   0.020005   0.993274   0.983666  \n",
      "    1      0.073695   0.021194   0.993121   0.984339        \n",
      "    2      0.073121   0.024444   0.993327   0.984351        \n",
      "    3      0.071765   0.021549   0.993588   0.984733        \n",
      "    4      0.072239   0.019336   0.993528   0.985078        \n",
      "    5      0.071364   0.01934    0.993351   0.985128        \n",
      "    6      0.071399   0.018902   0.993654   0.985341        \n",
      "    7      0.071632   0.020567   0.993527   0.985378        \n",
      "    8      0.070797   0.019375   0.993866   0.985641        \n",
      "    9      0.070172   0.019292   0.993802   0.985716        \n",
      "\n"
     ]
    },
    {
     "data": {
      "text/plain": [
       "[0.019291689264632407, 0.9938022683537195, 0.9857159994897389]"
      ]
     },
     "execution_count": 40,
     "metadata": {},
     "output_type": "execute_result"
    }
   ],
   "source": [
    "learn.fit(lrs/2, 1, wds=wd, cycle_len=10,use_clr=(20,10))"
   ]
  },
  {
   "cell_type": "code",
   "execution_count": 41,
   "metadata": {},
   "outputs": [],
   "source": [
    "learn.save('128urn-0')"
   ]
  },
  {
   "cell_type": "code",
   "execution_count": 26,
   "metadata": {},
   "outputs": [],
   "source": [
    "learn.load('128urn-0')"
   ]
  },
  {
   "cell_type": "code",
   "execution_count": 42,
   "metadata": {},
   "outputs": [],
   "source": [
    "x,y = next(iter(md.val_dl))\n",
    "py = to_np(learn.model(V(x)))"
   ]
  },
  {
   "cell_type": "code",
   "execution_count": 43,
   "metadata": {},
   "outputs": [
    {
     "data": {
      "image/png": "[encoded data removed]",
      "text/plain": [
       "<Figure size 432x288 with 1 Axes>"
      ]
     },
     "metadata": {},
     "output_type": "display_data"
    }
   ],
   "source": [
    "show_img(py[0]>0);"
   ]
  },
  {
   "cell_type": "code",
   "execution_count": 44,
   "metadata": {},
   "outputs": [
    {
     "data": {
      "image/png": "[encoded data removed]",
      "text/plain": [
       "<Figure size 432x288 with 1 Axes>"
      ]
     },
     "metadata": {},
     "output_type": "display_data"
    }
   ],
   "source": [
    "show_img(y[0]);"
   ]
  },
  {
   "cell_type": "code",
   "execution_count": 45,
   "metadata": {},
   "outputs": [],
   "source": [
    "m.close()"
   ]
  },
  {
   "cell_type": "markdown",
   "metadata": {},
   "source": [
    "## 512x512"
   ]
  },
  {
   "cell_type": "code",
   "execution_count": 23,
   "metadata": {},
   "outputs": [],
   "source": [
    "TRAIN_DN = 'train'\n",
    "MASKS_DN = 'train_masks_png'"
   ]
  },
  {
   "cell_type": "code",
   "execution_count": 24,
   "metadata": {},
   "outputs": [],
   "source": [
    "sz=512\n",
    "bs=8"
   ]
  },
  {
   "cell_type": "code",
   "execution_count": 25,
   "metadata": {},
   "outputs": [],
   "source": [
    "x_names = np.array([Path(TRAIN_DN)/o for o in masks_csv['img']])\n",
    "y_names = np.array([Path(MASKS_DN)/f'{o[:-4]}_mask.png' for o in masks_csv['img']])"
   ]
  },
  {
   "cell_type": "code",
   "execution_count": 26,
   "metadata": {},
   "outputs": [],
   "source": [
    "val_idxs = list(range(1008))\n",
    "((val_x,trn_x),(val_y,trn_y)) = split_by_idx(val_idxs, x_names, y_names)"
   ]
  },
  {
   "cell_type": "code",
   "execution_count": 27,
   "metadata": {},
   "outputs": [],
   "source": [
    "tfms = tfms_from_model(resnet34, sz, crop_type=CropType.NO, tfm_y=TfmType.CLASS, aug_tfms=aug_tfms)\n",
    "datasets = ImageData.get_ds(MatchedFilesDataset, (trn_x,trn_y), (val_x,val_y), tfms, path=PATH)\n",
    "md = ImageData(PATH, datasets, bs, num_workers=16, classes=None)\n",
    "denorm = md.trn_ds.denorm"
   ]
  },
  {
   "cell_type": "code",
   "execution_count": 28,
   "metadata": {},
   "outputs": [],
   "source": [
    "lr=2e-2\n",
    "wd=1e-7\n",
    "\n",
    "lrs = np.array([lr/200,lr/20,lr])/2"
   ]
  },
  {
   "cell_type": "code",
   "execution_count": 35,
   "metadata": {},
   "outputs": [],
   "source": [
    "m_base = get_base()\n",
    "m = to_gpu(Unet34(m_base))\n",
    "models = UnetModel(m)"
   ]
  },
  {
   "cell_type": "code",
   "execution_count": 36,
   "metadata": {},
   "outputs": [],
   "source": [
    "learn = ConvLearner(md, models)\n",
    "learn.opt_fn=optim.Adam\n",
    "learn.crit=nn.BCEWithLogitsLoss()\n",
    "learn.metrics=[accuracy_thresh(0.5),dice]"
   ]
  },
  {
   "cell_type": "code",
   "execution_count": 37,
   "metadata": {},
   "outputs": [],
   "source": [
    "learn.freeze_to(1)"
   ]
  },
  {
   "cell_type": "code",
   "execution_count": 38,
   "metadata": {
    "scrolled": false
   },
   "outputs": [],
   "source": [
    "learn.load('128urn-0')"
   ]
  },
  {
   "cell_type": "code",
   "execution_count": 39,
   "metadata": {},
   "outputs": [
    {
     "data": {
      "application/vnd.jupyter.widget-view+json": {
       "model_id": "4578d3f60dcc4d2cafd7c62582ab19f3",
       "version_major": 2,
       "version_minor": 0
      },
      "text/plain": [
       "HBox(children=(IntProgress(value=0, description='Epoch', max=5), HTML(value='')))"
      ]
     },
     "metadata": {},
     "output_type": "display_data"
    },
    {
     "name": "stdout",
     "output_type": "stream",
     "text": [
      "epoch      trn_loss   val_loss   <lambda>   dice              \n",
      "    0      0.072306   0.024262   0.995649   0.990836  \n",
      "    1      0.070101   0.018257   0.996652   0.992687          \n",
      "    2      0.068719   0.013143   0.996877   0.992726          \n",
      "    3      0.067462   0.01673    0.997156   0.993161          \n",
      "    4      0.069176   0.010519   0.997248   0.993573          \n",
      "\n"
     ]
    },
    {
     "data": {
      "text/plain": [
       "[0.010519474116523587, 0.9972476694318984, 0.9935726703159393]"
      ]
     },
     "execution_count": 39,
     "metadata": {},
     "output_type": "execute_result"
    }
   ],
   "source": [
    "learn.fit(lr,1,wds=wd, cycle_len=5,use_clr=(5,5))"
   ]
  },
  {
   "cell_type": "code",
   "execution_count": 40,
   "metadata": {},
   "outputs": [],
   "source": [
    "learn.save('512urn-tmp')"
   ]
  },
  {
   "cell_type": "code",
   "execution_count": 41,
   "metadata": {},
   "outputs": [],
   "source": [
    "learn.unfreeze()\n",
    "learn.bn_freeze(True)"
   ]
  },
  {
   "cell_type": "code",
   "execution_count": 38,
   "metadata": {},
   "outputs": [],
   "source": [
    "learn.load('512urn-tmp')"
   ]
  },
  {
   "cell_type": "code",
   "execution_count": 42,
   "metadata": {},
   "outputs": [
    {
     "data": {
      "application/vnd.jupyter.widget-view+json": {
       "model_id": "8d12dfb5b6fd499092869025343e105e",
       "version_major": 2,
       "version_minor": 0
      },
      "text/plain": [
       "HBox(children=(IntProgress(value=0, description='Epoch', max=8), HTML(value='')))"
      ]
     },
     "metadata": {},
     "output_type": "display_data"
    },
    {
     "name": "stdout",
     "output_type": "stream",
     "text": [
      "epoch      trn_loss   val_loss   <lambda>   dice              \n",
      "    0      0.066793   0.009628   0.997183   0.993656  \n",
      "    1      0.064545   0.010879   0.997386   0.993893          \n",
      "    2      0.06125    0.010519   0.997421   0.994018          \n",
      "    3      0.06288    0.01147    0.997403   0.99407           \n",
      "    4      0.064336   0.008862   0.997411   0.994132          \n",
      "    5      0.063767   0.009989   0.997463   0.994194          \n",
      "    6      0.063922   0.009927   0.997504   0.994277          \n",
      "    7      0.06392    0.008977   0.997514   0.994242          \n",
      "\n"
     ]
    },
    {
     "data": {
      "text/plain": [
       "[0.00897712022110465, 0.9975136726621597, 0.9942418502436744]"
      ]
     },
     "execution_count": 42,
     "metadata": {},
     "output_type": "execute_result"
    }
   ],
   "source": [
    "learn.fit(lrs/2,1,wds=wd, cycle_len=8,use_clr=(20,8))"
   ]
  },
  {
   "cell_type": "code",
   "execution_count": 73,
   "metadata": {},
   "outputs": [
    {
     "data": {
      "application/vnd.jupyter.widget-view+json": {
       "model_id": "8768382fe1fe4b8e94e6647899e20575",
       "version_major": 2,
       "version_minor": 0
      },
      "text/plain": [
       "HBox(children=(IntProgress(value=0, description='Epoch', max=8), HTML(value='')))"
      ]
     },
     "metadata": {},
     "output_type": "display_data"
    },
    {
     "name": "stdout",
     "output_type": "stream",
     "text": [
      "epoch      trn_loss   val_loss   <lambda>   dice              \n",
      "    0      0.06605    0.013602   0.997      0.993014  \n",
      "    1      0.066885   0.011252   0.997248   0.993563          \n",
      "    2      0.065796   0.009802   0.997223   0.993817          \n",
      "    3      0.065089   0.009668   0.997296   0.993744          \n",
      "    4      0.064552   0.011683   0.997269   0.993835          \n",
      "    5      0.065089   0.010553   0.997415   0.993827          \n",
      "    6      0.064303   0.009472   0.997431   0.994046          \n",
      "    7      0.062506   0.009623   0.997441   0.994118          \n",
      "\n"
     ]
    },
    {
     "data": {
      "text/plain": [
       "[0.009623114736602894, 0.9974409020136273, 0.9941179137381296]"
      ]
     },
     "execution_count": 73,
     "metadata": {},
     "output_type": "execute_result"
    }
   ],
   "source": [
    "learn.fit(lrs/2,1,wds=wd, cycle_len=8,use_clr=(20,8))"
   ]
  },
  {
   "cell_type": "code",
   "execution_count": 74,
   "metadata": {},
   "outputs": [],
   "source": [
    "learn.save('512urn')"
   ]
  },
  {
   "cell_type": "code",
   "execution_count": 26,
   "metadata": {},
   "outputs": [],
   "source": [
    "learn.load('512urn')"
   ]
  },
  {
   "cell_type": "code",
   "execution_count": 75,
   "metadata": {},
   "outputs": [],
   "source": [
    "x,y = next(iter(md.val_dl))\n",
    "py = to_np(learn.model(V(x)))"
   ]
  },
  {
   "cell_type": "code",
   "execution_count": 76,
   "metadata": {},
   "outputs": [
    {
     "data": {
      "image/png": "[encoded data removed]",
      "text/plain": [
       "<Figure size 432x288 with 1 Axes>"
      ]
     },
     "metadata": {},
     "output_type": "display_data"
    }
   ],
   "source": [
    "show_img(py[0]>0);"
   ]
  },
  {
   "cell_type": "code",
   "execution_count": 77,
   "metadata": {},
   "outputs": [
    {
     "data": {
      "image/png": "[encoded data removed]",
      "text/plain": [
       "<Figure size 432x288 with 1 Axes>"
      ]
     },
     "metadata": {},
     "output_type": "display_data"
    }
   ],
   "source": [
    "show_img(y[0]);"
   ]
  },
  {
   "cell_type": "code",
   "execution_count": 78,
   "metadata": {},
   "outputs": [],
   "source": [
    "m.close()"
   ]
  },
  {
   "cell_type": "markdown",
   "metadata": {},
   "source": [
    "## 1024x1024"
   ]
  },
  {
   "cell_type": "code",
   "execution_count": 26,
   "metadata": {},
   "outputs": [],
   "source": [
    "sz=1024\n",
    "bs=4"
   ]
  },
  {
   "cell_type": "code",
   "execution_count": 27,
   "metadata": {},
   "outputs": [],
   "source": [
    "tfms = tfms_from_model(resnet34, sz, crop_type=CropType.NO, tfm_y=TfmType.CLASS)\n",
    "datasets = ImageData.get_ds(MatchedFilesDataset, (trn_x,trn_y), (val_x,val_y), tfms, path=PATH)\n",
    "md = ImageData(PATH, datasets, bs, num_workers=16, classes=None)\n",
    "denorm = md.trn_ds.denorm"
   ]
  },
  {
   "cell_type": "code",
   "execution_count": 28,
   "metadata": {},
   "outputs": [],
   "source": [
    "m_base = get_base()\n",
    "m = to_gpu(Unet34(m_base))\n",
    "models = UnetModel(m)"
   ]
  },
  {
   "cell_type": "code",
   "execution_count": 29,
   "metadata": {},
   "outputs": [],
   "source": [
    "learn = ConvLearner(md, models)\n",
    "learn.opt_fn=optim.Adam\n",
    "learn.crit=nn.BCEWithLogitsLoss()\n",
    "learn.metrics=[accuracy_thresh(0.5),dice]"
   ]
  },
  {
   "cell_type": "code",
   "execution_count": 30,
   "metadata": {},
   "outputs": [],
   "source": [
    "learn.load('512urn')"
   ]
  },
  {
   "cell_type": "code",
   "execution_count": 31,
   "metadata": {},
   "outputs": [],
   "source": [
    "learn.freeze_to(1)"
   ]
  },
  {
   "cell_type": "code",
   "execution_count": 32,
   "metadata": {},
   "outputs": [
    {
     "data": {
      "application/vnd.jupyter.widget-view+json": {
       "model_id": "a864769b63b7438fa112cf68e2835a0e",
       "version_major": 2,
       "version_minor": 0
      },
      "text/plain": [
       "HBox(children=(IntProgress(value=0, description='Epoch', max=2), HTML(value='')))"
      ]
     },
     "metadata": {},
     "output_type": "display_data"
    },
    {
     "name": "stdout",
     "output_type": "stream",
     "text": [
      "epoch      trn_loss   val_loss   <lambda>   dice                 \n",
      "    0      0.007656   0.008155   0.997247   0.99353   \n",
      "    1      0.004706   0.00509    0.998039   0.995437             \n",
      "\n"
     ]
    },
    {
     "data": {
      "text/plain": [
       "[0.005090427414942828, 0.9980387706605215, 0.995437301104031]"
      ]
     },
     "execution_count": 32,
     "metadata": {},
     "output_type": "execute_result"
    }
   ],
   "source": [
    "learn.fit(lr,1, wds=wd, cycle_len=2,use_clr=(5,4))"
   ]
  },
  {
   "cell_type": "code",
   "execution_count": 33,
   "metadata": {},
   "outputs": [],
   "source": [
    "learn.save('1024urn-tmp')"
   ]
  },
  {
   "cell_type": "code",
   "execution_count": 30,
   "metadata": {},
   "outputs": [],
   "source": [
    "learn.load('1024urn-tmp')"
   ]
  },
  {
   "cell_type": "code",
   "execution_count": 31,
   "metadata": {},
   "outputs": [],
   "source": [
    "learn.unfreeze()\n",
    "learn.bn_freeze(True)"
   ]
  },
  {
   "cell_type": "code",
   "execution_count": 32,
   "metadata": {},
   "outputs": [],
   "source": [
    "lrs = np.array([lr/200,lr/30,lr])"
   ]
  },
  {
   "cell_type": "code",
   "execution_count": 33,
   "metadata": {},
   "outputs": [
    {
     "data": {
      "application/vnd.jupyter.widget-view+json": {
       "model_id": "",
       "version_major": 2,
       "version_minor": 0
      },
      "text/plain": [
       "HBox(children=(IntProgress(value=0, description='Epoch', max=4), HTML(value='')))"
      ]
     },
     "metadata": {},
     "output_type": "display_data"
    },
    {
     "name": "stdout",
     "output_type": "stream",
     "text": [
      "epoch      trn_loss   val_loss   <lambda>   dice                 \n",
      "    0      0.005688   0.006135   0.997616   0.994616  \n",
      "    1      0.004412   0.005223   0.997983   0.995349             \n",
      "    2      0.004186   0.004975   0.99806    0.99554              \n",
      "    3      0.004016   0.004899   0.99812    0.995627             \n",
      "\n"
     ]
    },
    {
     "data": {
      "text/plain": [
       "[0.004898778487196458, 0.9981196409180051, 0.9956271404784823]"
      ]
     },
     "execution_count": 33,
     "metadata": {},
     "output_type": "execute_result"
    }
   ],
   "source": [
    "learn.fit(lrs/10,1, wds=wd,cycle_len=4,use_clr=(20,8))"
   ]
  },
  {
   "cell_type": "code",
   "execution_count": 33,
   "metadata": {},
   "outputs": [
    {
     "data": {
      "application/vnd.jupyter.widget-view+json": {
       "model_id": "6ba1a0b69230449da669623edfd3f6c1",
       "version_major": 2,
       "version_minor": 0
      },
      "text/plain": [
       "HBox(children=(IntProgress(value=0, description='Epoch', max=4), HTML(value='')))"
      ]
     },
     "metadata": {},
     "output_type": "display_data"
    },
    {
     "name": "stdout",
     "output_type": "stream",
     "text": [
      "epoch      trn_loss   val_loss   <lambda>   dice                 \n",
      "    0      0.004169   0.004962   0.998049   0.995517  \n",
      "    1      0.004022   0.004595   0.99823    0.995818             \n",
      "    2      0.003772   0.004497   0.998215   0.995916             \n",
      "    3      0.003618   0.004435   0.998291   0.995991             \n",
      "\n"
     ]
    },
    {
     "data": {
      "text/plain": [
       "[0.004434524739663753, 0.9982911745707194, 0.9959913929776539]"
      ]
     },
     "execution_count": 33,
     "metadata": {},
     "output_type": "execute_result"
    }
   ],
   "source": [
    "learn.fit(lrs/10,1, wds=wd,cycle_len=4,use_clr=(20,8))"
   ]
  },
  {
   "cell_type": "code",
   "execution_count": 34,
   "metadata": {},
   "outputs": [
    {
     "data": {
      "image/png": "[encoded data removed]",
      "text/plain": [
       "<Figure size 432x288 with 1 Axes>"
      ]
     },
     "metadata": {},
     "output_type": "display_data"
    }
   ],
   "source": [
    "learn.sched.plot_loss()"
   ]
  },
  {
   "cell_type": "code",
   "execution_count": 35,
   "metadata": {},
   "outputs": [],
   "source": [
    "learn.save('1024urn')"
   ]
  },
  {
   "cell_type": "code",
   "execution_count": 26,
   "metadata": {},
   "outputs": [],
   "source": [
    "learn.load('1024urn')"
   ]
  },
  {
   "cell_type": "code",
   "execution_count": 36,
   "metadata": {},
   "outputs": [],
   "source": [
    "x,y = next(iter(md.val_dl))\n",
    "py = to_np(learn.model(V(x)))"
   ]
  },
  {
   "cell_type": "code",
   "execution_count": 37,
   "metadata": {},
   "outputs": [
    {
     "data": {
      "image/png": "[encoded data removed]",
      "text/plain": [
       "<Figure size 432x288 with 1 Axes>"
      ]
     },
     "metadata": {},
     "output_type": "display_data"
    }
   ],
   "source": [
    "show_img(py[0]>0);"
   ]
  },
  {
   "cell_type": "code",
   "execution_count": 38,
   "metadata": {},
   "outputs": [
    {
     "data": {
      "image/png": "[encoded data removed]",
      "text/plain": [
       "<Figure size 432x288 with 1 Axes>"
      ]
     },
     "metadata": {},
     "output_type": "display_data"
    }
   ],
   "source": [
    "show_img(y[0]);"
   ]
  },
  {
   "cell_type": "code",
   "execution_count": null,
   "metadata": {},
   "outputs": [],
   "source": []
  }
 ],
 "metadata": {
  "kernelspec": {
   "display_name": "Python 3",
   "language": "python",
   "name": "python3"
  },
  "language_info": {
   "codemirror_mode": {
    "name": "ipython",
    "version": 3
   },
   "file_extension": ".py",
   "mimetype": "text/x-python",
   "name": "python",
   "nbconvert_exporter": "python",
   "pygments_lexer": "ipython3",
   "version": "3.6.5"
  },
  "toc": {
   "colors": {
    "hover_highlight": "#DAA520",
    "navigate_num": "#000000",
    "navigate_text": "#333333",
    "running_highlight": "#FF0000",
    "selected_highlight": "#FFD700",
    "sidebar_border": "#EEEEEE",
    "wrapper_background": "#FFFFFF"
   },
   "moveMenuLeft": true,
   "nav_menu": {
    "height": "86px",
    "width": "252px"
   },
   "navigate_menu": true,
   "number_sections": true,
   "sideBar": true,
   "threshold": 4,
   "toc_cell": false,
   "toc_section_display": "block",
   "toc_window_display": false,
   "widenNotebook": false
  }
 },
 "nbformat": 4,
 "nbformat_minor": 2
}
